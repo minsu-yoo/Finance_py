{
 "cells": [
  {
   "cell_type": "code",
   "execution_count": 1,
   "id": "450b1f5f",
   "metadata": {},
   "outputs": [
    {
     "data": {
      "text/plain": [
       "'0.9.34'"
      ]
     },
     "execution_count": 1,
     "metadata": {},
     "output_type": "execute_result"
    }
   ],
   "source": [
    "import FinanceDataReader as fdr\n",
    "fdr.__version__"
   ]
  },
  {
   "cell_type": "code",
   "execution_count": 2,
   "id": "2b194617",
   "metadata": {},
   "outputs": [],
   "source": [
    "%matplotlib inline\n",
    "import matplotlib.pyplot as plt\n",
    "\n",
    "plt.rcParams[\"axes.grid\"] = True\n",
    "plt.rcParams[\"figure.figsize\"] = (16,8)"
   ]
  },
  {
   "cell_type": "code",
   "execution_count": 3,
   "id": "2d803ea2",
   "metadata": {},
   "outputs": [
    {
     "data": {
      "text/html": [
       "<div>\n",
       "<style scoped>\n",
       "    .dataframe tbody tr th:only-of-type {\n",
       "        vertical-align: middle;\n",
       "    }\n",
       "\n",
       "    .dataframe tbody tr th {\n",
       "        vertical-align: top;\n",
       "    }\n",
       "\n",
       "    .dataframe thead th {\n",
       "        text-align: right;\n",
       "    }\n",
       "</style>\n",
       "<table border=\"1\" class=\"dataframe\">\n",
       "  <thead>\n",
       "    <tr style=\"text-align: right;\">\n",
       "      <th></th>\n",
       "      <th>Open</th>\n",
       "      <th>High</th>\n",
       "      <th>Low</th>\n",
       "      <th>Close</th>\n",
       "      <th>Volume</th>\n",
       "      <th>Change</th>\n",
       "    </tr>\n",
       "    <tr>\n",
       "      <th>Date</th>\n",
       "      <th></th>\n",
       "      <th></th>\n",
       "      <th></th>\n",
       "      <th></th>\n",
       "      <th></th>\n",
       "      <th></th>\n",
       "    </tr>\n",
       "  </thead>\n",
       "  <tbody>\n",
       "    <tr>\n",
       "      <th>2017-01-02</th>\n",
       "      <td>42800</td>\n",
       "      <td>43050</td>\n",
       "      <td>42250</td>\n",
       "      <td>42600</td>\n",
       "      <td>345769</td>\n",
       "      <td>-0.004673</td>\n",
       "    </tr>\n",
       "    <tr>\n",
       "      <th>2017-01-03</th>\n",
       "      <td>42600</td>\n",
       "      <td>43750</td>\n",
       "      <td>42000</td>\n",
       "      <td>43700</td>\n",
       "      <td>956685</td>\n",
       "      <td>0.025822</td>\n",
       "    </tr>\n",
       "    <tr>\n",
       "      <th>2017-01-04</th>\n",
       "      <td>43900</td>\n",
       "      <td>44400</td>\n",
       "      <td>43450</td>\n",
       "      <td>44150</td>\n",
       "      <td>831295</td>\n",
       "      <td>0.010297</td>\n",
       "    </tr>\n",
       "    <tr>\n",
       "      <th>2017-01-05</th>\n",
       "      <td>44200</td>\n",
       "      <td>44200</td>\n",
       "      <td>42550</td>\n",
       "      <td>42800</td>\n",
       "      <td>1128957</td>\n",
       "      <td>-0.030578</td>\n",
       "    </tr>\n",
       "    <tr>\n",
       "      <th>2017-01-06</th>\n",
       "      <td>43000</td>\n",
       "      <td>43000</td>\n",
       "      <td>42300</td>\n",
       "      <td>42650</td>\n",
       "      <td>1338299</td>\n",
       "      <td>-0.003505</td>\n",
       "    </tr>\n",
       "    <tr>\n",
       "      <th>2017-01-09</th>\n",
       "      <td>42650</td>\n",
       "      <td>42700</td>\n",
       "      <td>42150</td>\n",
       "      <td>42400</td>\n",
       "      <td>795293</td>\n",
       "      <td>-0.005862</td>\n",
       "    </tr>\n",
       "    <tr>\n",
       "      <th>2017-01-10</th>\n",
       "      <td>43000</td>\n",
       "      <td>43400</td>\n",
       "      <td>42650</td>\n",
       "      <td>43250</td>\n",
       "      <td>1093427</td>\n",
       "      <td>0.020047</td>\n",
       "    </tr>\n",
       "    <tr>\n",
       "      <th>2017-01-11</th>\n",
       "      <td>42700</td>\n",
       "      <td>43700</td>\n",
       "      <td>42700</td>\n",
       "      <td>43350</td>\n",
       "      <td>912080</td>\n",
       "      <td>0.002312</td>\n",
       "    </tr>\n",
       "    <tr>\n",
       "      <th>2017-01-12</th>\n",
       "      <td>43600</td>\n",
       "      <td>44100</td>\n",
       "      <td>43350</td>\n",
       "      <td>44100</td>\n",
       "      <td>1011997</td>\n",
       "      <td>0.017301</td>\n",
       "    </tr>\n",
       "    <tr>\n",
       "      <th>2017-01-13</th>\n",
       "      <td>43500</td>\n",
       "      <td>44300</td>\n",
       "      <td>43400</td>\n",
       "      <td>43850</td>\n",
       "      <td>861598</td>\n",
       "      <td>-0.005669</td>\n",
       "    </tr>\n",
       "    <tr>\n",
       "      <th>2017-01-16</th>\n",
       "      <td>44100</td>\n",
       "      <td>45250</td>\n",
       "      <td>43950</td>\n",
       "      <td>45150</td>\n",
       "      <td>1474423</td>\n",
       "      <td>0.029647</td>\n",
       "    </tr>\n",
       "    <tr>\n",
       "      <th>2017-01-17</th>\n",
       "      <td>45300</td>\n",
       "      <td>46100</td>\n",
       "      <td>45100</td>\n",
       "      <td>45850</td>\n",
       "      <td>1222286</td>\n",
       "      <td>0.015504</td>\n",
       "    </tr>\n",
       "    <tr>\n",
       "      <th>2017-01-18</th>\n",
       "      <td>45400</td>\n",
       "      <td>46000</td>\n",
       "      <td>45100</td>\n",
       "      <td>45800</td>\n",
       "      <td>611897</td>\n",
       "      <td>-0.001091</td>\n",
       "    </tr>\n",
       "    <tr>\n",
       "      <th>2017-01-19</th>\n",
       "      <td>45400</td>\n",
       "      <td>46200</td>\n",
       "      <td>45400</td>\n",
       "      <td>45550</td>\n",
       "      <td>467486</td>\n",
       "      <td>-0.005459</td>\n",
       "    </tr>\n",
       "    <tr>\n",
       "      <th>2017-01-20</th>\n",
       "      <td>45300</td>\n",
       "      <td>45850</td>\n",
       "      <td>45300</td>\n",
       "      <td>45400</td>\n",
       "      <td>587244</td>\n",
       "      <td>-0.003293</td>\n",
       "    </tr>\n",
       "  </tbody>\n",
       "</table>\n",
       "</div>"
      ],
      "text/plain": [
       "             Open   High    Low  Close   Volume    Change\n",
       "Date                                                     \n",
       "2017-01-02  42800  43050  42250  42600   345769 -0.004673\n",
       "2017-01-03  42600  43750  42000  43700   956685  0.025822\n",
       "2017-01-04  43900  44400  43450  44150   831295  0.010297\n",
       "2017-01-05  44200  44200  42550  42800  1128957 -0.030578\n",
       "2017-01-06  43000  43000  42300  42650  1338299 -0.003505\n",
       "2017-01-09  42650  42700  42150  42400   795293 -0.005862\n",
       "2017-01-10  43000  43400  42650  43250  1093427  0.020047\n",
       "2017-01-11  42700  43700  42700  43350   912080  0.002312\n",
       "2017-01-12  43600  44100  43350  44100  1011997  0.017301\n",
       "2017-01-13  43500  44300  43400  43850   861598 -0.005669\n",
       "2017-01-16  44100  45250  43950  45150  1474423  0.029647\n",
       "2017-01-17  45300  46100  45100  45850  1222286  0.015504\n",
       "2017-01-18  45400  46000  45100  45800   611897 -0.001091\n",
       "2017-01-19  45400  46200  45400  45550   467486 -0.005459\n",
       "2017-01-20  45300  45850  45300  45400   587244 -0.003293"
      ]
     },
     "execution_count": 3,
     "metadata": {},
     "output_type": "execute_result"
    }
   ],
   "source": [
    "import FinanceDataReader as fdr\n",
    "\n",
    "# KB Finance(105560)\n",
    "df = fdr.DataReader('105560', '2017-01-01', '2017-12-31')\n",
    "df.head(15)"
   ]
  },
  {
   "cell_type": "code",
   "execution_count": 35,
   "id": "f9dd7e62",
   "metadata": {},
   "outputs": [],
   "source": [
    "url = 'http://kind.krx.co.kr/corpgeneral/corpList.do?method='\\\n",
    "            'download&searchType=13'\n",
    "krx = pd.read_html(url, header=0)[0]\n",
    "krx = krx[['종목코드', '회사명']]\n",
    "krx = krx.rename(columns={'종목코드': 'code', '회사명': 'company'})\n",
    "krx.code = krx.code.map('{:06d}'.format)"
   ]
  },
  {
   "cell_type": "code",
   "execution_count": 36,
   "id": "f3c2677f",
   "metadata": {},
   "outputs": [
    {
     "data": {
      "text/plain": [
       "0       000210\n",
       "1       004840\n",
       "2       155660\n",
       "3       078930\n",
       "4       294870\n",
       "         ...  \n",
       "2531    169670\n",
       "2532    318660\n",
       "2533    222670\n",
       "2534    331660\n",
       "2535    212310\n",
       "Name: code, Length: 2536, dtype: object"
      ]
     },
     "execution_count": 36,
     "metadata": {},
     "output_type": "execute_result"
    }
   ],
   "source": [
    "krx.code"
   ]
  },
  {
   "cell_type": "code",
   "execution_count": 4,
   "id": "d20f18cd",
   "metadata": {},
   "outputs": [],
   "source": [
    "df_krx = fdr.StockListing('KRX')\n",
    "tiker_list = list(df_krx.Symbol)"
   ]
  },
  {
   "cell_type": "code",
   "execution_count": 6,
   "id": "88cdd781",
   "metadata": {
    "scrolled": false
   },
   "outputs": [
    {
     "data": {
      "text/plain": [
       "7029"
      ]
     },
     "execution_count": 6,
     "metadata": {},
     "output_type": "execute_result"
    }
   ],
   "source": [
    "len(tiker_list)"
   ]
  },
  {
   "cell_type": "code",
   "execution_count": 10,
   "id": "fb71d672",
   "metadata": {},
   "outputs": [
    {
     "data": {
      "text/plain": [
       "'060310'"
      ]
     },
     "execution_count": 10,
     "metadata": {},
     "output_type": "execute_result"
    }
   ],
   "source": [
    "tiker_list[0]"
   ]
  },
  {
   "cell_type": "code",
   "execution_count": 7,
   "id": "509a554a",
   "metadata": {
    "scrolled": true
   },
   "outputs": [
    {
     "data": {
      "text/html": [
       "<div>\n",
       "<style scoped>\n",
       "    .dataframe tbody tr th:only-of-type {\n",
       "        vertical-align: middle;\n",
       "    }\n",
       "\n",
       "    .dataframe tbody tr th {\n",
       "        vertical-align: top;\n",
       "    }\n",
       "\n",
       "    .dataframe thead th {\n",
       "        text-align: right;\n",
       "    }\n",
       "</style>\n",
       "<table border=\"1\" class=\"dataframe\">\n",
       "  <thead>\n",
       "    <tr style=\"text-align: right;\">\n",
       "      <th></th>\n",
       "      <th>Symbol</th>\n",
       "      <th>Market</th>\n",
       "      <th>Name</th>\n",
       "      <th>Sector</th>\n",
       "      <th>Industry</th>\n",
       "      <th>ListingDate</th>\n",
       "      <th>SettleMonth</th>\n",
       "      <th>Representative</th>\n",
       "      <th>HomePage</th>\n",
       "      <th>Region</th>\n",
       "    </tr>\n",
       "  </thead>\n",
       "  <tbody>\n",
       "    <tr>\n",
       "      <th>0</th>\n",
       "      <td>060310</td>\n",
       "      <td>KOSDAQ</td>\n",
       "      <td>3S</td>\n",
       "      <td>전자부품 제조업</td>\n",
       "      <td>반도체 웨이퍼 캐리어</td>\n",
       "      <td>2002-04-23</td>\n",
       "      <td>03월</td>\n",
       "      <td>김세완</td>\n",
       "      <td>http://www.3sref.com</td>\n",
       "      <td>서울특별시</td>\n",
       "    </tr>\n",
       "    <tr>\n",
       "      <th>1</th>\n",
       "      <td>105190</td>\n",
       "      <td>KOSPI</td>\n",
       "      <td>ACE 200</td>\n",
       "      <td>NaN</td>\n",
       "      <td>NaN</td>\n",
       "      <td>NaT</td>\n",
       "      <td>NaN</td>\n",
       "      <td>NaN</td>\n",
       "      <td>NaN</td>\n",
       "      <td>NaN</td>\n",
       "    </tr>\n",
       "    <tr>\n",
       "      <th>2</th>\n",
       "      <td>332500</td>\n",
       "      <td>KOSPI</td>\n",
       "      <td>ACE 200TR</td>\n",
       "      <td>NaN</td>\n",
       "      <td>NaN</td>\n",
       "      <td>NaT</td>\n",
       "      <td>NaN</td>\n",
       "      <td>NaN</td>\n",
       "      <td>NaN</td>\n",
       "      <td>NaN</td>\n",
       "    </tr>\n",
       "    <tr>\n",
       "      <th>3</th>\n",
       "      <td>385590</td>\n",
       "      <td>KOSPI</td>\n",
       "      <td>ACE ESG액티브</td>\n",
       "      <td>NaN</td>\n",
       "      <td>NaN</td>\n",
       "      <td>NaT</td>\n",
       "      <td>NaN</td>\n",
       "      <td>NaN</td>\n",
       "      <td>NaN</td>\n",
       "      <td>NaN</td>\n",
       "    </tr>\n",
       "    <tr>\n",
       "      <th>4</th>\n",
       "      <td>380340</td>\n",
       "      <td>KOSPI</td>\n",
       "      <td>ACE Fn5G플러스</td>\n",
       "      <td>NaN</td>\n",
       "      <td>NaN</td>\n",
       "      <td>NaT</td>\n",
       "      <td>NaN</td>\n",
       "      <td>NaN</td>\n",
       "      <td>NaN</td>\n",
       "      <td>NaN</td>\n",
       "    </tr>\n",
       "  </tbody>\n",
       "</table>\n",
       "</div>"
      ],
      "text/plain": [
       "   Symbol  Market         Name    Sector     Industry ListingDate SettleMonth  \\\n",
       "0  060310  KOSDAQ           3S  전자부품 제조업  반도체 웨이퍼 캐리어  2002-04-23         03월   \n",
       "1  105190   KOSPI      ACE 200       NaN          NaN         NaT         NaN   \n",
       "2  332500   KOSPI    ACE 200TR       NaN          NaN         NaT         NaN   \n",
       "3  385590   KOSPI   ACE ESG액티브       NaN          NaN         NaT         NaN   \n",
       "4  380340   KOSPI  ACE Fn5G플러스       NaN          NaN         NaT         NaN   \n",
       "\n",
       "  Representative              HomePage Region  \n",
       "0            김세완  http://www.3sref.com  서울특별시  \n",
       "1            NaN                   NaN    NaN  \n",
       "2            NaN                   NaN    NaN  \n",
       "3            NaN                   NaN    NaN  \n",
       "4            NaN                   NaN    NaN  "
      ]
     },
     "execution_count": 7,
     "metadata": {},
     "output_type": "execute_result"
    }
   ],
   "source": [
    "df_krx.head()\n"
   ]
  },
  {
   "cell_type": "code",
   "execution_count": null,
   "id": "cce29d6e",
   "metadata": {},
   "outputs": [],
   "source": [
    "035420"
   ]
  },
  {
   "cell_type": "code",
   "execution_count": 8,
   "id": "8782461d",
   "metadata": {},
   "outputs": [],
   "source": [
    "import pandas as pd\n"
   ]
  },
  {
   "cell_type": "code",
   "execution_count": 20,
   "id": "c7278c5f",
   "metadata": {
    "scrolled": true
   },
   "outputs": [
    {
     "data": {
      "text/html": [
       "<div>\n",
       "<style scoped>\n",
       "    .dataframe tbody tr th:only-of-type {\n",
       "        vertical-align: middle;\n",
       "    }\n",
       "\n",
       "    .dataframe tbody tr th {\n",
       "        vertical-align: top;\n",
       "    }\n",
       "\n",
       "    .dataframe thead th {\n",
       "        text-align: right;\n",
       "    }\n",
       "</style>\n",
       "<table border=\"1\" class=\"dataframe\">\n",
       "  <thead>\n",
       "    <tr style=\"text-align: right;\">\n",
       "      <th></th>\n",
       "      <th>Symbol</th>\n",
       "      <th>Market</th>\n",
       "      <th>Name</th>\n",
       "      <th>Sector</th>\n",
       "      <th>Industry</th>\n",
       "      <th>ListingDate</th>\n",
       "      <th>SettleMonth</th>\n",
       "      <th>Representative</th>\n",
       "      <th>HomePage</th>\n",
       "      <th>Region</th>\n",
       "    </tr>\n",
       "  </thead>\n",
       "  <tbody>\n",
       "    <tr>\n",
       "      <th>0</th>\n",
       "      <td>060310</td>\n",
       "      <td>KOSDAQ</td>\n",
       "      <td>3S</td>\n",
       "      <td>전자부품 제조업</td>\n",
       "      <td>반도체 웨이퍼 캐리어</td>\n",
       "      <td>2002-04-23</td>\n",
       "      <td>03월</td>\n",
       "      <td>김세완</td>\n",
       "      <td>http://www.3sref.com</td>\n",
       "      <td>서울특별시</td>\n",
       "    </tr>\n",
       "    <tr>\n",
       "      <th>1</th>\n",
       "      <td>105190</td>\n",
       "      <td>KOSPI</td>\n",
       "      <td>ACE 200</td>\n",
       "      <td>NaN</td>\n",
       "      <td>NaN</td>\n",
       "      <td>NaT</td>\n",
       "      <td>NaN</td>\n",
       "      <td>NaN</td>\n",
       "      <td>NaN</td>\n",
       "      <td>NaN</td>\n",
       "    </tr>\n",
       "    <tr>\n",
       "      <th>2</th>\n",
       "      <td>332500</td>\n",
       "      <td>KOSPI</td>\n",
       "      <td>ACE 200TR</td>\n",
       "      <td>NaN</td>\n",
       "      <td>NaN</td>\n",
       "      <td>NaT</td>\n",
       "      <td>NaN</td>\n",
       "      <td>NaN</td>\n",
       "      <td>NaN</td>\n",
       "      <td>NaN</td>\n",
       "    </tr>\n",
       "    <tr>\n",
       "      <th>3</th>\n",
       "      <td>385590</td>\n",
       "      <td>KOSPI</td>\n",
       "      <td>ACE ESG액티브</td>\n",
       "      <td>NaN</td>\n",
       "      <td>NaN</td>\n",
       "      <td>NaT</td>\n",
       "      <td>NaN</td>\n",
       "      <td>NaN</td>\n",
       "      <td>NaN</td>\n",
       "      <td>NaN</td>\n",
       "    </tr>\n",
       "    <tr>\n",
       "      <th>4</th>\n",
       "      <td>380340</td>\n",
       "      <td>KOSPI</td>\n",
       "      <td>ACE Fn5G플러스</td>\n",
       "      <td>NaN</td>\n",
       "      <td>NaN</td>\n",
       "      <td>NaT</td>\n",
       "      <td>NaN</td>\n",
       "      <td>NaN</td>\n",
       "      <td>NaN</td>\n",
       "      <td>NaN</td>\n",
       "    </tr>\n",
       "    <tr>\n",
       "      <th>...</th>\n",
       "      <td>...</td>\n",
       "      <td>...</td>\n",
       "      <td>...</td>\n",
       "      <td>...</td>\n",
       "      <td>...</td>\n",
       "      <td>...</td>\n",
       "      <td>...</td>\n",
       "      <td>...</td>\n",
       "      <td>...</td>\n",
       "      <td>...</td>\n",
       "    </tr>\n",
       "    <tr>\n",
       "      <th>7024</th>\n",
       "      <td>435550</td>\n",
       "      <td>KOSPI</td>\n",
       "      <td>히어로즈 TDF2050액티브</td>\n",
       "      <td>NaN</td>\n",
       "      <td>NaN</td>\n",
       "      <td>NaT</td>\n",
       "      <td>NaN</td>\n",
       "      <td>NaN</td>\n",
       "      <td>NaN</td>\n",
       "      <td>NaN</td>\n",
       "    </tr>\n",
       "    <tr>\n",
       "      <th>7025</th>\n",
       "      <td>437550</td>\n",
       "      <td>KOSPI</td>\n",
       "      <td>히어로즈 글로벌리츠이지스액티브</td>\n",
       "      <td>NaN</td>\n",
       "      <td>NaN</td>\n",
       "      <td>NaT</td>\n",
       "      <td>NaN</td>\n",
       "      <td>NaN</td>\n",
       "      <td>NaN</td>\n",
       "      <td>NaN</td>\n",
       "    </tr>\n",
       "    <tr>\n",
       "      <th>7026</th>\n",
       "      <td>419890</td>\n",
       "      <td>KOSPI</td>\n",
       "      <td>히어로즈 단기채권ESG액티브</td>\n",
       "      <td>NaN</td>\n",
       "      <td>NaN</td>\n",
       "      <td>NaT</td>\n",
       "      <td>NaN</td>\n",
       "      <td>NaN</td>\n",
       "      <td>NaN</td>\n",
       "      <td>NaN</td>\n",
       "    </tr>\n",
       "    <tr>\n",
       "      <th>7027</th>\n",
       "      <td>429870</td>\n",
       "      <td>KOSPI</td>\n",
       "      <td>히어로즈 리츠이지스액티브</td>\n",
       "      <td>NaN</td>\n",
       "      <td>NaN</td>\n",
       "      <td>NaT</td>\n",
       "      <td>NaN</td>\n",
       "      <td>NaN</td>\n",
       "      <td>NaN</td>\n",
       "      <td>NaN</td>\n",
       "    </tr>\n",
       "    <tr>\n",
       "      <th>7028</th>\n",
       "      <td>238490</td>\n",
       "      <td>KOSDAQ</td>\n",
       "      <td>힘스</td>\n",
       "      <td>특수 목적용 기계 제조업</td>\n",
       "      <td>OLED Mask 인장기, OLED Mask 검사기 등</td>\n",
       "      <td>2017-07-20</td>\n",
       "      <td>12월</td>\n",
       "      <td>김주환</td>\n",
       "      <td>http://www.hims.co.kr</td>\n",
       "      <td>인천광역시</td>\n",
       "    </tr>\n",
       "  </tbody>\n",
       "</table>\n",
       "<p>7029 rows × 10 columns</p>\n",
       "</div>"
      ],
      "text/plain": [
       "      Symbol  Market              Name         Sector  \\\n",
       "0     060310  KOSDAQ                3S       전자부품 제조업   \n",
       "1     105190   KOSPI           ACE 200            NaN   \n",
       "2     332500   KOSPI         ACE 200TR            NaN   \n",
       "3     385590   KOSPI        ACE ESG액티브            NaN   \n",
       "4     380340   KOSPI       ACE Fn5G플러스            NaN   \n",
       "...      ...     ...               ...            ...   \n",
       "7024  435550   KOSPI   히어로즈 TDF2050액티브            NaN   \n",
       "7025  437550   KOSPI  히어로즈 글로벌리츠이지스액티브            NaN   \n",
       "7026  419890   KOSPI   히어로즈 단기채권ESG액티브            NaN   \n",
       "7027  429870   KOSPI     히어로즈 리츠이지스액티브            NaN   \n",
       "7028  238490  KOSDAQ                힘스  특수 목적용 기계 제조업   \n",
       "\n",
       "                            Industry ListingDate SettleMonth Representative  \\\n",
       "0                        반도체 웨이퍼 캐리어  2002-04-23         03월            김세완   \n",
       "1                                NaN         NaT         NaN            NaN   \n",
       "2                                NaN         NaT         NaN            NaN   \n",
       "3                                NaN         NaT         NaN            NaN   \n",
       "4                                NaN         NaT         NaN            NaN   \n",
       "...                              ...         ...         ...            ...   \n",
       "7024                             NaN         NaT         NaN            NaN   \n",
       "7025                             NaN         NaT         NaN            NaN   \n",
       "7026                             NaN         NaT         NaN            NaN   \n",
       "7027                             NaN         NaT         NaN            NaN   \n",
       "7028  OLED Mask 인장기, OLED Mask 검사기 등  2017-07-20         12월            김주환   \n",
       "\n",
       "                   HomePage Region  \n",
       "0      http://www.3sref.com  서울특별시  \n",
       "1                       NaN    NaN  \n",
       "2                       NaN    NaN  \n",
       "3                       NaN    NaN  \n",
       "4                       NaN    NaN  \n",
       "...                     ...    ...  \n",
       "7024                    NaN    NaN  \n",
       "7025                    NaN    NaN  \n",
       "7026                    NaN    NaN  \n",
       "7027                    NaN    NaN  \n",
       "7028  http://www.hims.co.kr  인천광역시  \n",
       "\n",
       "[7029 rows x 10 columns]"
      ]
     },
     "execution_count": 20,
     "metadata": {},
     "output_type": "execute_result"
    }
   ],
   "source": [
    "df_krx"
   ]
  },
  {
   "cell_type": "code",
   "execution_count": 26,
   "id": "60706cb2",
   "metadata": {},
   "outputs": [],
   "source": [
    "kospi_index = df_krx.index[df_krx['Market'] == \"KOSDAQ\"].tolist()\n"
   ]
  },
  {
   "cell_type": "code",
   "execution_count": 29,
   "id": "c0ce41e5",
   "metadata": {},
   "outputs": [],
   "source": [
    "naver_index = df_krx.index[df_krx['Symbol'] == '035420'].tolist()"
   ]
  },
  {
   "cell_type": "code",
   "execution_count": 30,
   "id": "28648105",
   "metadata": {
    "scrolled": false
   },
   "outputs": [
    {
     "data": {
      "text/plain": [
       "1"
      ]
     },
     "execution_count": 30,
     "metadata": {},
     "output_type": "execute_result"
    }
   ],
   "source": [
    "len(naver_index)"
   ]
  },
  {
   "cell_type": "code",
   "execution_count": 31,
   "id": "606022c1",
   "metadata": {},
   "outputs": [
    {
     "data": {
      "text/plain": [
       "[1334]"
      ]
     },
     "execution_count": 31,
     "metadata": {},
     "output_type": "execute_result"
    }
   ],
   "source": [
    "naver_index"
   ]
  },
  {
   "cell_type": "markdown",
   "id": "ad88378a",
   "metadata": {},
   "source": [
    "###  공부를 해야 한다. \n",
    "맞아. 맞아. 그래야 하지. "
   ]
  },
  {
   "cell_type": "code",
   "execution_count": 34,
   "id": "12135180",
   "metadata": {
    "scrolled": false
   },
   "outputs": [
    {
     "data": {
      "text/plain": [
       "Symbol                                      035420\n",
       "Market                                       KOSPI\n",
       "Name                                         NAVER\n",
       "Sector            자료처리, 호스팅, 포털 및 기타 인터넷 정보매개 서비스업\n",
       "Industry                           포털 서비스 및 온라인 광고\n",
       "ListingDate                    2008-11-28 00:00:00\n",
       "SettleMonth                                    12월\n",
       "Representative                                 최수연\n",
       "HomePage                  http://www.navercorp.com\n",
       "Region                                         경기도\n",
       "Name: 1334, dtype: object"
      ]
     },
     "execution_count": 34,
     "metadata": {},
     "output_type": "execute_result"
    }
   ],
   "source": [
    "df_krx.iloc[1334]"
   ]
  },
  {
   "cell_type": "code",
   "execution_count": 12,
   "id": "953a40ed",
   "metadata": {
    "scrolled": false
   },
   "outputs": [
    {
     "data": {
      "text/plain": [
       "Date\n",
       "2010-01-04    1137353\n",
       "2010-01-05     744091\n",
       "2010-01-06     410717\n",
       "2010-01-07    1138507\n",
       "2010-01-08     480875\n",
       "               ...   \n",
       "2018-12-21      86462\n",
       "2018-12-24     143660\n",
       "2018-12-26     284542\n",
       "2018-12-27      99550\n",
       "2018-12-28      49523\n",
       "Name: Volume, Length: 2220, dtype: int64"
      ]
     },
     "execution_count": 12,
     "metadata": {},
     "output_type": "execute_result"
    }
   ],
   "source": [
    "fdr.DataReader(tiker_list[0], '2010-01-01', '2018-12-28')['Volume']"
   ]
  },
  {
   "cell_type": "code",
   "execution_count": 13,
   "id": "f1f0097a",
   "metadata": {
    "collapsed": true
   },
   "outputs": [
    {
     "ename": "KeyError",
     "evalue": "'Volume'",
     "output_type": "error",
     "traceback": [
      "\u001b[0;31m---------------------------------------------------------------------------\u001b[0m",
      "\u001b[0;31mKeyError\u001b[0m                                  Traceback (most recent call last)",
      "File \u001b[0;32m~/opt/anaconda3/lib/python3.9/site-packages/pandas/core/indexes/base.py:3621\u001b[0m, in \u001b[0;36mIndex.get_loc\u001b[0;34m(self, key, method, tolerance)\u001b[0m\n\u001b[1;32m   3620\u001b[0m \u001b[38;5;28;01mtry\u001b[39;00m:\n\u001b[0;32m-> 3621\u001b[0m     \u001b[38;5;28;01mreturn\u001b[39;00m \u001b[38;5;28;43mself\u001b[39;49m\u001b[38;5;241;43m.\u001b[39;49m\u001b[43m_engine\u001b[49m\u001b[38;5;241;43m.\u001b[39;49m\u001b[43mget_loc\u001b[49m\u001b[43m(\u001b[49m\u001b[43mcasted_key\u001b[49m\u001b[43m)\u001b[49m\n\u001b[1;32m   3622\u001b[0m \u001b[38;5;28;01mexcept\u001b[39;00m \u001b[38;5;167;01mKeyError\u001b[39;00m \u001b[38;5;28;01mas\u001b[39;00m err:\n",
      "File \u001b[0;32m~/opt/anaconda3/lib/python3.9/site-packages/pandas/_libs/index.pyx:136\u001b[0m, in \u001b[0;36mpandas._libs.index.IndexEngine.get_loc\u001b[0;34m()\u001b[0m\n",
      "File \u001b[0;32m~/opt/anaconda3/lib/python3.9/site-packages/pandas/_libs/index.pyx:163\u001b[0m, in \u001b[0;36mpandas._libs.index.IndexEngine.get_loc\u001b[0;34m()\u001b[0m\n",
      "File \u001b[0;32mpandas/_libs/hashtable_class_helper.pxi:5198\u001b[0m, in \u001b[0;36mpandas._libs.hashtable.PyObjectHashTable.get_item\u001b[0;34m()\u001b[0m\n",
      "File \u001b[0;32mpandas/_libs/hashtable_class_helper.pxi:5206\u001b[0m, in \u001b[0;36mpandas._libs.hashtable.PyObjectHashTable.get_item\u001b[0;34m()\u001b[0m\n",
      "\u001b[0;31mKeyError\u001b[0m: 'Volume'",
      "\nThe above exception was the direct cause of the following exception:\n",
      "\u001b[0;31mKeyError\u001b[0m                                  Traceback (most recent call last)",
      "Input \u001b[0;32mIn [13]\u001b[0m, in \u001b[0;36m<cell line: 1>\u001b[0;34m()\u001b[0m\n\u001b[0;32m----> 1\u001b[0m df_list_volume \u001b[38;5;241m=\u001b[39m [fdr\u001b[38;5;241m.\u001b[39mDataReader(ticker, \u001b[38;5;124m'\u001b[39m\u001b[38;5;124m2010-01-01\u001b[39m\u001b[38;5;124m'\u001b[39m, \u001b[38;5;124m'\u001b[39m\u001b[38;5;124m2018-12-28\u001b[39m\u001b[38;5;124m'\u001b[39m)[\u001b[38;5;124m'\u001b[39m\u001b[38;5;124mVolume\u001b[39m\u001b[38;5;124m'\u001b[39m] \u001b[38;5;28;01mfor\u001b[39;00m ticker \u001b[38;5;129;01min\u001b[39;00m tiker_list]\n",
      "Input \u001b[0;32mIn [13]\u001b[0m, in \u001b[0;36m<listcomp>\u001b[0;34m(.0)\u001b[0m\n\u001b[0;32m----> 1\u001b[0m df_list_volume \u001b[38;5;241m=\u001b[39m [\u001b[43mfdr\u001b[49m\u001b[38;5;241;43m.\u001b[39;49m\u001b[43mDataReader\u001b[49m\u001b[43m(\u001b[49m\u001b[43mticker\u001b[49m\u001b[43m,\u001b[49m\u001b[43m \u001b[49m\u001b[38;5;124;43m'\u001b[39;49m\u001b[38;5;124;43m2010-01-01\u001b[39;49m\u001b[38;5;124;43m'\u001b[39;49m\u001b[43m,\u001b[49m\u001b[43m \u001b[49m\u001b[38;5;124;43m'\u001b[39;49m\u001b[38;5;124;43m2018-12-28\u001b[39;49m\u001b[38;5;124;43m'\u001b[39;49m\u001b[43m)\u001b[49m\u001b[43m[\u001b[49m\u001b[38;5;124;43m'\u001b[39;49m\u001b[38;5;124;43mVolume\u001b[39;49m\u001b[38;5;124;43m'\u001b[39;49m\u001b[43m]\u001b[49m \u001b[38;5;28;01mfor\u001b[39;00m ticker \u001b[38;5;129;01min\u001b[39;00m tiker_list]\n",
      "File \u001b[0;32m~/opt/anaconda3/lib/python3.9/site-packages/pandas/core/frame.py:3505\u001b[0m, in \u001b[0;36mDataFrame.__getitem__\u001b[0;34m(self, key)\u001b[0m\n\u001b[1;32m   3503\u001b[0m \u001b[38;5;28;01mif\u001b[39;00m \u001b[38;5;28mself\u001b[39m\u001b[38;5;241m.\u001b[39mcolumns\u001b[38;5;241m.\u001b[39mnlevels \u001b[38;5;241m>\u001b[39m \u001b[38;5;241m1\u001b[39m:\n\u001b[1;32m   3504\u001b[0m     \u001b[38;5;28;01mreturn\u001b[39;00m \u001b[38;5;28mself\u001b[39m\u001b[38;5;241m.\u001b[39m_getitem_multilevel(key)\n\u001b[0;32m-> 3505\u001b[0m indexer \u001b[38;5;241m=\u001b[39m \u001b[38;5;28;43mself\u001b[39;49m\u001b[38;5;241;43m.\u001b[39;49m\u001b[43mcolumns\u001b[49m\u001b[38;5;241;43m.\u001b[39;49m\u001b[43mget_loc\u001b[49m\u001b[43m(\u001b[49m\u001b[43mkey\u001b[49m\u001b[43m)\u001b[49m\n\u001b[1;32m   3506\u001b[0m \u001b[38;5;28;01mif\u001b[39;00m is_integer(indexer):\n\u001b[1;32m   3507\u001b[0m     indexer \u001b[38;5;241m=\u001b[39m [indexer]\n",
      "File \u001b[0;32m~/opt/anaconda3/lib/python3.9/site-packages/pandas/core/indexes/base.py:3623\u001b[0m, in \u001b[0;36mIndex.get_loc\u001b[0;34m(self, key, method, tolerance)\u001b[0m\n\u001b[1;32m   3621\u001b[0m     \u001b[38;5;28;01mreturn\u001b[39;00m \u001b[38;5;28mself\u001b[39m\u001b[38;5;241m.\u001b[39m_engine\u001b[38;5;241m.\u001b[39mget_loc(casted_key)\n\u001b[1;32m   3622\u001b[0m \u001b[38;5;28;01mexcept\u001b[39;00m \u001b[38;5;167;01mKeyError\u001b[39;00m \u001b[38;5;28;01mas\u001b[39;00m err:\n\u001b[0;32m-> 3623\u001b[0m     \u001b[38;5;28;01mraise\u001b[39;00m \u001b[38;5;167;01mKeyError\u001b[39;00m(key) \u001b[38;5;28;01mfrom\u001b[39;00m \u001b[38;5;21;01merr\u001b[39;00m\n\u001b[1;32m   3624\u001b[0m \u001b[38;5;28;01mexcept\u001b[39;00m \u001b[38;5;167;01mTypeError\u001b[39;00m:\n\u001b[1;32m   3625\u001b[0m     \u001b[38;5;66;03m# If we have a listlike key, _check_indexing_error will raise\u001b[39;00m\n\u001b[1;32m   3626\u001b[0m     \u001b[38;5;66;03m#  InvalidIndexError. Otherwise we fall through and re-raise\u001b[39;00m\n\u001b[1;32m   3627\u001b[0m     \u001b[38;5;66;03m#  the TypeError.\u001b[39;00m\n\u001b[1;32m   3628\u001b[0m     \u001b[38;5;28mself\u001b[39m\u001b[38;5;241m.\u001b[39m_check_indexing_error(key)\n",
      "\u001b[0;31mKeyError\u001b[0m: 'Volume'"
     ]
    }
   ],
   "source": [
    "df_list_volume = [fdr.DataReader(ticker, '2010-01-01', '2018-12-28')['Volume'] for ticker in tiker_list]\n"
   ]
  },
  {
   "cell_type": "code",
   "execution_count": 14,
   "id": "43814112",
   "metadata": {},
   "outputs": [
    {
     "data": {
      "text/plain": [
       "'060310'"
      ]
     },
     "execution_count": 14,
     "metadata": {},
     "output_type": "execute_result"
    }
   ],
   "source": [
    "tiker_list[0]"
   ]
  },
  {
   "cell_type": "code",
   "execution_count": null,
   "id": "d420f86b",
   "metadata": {},
   "outputs": [],
   "source": [
    "naver_symbol = krx_data.loc[krx_data.Name == 'NAVER', ['Symbol']].values[0][0]"
   ]
  },
  {
   "cell_type": "code",
   "execution_count": 18,
   "id": "3d453762",
   "metadata": {},
   "outputs": [],
   "source": [
    "df_current = fdr.DataReader(tiker_list[1], '2005', '2022')"
   ]
  },
  {
   "cell_type": "code",
   "execution_count": 19,
   "id": "ac0d1316",
   "metadata": {},
   "outputs": [
    {
     "data": {
      "text/html": [
       "<div>\n",
       "<style scoped>\n",
       "    .dataframe tbody tr th:only-of-type {\n",
       "        vertical-align: middle;\n",
       "    }\n",
       "\n",
       "    .dataframe tbody tr th {\n",
       "        vertical-align: top;\n",
       "    }\n",
       "\n",
       "    .dataframe thead th {\n",
       "        text-align: right;\n",
       "    }\n",
       "</style>\n",
       "<table border=\"1\" class=\"dataframe\">\n",
       "  <thead>\n",
       "    <tr style=\"text-align: right;\">\n",
       "      <th></th>\n",
       "      <th>Open</th>\n",
       "      <th>High</th>\n",
       "      <th>Low</th>\n",
       "      <th>Close</th>\n",
       "      <th>Volume</th>\n",
       "      <th>Change</th>\n",
       "    </tr>\n",
       "    <tr>\n",
       "      <th>Date</th>\n",
       "      <th></th>\n",
       "      <th></th>\n",
       "      <th></th>\n",
       "      <th></th>\n",
       "      <th></th>\n",
       "      <th></th>\n",
       "    </tr>\n",
       "  </thead>\n",
       "  <tbody>\n",
       "    <tr>\n",
       "      <th>2008-09-25</th>\n",
       "      <td>15487</td>\n",
       "      <td>15631</td>\n",
       "      <td>15487</td>\n",
       "      <td>15598</td>\n",
       "      <td>80757</td>\n",
       "      <td>NaN</td>\n",
       "    </tr>\n",
       "    <tr>\n",
       "      <th>2008-09-26</th>\n",
       "      <td>15482</td>\n",
       "      <td>15634</td>\n",
       "      <td>15309</td>\n",
       "      <td>15368</td>\n",
       "      <td>170096</td>\n",
       "      <td>-0.014745</td>\n",
       "    </tr>\n",
       "    <tr>\n",
       "      <th>2008-09-29</th>\n",
       "      <td>15473</td>\n",
       "      <td>15579</td>\n",
       "      <td>15103</td>\n",
       "      <td>15161</td>\n",
       "      <td>145529</td>\n",
       "      <td>-0.013470</td>\n",
       "    </tr>\n",
       "    <tr>\n",
       "      <th>2008-09-30</th>\n",
       "      <td>14345</td>\n",
       "      <td>15079</td>\n",
       "      <td>14345</td>\n",
       "      <td>15085</td>\n",
       "      <td>114890</td>\n",
       "      <td>-0.005013</td>\n",
       "    </tr>\n",
       "    <tr>\n",
       "      <th>2008-10-01</th>\n",
       "      <td>15079</td>\n",
       "      <td>15079</td>\n",
       "      <td>14838</td>\n",
       "      <td>15005</td>\n",
       "      <td>78415</td>\n",
       "      <td>-0.005303</td>\n",
       "    </tr>\n",
       "    <tr>\n",
       "      <th>...</th>\n",
       "      <td>...</td>\n",
       "      <td>...</td>\n",
       "      <td>...</td>\n",
       "      <td>...</td>\n",
       "      <td>...</td>\n",
       "      <td>...</td>\n",
       "    </tr>\n",
       "    <tr>\n",
       "      <th>2021-12-24</th>\n",
       "      <td>39417</td>\n",
       "      <td>39760</td>\n",
       "      <td>39417</td>\n",
       "      <td>39584</td>\n",
       "      <td>453946</td>\n",
       "      <td>0.007098</td>\n",
       "    </tr>\n",
       "    <tr>\n",
       "      <th>2021-12-27</th>\n",
       "      <td>39721</td>\n",
       "      <td>39721</td>\n",
       "      <td>39378</td>\n",
       "      <td>39378</td>\n",
       "      <td>151942</td>\n",
       "      <td>-0.005204</td>\n",
       "    </tr>\n",
       "    <tr>\n",
       "      <th>2021-12-28</th>\n",
       "      <td>39520</td>\n",
       "      <td>39657</td>\n",
       "      <td>39250</td>\n",
       "      <td>39658</td>\n",
       "      <td>198839</td>\n",
       "      <td>0.007111</td>\n",
       "    </tr>\n",
       "    <tr>\n",
       "      <th>2021-12-29</th>\n",
       "      <td>39746</td>\n",
       "      <td>39927</td>\n",
       "      <td>39652</td>\n",
       "      <td>39668</td>\n",
       "      <td>271462</td>\n",
       "      <td>0.000252</td>\n",
       "    </tr>\n",
       "    <tr>\n",
       "      <th>2021-12-30</th>\n",
       "      <td>39790</td>\n",
       "      <td>39824</td>\n",
       "      <td>39363</td>\n",
       "      <td>39535</td>\n",
       "      <td>376464</td>\n",
       "      <td>-0.003353</td>\n",
       "    </tr>\n",
       "  </tbody>\n",
       "</table>\n",
       "<p>3282 rows × 6 columns</p>\n",
       "</div>"
      ],
      "text/plain": [
       "             Open   High    Low  Close  Volume    Change\n",
       "Date                                                    \n",
       "2008-09-25  15487  15631  15487  15598   80757       NaN\n",
       "2008-09-26  15482  15634  15309  15368  170096 -0.014745\n",
       "2008-09-29  15473  15579  15103  15161  145529 -0.013470\n",
       "2008-09-30  14345  15079  14345  15085  114890 -0.005013\n",
       "2008-10-01  15079  15079  14838  15005   78415 -0.005303\n",
       "...           ...    ...    ...    ...     ...       ...\n",
       "2021-12-24  39417  39760  39417  39584  453946  0.007098\n",
       "2021-12-27  39721  39721  39378  39378  151942 -0.005204\n",
       "2021-12-28  39520  39657  39250  39658  198839  0.007111\n",
       "2021-12-29  39746  39927  39652  39668  271462  0.000252\n",
       "2021-12-30  39790  39824  39363  39535  376464 -0.003353\n",
       "\n",
       "[3282 rows x 6 columns]"
      ]
     },
     "execution_count": 19,
     "metadata": {},
     "output_type": "execute_result"
    }
   ],
   "source": [
    "df_current"
   ]
  },
  {
   "cell_type": "code",
   "execution_count": null,
   "id": "f8489a07",
   "metadata": {},
   "outputs": [],
   "source": []
  }
 ],
 "metadata": {
  "kernelspec": {
   "display_name": "firstEnv",
   "language": "python",
   "name": "firstenv"
  },
  "language_info": {
   "codemirror_mode": {
    "name": "ipython",
    "version": 3
   },
   "file_extension": ".py",
   "mimetype": "text/x-python",
   "name": "python",
   "nbconvert_exporter": "python",
   "pygments_lexer": "ipython3",
   "version": "3.9.12"
  }
 },
 "nbformat": 4,
 "nbformat_minor": 5
}
