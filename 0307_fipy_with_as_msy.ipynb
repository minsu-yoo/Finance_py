{
 "cells": [
  {
   "cell_type": "code",
   "execution_count": 9,
   "id": "e3d6c4c5",
   "metadata": {},
   "outputs": [],
   "source": [
    "import requests\n",
    "\n",
    "url = 'https://thumbs.dreamstime.com/b/example-red-tag-example-red-square-price-tag-117502755.jpg'\n",
    "r = requests.get(url, stream = True).raw"
   ]
  },
  {
   "cell_type": "raw",
   "id": "2114d61a",
   "metadata": {},
   "source": [
    "r"
   ]
  },
  {
   "cell_type": "code",
   "execution_count": 10,
   "id": "d86e7f31",
   "metadata": {},
   "outputs": [],
   "source": [
    "from PIL import Image"
   ]
  },
  {
   "cell_type": "code",
   "execution_count": 11,
   "id": "e8f84e2e",
   "metadata": {},
   "outputs": [],
   "source": [
    "img = Image.open(r)\n",
    "img.show()\n",
    "img.save('src.png')\n"
   ]
  },
  {
   "cell_type": "code",
   "execution_count": 12,
   "id": "0884a3e6",
   "metadata": {},
   "outputs": [
    {
     "name": "stdout",
     "output_type": "stream",
     "text": [
      "<bound method ImageFile.get_format_mimetype of <PIL.JpegImagePlugin.JpegImageFile image mode=RGB size=800x522 at 0x7FEEEFB8FF10>>\n"
     ]
    }
   ],
   "source": [
    "print(img.get_format_mimetype)"
   ]
  },
  {
   "cell_type": "code",
   "execution_count": null,
   "id": "944cee12",
   "metadata": {},
   "outputs": [],
   "source": []
  },
  {
   "cell_type": "code",
   "execution_count": null,
   "id": "26acf6b2",
   "metadata": {},
   "outputs": [],
   "source": []
  },
  {
   "cell_type": "code",
   "execution_count": 15,
   "id": "078e188e",
   "metadata": {},
   "outputs": [],
   "source": [
    "BUF_SIZE = 1024\n",
    "with open('src.png', 'rb') as sf, open('dst.png', 'wb') as df: #sf 와 df 로 파일 객체를 만든다. \n",
    "    while True:\n",
    "        data = sf.read(BUF_SIZE) #1024 바이트씩 읽는다. \n",
    "        if not data:\n",
    "            break\n",
    "        df.write(data)\n"
   ]
  },
  {
   "cell_type": "markdown",
   "id": "2f938120",
   "metadata": {},
   "source": [
    "#### 2.8.4 SHA-256 으로 파일 복사 검증하기"
   ]
  },
  {
   "cell_type": "markdown",
   "id": "a4b2fa9e",
   "metadata": {},
   "source": [
    "해시 값은 특정 파일 둘이 동일한 것인지 아니면 다른 것인지를 판가름 해준다. "
   ]
  },
  {
   "cell_type": "code",
   "execution_count": 19,
   "id": "e0eb0df1",
   "metadata": {},
   "outputs": [
    {
     "name": "stdout",
     "output_type": "stream",
     "text": [
      "src.png's hash : 3211ab561952933151c70f77d8060ee7523e2bc3df91c89282383b6dd7ee24c9\n",
      "dst.png's hash : 3211ab561952933151c70f77d8060ee7523e2bc3df91c89282383b6dd7ee24c9\n"
     ]
    }
   ],
   "source": [
    "import hashlib\n",
    "\n",
    "sha_src = hashlib.sha256()\n",
    "sha_dst = hashlib.sha256()\n",
    "\n",
    "with open('src.png', 'rb') as sf, open('dst.png', 'rb') as df:\n",
    "    sha_src.update(sf.read())\n",
    "    sha_dst.update(df.read())\n",
    "    \n",
    "print(\"src.png's hash : {}\".format(sha_src.hexdigest()))\n",
    "print(\"dst.png's hash : {}\".format(sha_dst.hexdigest()))\n"
   ]
  },
  {
   "cell_type": "code",
   "execution_count": null,
   "id": "fb03a569",
   "metadata": {},
   "outputs": [],
   "source": []
  },
  {
   "cell_type": "code",
   "execution_count": 20,
   "id": "06d56d8e",
   "metadata": {},
   "outputs": [],
   "source": [
    "import matplotlib.pyplot as plt\n",
    "import matplotlib.image as mpimg\n",
    "\n",
    "dst_img = mpimg.imread('dst.png')\n",
    "\n",
    "\n"
   ]
  },
  {
   "cell_type": "code",
   "execution_count": 21,
   "id": "1a858f52",
   "metadata": {},
   "outputs": [
    {
     "name": "stdout",
     "output_type": "stream",
     "text": [
      "[[[1. 1. 1.]\n",
      "  [1. 1. 1.]\n",
      "  [1. 1. 1.]\n",
      "  ...\n",
      "  [1. 1. 1.]\n",
      "  [1. 1. 1.]\n",
      "  [1. 1. 1.]]\n",
      "\n",
      " [[1. 1. 1.]\n",
      "  [1. 1. 1.]\n",
      "  [1. 1. 1.]\n",
      "  ...\n",
      "  [1. 1. 1.]\n",
      "  [1. 1. 1.]\n",
      "  [1. 1. 1.]]\n",
      "\n",
      " [[1. 1. 1.]\n",
      "  [1. 1. 1.]\n",
      "  [1. 1. 1.]\n",
      "  ...\n",
      "  [1. 1. 1.]\n",
      "  [1. 1. 1.]\n",
      "  [1. 1. 1.]]\n",
      "\n",
      " ...\n",
      "\n",
      " [[1. 1. 1.]\n",
      "  [1. 1. 1.]\n",
      "  [1. 1. 1.]\n",
      "  ...\n",
      "  [1. 1. 1.]\n",
      "  [1. 1. 1.]\n",
      "  [1. 1. 1.]]\n",
      "\n",
      " [[1. 1. 1.]\n",
      "  [1. 1. 1.]\n",
      "  [1. 1. 1.]\n",
      "  ...\n",
      "  [1. 1. 1.]\n",
      "  [1. 1. 1.]\n",
      "  [1. 1. 1.]]\n",
      "\n",
      " [[1. 1. 1.]\n",
      "  [1. 1. 1.]\n",
      "  [1. 1. 1.]\n",
      "  ...\n",
      "  [1. 1. 1.]\n",
      "  [1. 1. 1.]\n",
      "  [1. 1. 1.]]]\n"
     ]
    }
   ],
   "source": [
    "print(dst_img)"
   ]
  },
  {
   "cell_type": "code",
   "execution_count": 22,
   "id": "ceb33fb4",
   "metadata": {},
   "outputs": [],
   "source": [
    "pseudo_img = dst_img[:, :, 0]\n"
   ]
  },
  {
   "cell_type": "code",
   "execution_count": 23,
   "id": "eeaa7293",
   "metadata": {},
   "outputs": [
    {
     "name": "stdout",
     "output_type": "stream",
     "text": [
      "[[1. 1. 1. ... 1. 1. 1.]\n",
      " [1. 1. 1. ... 1. 1. 1.]\n",
      " [1. 1. 1. ... 1. 1. 1.]\n",
      " ...\n",
      " [1. 1. 1. ... 1. 1. 1.]\n",
      " [1. 1. 1. ... 1. 1. 1.]\n",
      " [1. 1. 1. ... 1. 1. 1.]]\n"
     ]
    }
   ],
   "source": [
    "print(pseudo_img)"
   ]
  },
  {
   "cell_type": "code",
   "execution_count": 27,
   "id": "01ebc5f4",
   "metadata": {},
   "outputs": [
    {
     "data": {
      "image/png": "[encoded data removed]",
      "text/plain": [
       "<Figure size 432x288 with 2 Axes>"
      ]
     },
     "metadata": {
      "needs_background": "light"
     },
     "output_type": "display_data"
    }
   ],
   "source": [
    "plt.suptitle('Image processing', fontsize = 18)\n",
    "plt.subplot(1,2,1)\n",
    "plt.title('Original Image')\n",
    "plt.imshow(mpimg.imread('src.png'))\n",
    "\n",
    "\n",
    "plt.subplot(122)\n",
    "plt.title('Pseudocolor Image')\n",
    "dst_img = mpimg.imread('dst.png')\n",
    "pseudo_img = dst_img[:,:,0]\n",
    "plt.imshow(pseudo_img)\n",
    "plt.show()\n",
    "\n",
    "\n",
    "\n"
   ]
  },
  {
   "cell_type": "markdown",
   "id": "eb502211",
   "metadata": {},
   "source": [
    "##  넘파이 배열 "
   ]
  },
  {
   "cell_type": "code",
   "execution_count": 28,
   "id": "01c94c04",
   "metadata": {},
   "outputs": [],
   "source": [
    "import numpy as np\n",
    "A = np.array([[1,2], [3,4]])"
   ]
  },
  {
   "cell_type": "code",
   "execution_count": 29,
   "id": "ad34cf8a",
   "metadata": {},
   "outputs": [
    {
     "data": {
      "text/plain": [
       "array([[1, 2],\n",
       "       [3, 4]])"
      ]
     },
     "execution_count": 29,
     "metadata": {},
     "output_type": "execute_result"
    }
   ],
   "source": [
    "A"
   ]
  },
  {
   "cell_type": "code",
   "execution_count": 30,
   "id": "78238db2",
   "metadata": {},
   "outputs": [
    {
     "data": {
      "text/plain": [
       "numpy.ndarray"
      ]
     },
     "execution_count": 30,
     "metadata": {},
     "output_type": "execute_result"
    }
   ],
   "source": [
    "type(A)"
   ]
  },
  {
   "cell_type": "code",
   "execution_count": 31,
   "id": "a5537c95",
   "metadata": {},
   "outputs": [
    {
     "data": {
      "text/plain": [
       "2"
      ]
     },
     "execution_count": 31,
     "metadata": {},
     "output_type": "execute_result"
    }
   ],
   "source": [
    "A.ndim"
   ]
  },
  {
   "cell_type": "code",
   "execution_count": 32,
   "id": "2567d411",
   "metadata": {},
   "outputs": [
    {
     "name": "stdout",
     "output_type": "stream",
     "text": [
      "4 2.5 1 10\n"
     ]
    }
   ],
   "source": [
    "print(A.max(), A.mean(), A.min(), A.sum())"
   ]
  },
  {
   "cell_type": "code",
   "execution_count": 33,
   "id": "598df1fb",
   "metadata": {},
   "outputs": [
    {
     "data": {
      "text/plain": [
       "array([1, 2])"
      ]
     },
     "execution_count": 33,
     "metadata": {},
     "output_type": "execute_result"
    }
   ],
   "source": [
    "A[0]"
   ]
  },
  {
   "cell_type": "code",
   "execution_count": 36,
   "id": "e4416cc4",
   "metadata": {},
   "outputs": [
    {
     "data": {
      "text/plain": [
       "2"
      ]
     },
     "execution_count": 36,
     "metadata": {},
     "output_type": "execute_result"
    }
   ],
   "source": [
    "A[0][1]"
   ]
  },
  {
   "cell_type": "code",
   "execution_count": 38,
   "id": "a8883cf2",
   "metadata": {},
   "outputs": [],
   "source": [
    "B = A[A>1]"
   ]
  },
  {
   "cell_type": "code",
   "execution_count": 39,
   "id": "00ef4f92",
   "metadata": {},
   "outputs": [
    {
     "data": {
      "text/plain": [
       "numpy.ndarray"
      ]
     },
     "execution_count": 39,
     "metadata": {},
     "output_type": "execute_result"
    }
   ],
   "source": [
    "type(B)"
   ]
  },
  {
   "cell_type": "code",
   "execution_count": 40,
   "id": "4c5b17af",
   "metadata": {},
   "outputs": [
    {
     "name": "stdout",
     "output_type": "stream",
     "text": [
      "[2 3 4]\n"
     ]
    }
   ],
   "source": [
    "print(B)"
   ]
  },
  {
   "cell_type": "code",
   "execution_count": 41,
   "id": "2d27530e",
   "metadata": {},
   "outputs": [
    {
     "data": {
      "text/plain": [
       "1"
      ]
     },
     "execution_count": 41,
     "metadata": {},
     "output_type": "execute_result"
    }
   ],
   "source": [
    "B.ndim"
   ]
  },
  {
   "cell_type": "code",
   "execution_count": 42,
   "id": "d483effb",
   "metadata": {},
   "outputs": [
    {
     "data": {
      "text/plain": [
       "(3,)"
      ]
     },
     "execution_count": 42,
     "metadata": {},
     "output_type": "execute_result"
    }
   ],
   "source": [
    "B.shape"
   ]
  },
  {
   "cell_type": "code",
   "execution_count": 43,
   "id": "1c291d28",
   "metadata": {},
   "outputs": [
    {
     "data": {
      "text/plain": [
       "array([[1, 2],\n",
       "       [3, 4]])"
      ]
     },
     "execution_count": 43,
     "metadata": {},
     "output_type": "execute_result"
    }
   ],
   "source": [
    "A"
   ]
  },
  {
   "cell_type": "code",
   "execution_count": 44,
   "id": "ab220114",
   "metadata": {},
   "outputs": [
    {
     "data": {
      "text/plain": [
       "array([[1, 3],\n",
       "       [2, 4]])"
      ]
     },
     "execution_count": 44,
     "metadata": {},
     "output_type": "execute_result"
    }
   ],
   "source": [
    "A.T"
   ]
  },
  {
   "cell_type": "code",
   "execution_count": 45,
   "id": "4d691e0d",
   "metadata": {},
   "outputs": [
    {
     "data": {
      "text/plain": [
       "array([1, 2, 3, 4])"
      ]
     },
     "execution_count": 45,
     "metadata": {},
     "output_type": "execute_result"
    }
   ],
   "source": [
    "A.flatten()"
   ]
  },
  {
   "cell_type": "markdown",
   "id": "45336620",
   "metadata": {},
   "source": [
    "### 팬더스 시리즈"
   ]
  },
  {
   "cell_type": "code",
   "execution_count": 46,
   "id": "553fba05",
   "metadata": {},
   "outputs": [],
   "source": [
    "import pandas as pd\n",
    "s = pd.Series([0.0, 3.6, 2.0, 5.8, 4.2, 8.0])"
   ]
  },
  {
   "cell_type": "code",
   "execution_count": 47,
   "id": "5b7367aa",
   "metadata": {},
   "outputs": [
    {
     "data": {
      "text/plain": [
       "0    0.0\n",
       "1    3.6\n",
       "2    2.0\n",
       "3    5.8\n",
       "4    4.2\n",
       "5    8.0\n",
       "dtype: float64"
      ]
     },
     "execution_count": 47,
     "metadata": {},
     "output_type": "execute_result"
    }
   ],
   "source": [
    "s"
   ]
  },
  {
   "cell_type": "code",
   "execution_count": 48,
   "id": "7505fb73",
   "metadata": {},
   "outputs": [
    {
     "data": {
      "text/plain": [
       "MY_IDX\n",
       "0.0    0.0\n",
       "1.2    3.6\n",
       "1.8    2.0\n",
       "3.0    5.8\n",
       "3.6    4.2\n",
       "4.8    8.0\n",
       "dtype: float64"
      ]
     },
     "execution_count": 48,
     "metadata": {},
     "output_type": "execute_result"
    }
   ],
   "source": [
    "s.index = pd.Index([0.0, 1.2, 1.8, 3.0, 3.6, 4.8])\n",
    "s.index.name = 'MY_IDX'\n",
    "\n",
    "s"
   ]
  },
  {
   "cell_type": "code",
   "execution_count": 49,
   "id": "ff24eefb",
   "metadata": {},
   "outputs": [],
   "source": [
    "s.name = 'MY_SERIES'"
   ]
  },
  {
   "cell_type": "code",
   "execution_count": 50,
   "id": "c1a57c1a",
   "metadata": {},
   "outputs": [],
   "source": [
    "s[5.9] = 5.5"
   ]
  },
  {
   "cell_type": "code",
   "execution_count": 51,
   "id": "b4776d6b",
   "metadata": {},
   "outputs": [
    {
     "data": {
      "text/plain": [
       "MY_IDX\n",
       "0.0    0.0\n",
       "1.2    3.6\n",
       "1.8    2.0\n",
       "3.0    5.8\n",
       "3.6    4.2\n",
       "4.8    8.0\n",
       "5.9    5.5\n",
       "Name: MY_SERIES, dtype: float64"
      ]
     },
     "execution_count": 51,
     "metadata": {},
     "output_type": "execute_result"
    }
   ],
   "source": [
    "s"
   ]
  },
  {
   "cell_type": "code",
   "execution_count": 52,
   "id": "127b84be",
   "metadata": {},
   "outputs": [],
   "source": [
    "ser = pd.Series([6.7, 4.2], index = [6.8, 8.0])\n"
   ]
  },
  {
   "cell_type": "code",
   "execution_count": 53,
   "id": "9b80317b",
   "metadata": {},
   "outputs": [],
   "source": [
    "s = s.append(ser)"
   ]
  },
  {
   "cell_type": "code",
   "execution_count": 54,
   "id": "b066eaae",
   "metadata": {},
   "outputs": [
    {
     "data": {
      "text/plain": [
       "0.0    0.0\n",
       "1.2    3.6\n",
       "1.8    2.0\n",
       "3.0    5.8\n",
       "3.6    4.2\n",
       "4.8    8.0\n",
       "5.9    5.5\n",
       "6.8    6.7\n",
       "8.0    4.2\n",
       "dtype: float64"
      ]
     },
     "execution_count": 54,
     "metadata": {},
     "output_type": "execute_result"
    }
   ],
   "source": [
    "s"
   ]
  },
  {
   "cell_type": "code",
   "execution_count": 55,
   "id": "e61444e1",
   "metadata": {},
   "outputs": [
    {
     "data": {
      "text/plain": [
       "count    9.000000\n",
       "mean     4.444444\n",
       "std      2.430078\n",
       "min      0.000000\n",
       "25%      3.600000\n",
       "50%      4.200000\n",
       "75%      5.800000\n",
       "max      8.000000\n",
       "dtype: float64"
      ]
     },
     "execution_count": 55,
     "metadata": {},
     "output_type": "execute_result"
    }
   ],
   "source": [
    "s.describe()"
   ]
  },
  {
   "cell_type": "markdown",
   "id": "0adf3dd4",
   "metadata": {},
   "source": [
    "### data frame 만들기"
   ]
  },
  {
   "cell_type": "code",
   "execution_count": 62,
   "id": "d05cfe5f",
   "metadata": {},
   "outputs": [],
   "source": [
    "import pandas as pd\n",
    "\n",
    "df = pd.DataFrame({'KOSPI': [1915, 1961, 2026, 2467, 2041], \n",
    "                   'KOSDAQ': [542, 682, 631, 798, 675]})"
   ]
  },
  {
   "cell_type": "code",
   "execution_count": 63,
   "id": "53eab083",
   "metadata": {},
   "outputs": [
    {
     "data": {
      "text/html": [
       "<div>\n",
       "<style scoped>\n",
       "    .dataframe tbody tr th:only-of-type {\n",
       "        vertical-align: middle;\n",
       "    }\n",
       "\n",
       "    .dataframe tbody tr th {\n",
       "        vertical-align: top;\n",
       "    }\n",
       "\n",
       "    .dataframe thead th {\n",
       "        text-align: right;\n",
       "    }\n",
       "</style>\n",
       "<table border=\"1\" class=\"dataframe\">\n",
       "  <thead>\n",
       "    <tr style=\"text-align: right;\">\n",
       "      <th></th>\n",
       "      <th>KOSPI</th>\n",
       "      <th>KOSDAQ</th>\n",
       "    </tr>\n",
       "  </thead>\n",
       "  <tbody>\n",
       "    <tr>\n",
       "      <th>0</th>\n",
       "      <td>1915</td>\n",
       "      <td>542</td>\n",
       "    </tr>\n",
       "    <tr>\n",
       "      <th>1</th>\n",
       "      <td>1961</td>\n",
       "      <td>682</td>\n",
       "    </tr>\n",
       "    <tr>\n",
       "      <th>2</th>\n",
       "      <td>2026</td>\n",
       "      <td>631</td>\n",
       "    </tr>\n",
       "    <tr>\n",
       "      <th>3</th>\n",
       "      <td>2467</td>\n",
       "      <td>798</td>\n",
       "    </tr>\n",
       "    <tr>\n",
       "      <th>4</th>\n",
       "      <td>2041</td>\n",
       "      <td>675</td>\n",
       "    </tr>\n",
       "  </tbody>\n",
       "</table>\n",
       "</div>"
      ],
      "text/plain": [
       "   KOSPI  KOSDAQ\n",
       "0   1915     542\n",
       "1   1961     682\n",
       "2   2026     631\n",
       "3   2467     798\n",
       "4   2041     675"
      ]
     },
     "execution_count": 63,
     "metadata": {},
     "output_type": "execute_result"
    }
   ],
   "source": [
    "df"
   ]
  },
  {
   "cell_type": "code",
   "execution_count": 64,
   "id": "ebf1e1c5",
   "metadata": {},
   "outputs": [],
   "source": [
    "df = pd.DataFrame({'KOSPI': [1915, 1961, 2026, 2467, 2041], \n",
    "                   'KOSDAQ': [542, 682, 631, 798, 675]},\n",
    "                 index = [2014, 2015, 2016, 2017, 2018])"
   ]
  },
  {
   "cell_type": "code",
   "execution_count": 65,
   "id": "827a91a9",
   "metadata": {},
   "outputs": [
    {
     "data": {
      "text/html": [
       "<div>\n",
       "<style scoped>\n",
       "    .dataframe tbody tr th:only-of-type {\n",
       "        vertical-align: middle;\n",
       "    }\n",
       "\n",
       "    .dataframe tbody tr th {\n",
       "        vertical-align: top;\n",
       "    }\n",
       "\n",
       "    .dataframe thead th {\n",
       "        text-align: right;\n",
       "    }\n",
       "</style>\n",
       "<table border=\"1\" class=\"dataframe\">\n",
       "  <thead>\n",
       "    <tr style=\"text-align: right;\">\n",
       "      <th></th>\n",
       "      <th>KOSPI</th>\n",
       "      <th>KOSDAQ</th>\n",
       "    </tr>\n",
       "  </thead>\n",
       "  <tbody>\n",
       "    <tr>\n",
       "      <th>2014</th>\n",
       "      <td>1915</td>\n",
       "      <td>542</td>\n",
       "    </tr>\n",
       "    <tr>\n",
       "      <th>2015</th>\n",
       "      <td>1961</td>\n",
       "      <td>682</td>\n",
       "    </tr>\n",
       "    <tr>\n",
       "      <th>2016</th>\n",
       "      <td>2026</td>\n",
       "      <td>631</td>\n",
       "    </tr>\n",
       "    <tr>\n",
       "      <th>2017</th>\n",
       "      <td>2467</td>\n",
       "      <td>798</td>\n",
       "    </tr>\n",
       "    <tr>\n",
       "      <th>2018</th>\n",
       "      <td>2041</td>\n",
       "      <td>675</td>\n",
       "    </tr>\n",
       "  </tbody>\n",
       "</table>\n",
       "</div>"
      ],
      "text/plain": [
       "      KOSPI  KOSDAQ\n",
       "2014   1915     542\n",
       "2015   1961     682\n",
       "2016   2026     631\n",
       "2017   2467     798\n",
       "2018   2041     675"
      ]
     },
     "execution_count": 65,
     "metadata": {},
     "output_type": "execute_result"
    }
   ],
   "source": [
    "df"
   ]
  },
  {
   "cell_type": "code",
   "execution_count": 66,
   "id": "fc94123b",
   "metadata": {},
   "outputs": [
    {
     "data": {
      "text/html": [
       "<div>\n",
       "<style scoped>\n",
       "    .dataframe tbody tr th:only-of-type {\n",
       "        vertical-align: middle;\n",
       "    }\n",
       "\n",
       "    .dataframe tbody tr th {\n",
       "        vertical-align: top;\n",
       "    }\n",
       "\n",
       "    .dataframe thead th {\n",
       "        text-align: right;\n",
       "    }\n",
       "</style>\n",
       "<table border=\"1\" class=\"dataframe\">\n",
       "  <thead>\n",
       "    <tr style=\"text-align: right;\">\n",
       "      <th></th>\n",
       "      <th>KOSPI</th>\n",
       "      <th>KOSDAQ</th>\n",
       "    </tr>\n",
       "  </thead>\n",
       "  <tbody>\n",
       "    <tr>\n",
       "      <th>count</th>\n",
       "      <td>5.000000</td>\n",
       "      <td>5.000000</td>\n",
       "    </tr>\n",
       "    <tr>\n",
       "      <th>mean</th>\n",
       "      <td>2082.000000</td>\n",
       "      <td>665.600000</td>\n",
       "    </tr>\n",
       "    <tr>\n",
       "      <th>std</th>\n",
       "      <td>221.117616</td>\n",
       "      <td>92.683871</td>\n",
       "    </tr>\n",
       "    <tr>\n",
       "      <th>min</th>\n",
       "      <td>1915.000000</td>\n",
       "      <td>542.000000</td>\n",
       "    </tr>\n",
       "    <tr>\n",
       "      <th>25%</th>\n",
       "      <td>1961.000000</td>\n",
       "      <td>631.000000</td>\n",
       "    </tr>\n",
       "    <tr>\n",
       "      <th>50%</th>\n",
       "      <td>2026.000000</td>\n",
       "      <td>675.000000</td>\n",
       "    </tr>\n",
       "    <tr>\n",
       "      <th>75%</th>\n",
       "      <td>2041.000000</td>\n",
       "      <td>682.000000</td>\n",
       "    </tr>\n",
       "    <tr>\n",
       "      <th>max</th>\n",
       "      <td>2467.000000</td>\n",
       "      <td>798.000000</td>\n",
       "    </tr>\n",
       "  </tbody>\n",
       "</table>\n",
       "</div>"
      ],
      "text/plain": [
       "             KOSPI      KOSDAQ\n",
       "count     5.000000    5.000000\n",
       "mean   2082.000000  665.600000\n",
       "std     221.117616   92.683871\n",
       "min    1915.000000  542.000000\n",
       "25%    1961.000000  631.000000\n",
       "50%    2026.000000  675.000000\n",
       "75%    2041.000000  682.000000\n",
       "max    2467.000000  798.000000"
      ]
     },
     "execution_count": 66,
     "metadata": {},
     "output_type": "execute_result"
    }
   ],
   "source": [
    "df.describe()"
   ]
  },
  {
   "cell_type": "code",
   "execution_count": 67,
   "id": "1d6c12c2",
   "metadata": {},
   "outputs": [
    {
     "name": "stdout",
     "output_type": "stream",
     "text": [
      "<class 'pandas.core.frame.DataFrame'>\n",
      "Int64Index: 5 entries, 2014 to 2018\n",
      "Data columns (total 2 columns):\n",
      " #   Column  Non-Null Count  Dtype\n",
      "---  ------  --------------  -----\n",
      " 0   KOSPI   5 non-null      int64\n",
      " 1   KOSDAQ  5 non-null      int64\n",
      "dtypes: int64(2)\n",
      "memory usage: 120.0 bytes\n"
     ]
    }
   ],
   "source": [
    "df.info()"
   ]
  },
  {
   "cell_type": "code",
   "execution_count": 68,
   "id": "ca67a206",
   "metadata": {},
   "outputs": [],
   "source": [
    "import yfinance"
   ]
  },
  {
   "cell_type": "code",
   "execution_count": 70,
   "id": "50f0d8a5",
   "metadata": {},
   "outputs": [
    {
     "ename": "SyntaxError",
     "evalue": "invalid syntax (<ipython-input-70-734c2e4eb9ef>, line 1)",
     "output_type": "error",
     "traceback": [
      "\u001b[0;36m  File \u001b[0;32m\"<ipython-input-70-734c2e4eb9ef>\"\u001b[0;36m, line \u001b[0;32m1\u001b[0m\n\u001b[0;31m    import pandas-datareader\u001b[0m\n\u001b[0m                 ^\u001b[0m\n\u001b[0;31mSyntaxError\u001b[0m\u001b[0;31m:\u001b[0m invalid syntax\n"
     ]
    }
   ],
   "source": [
    "import pandas-datareader\n"
   ]
  },
  {
   "cell_type": "code",
   "execution_count": 74,
   "id": "fe13873a",
   "metadata": {},
   "outputs": [
    {
     "name": "stdout",
     "output_type": "stream",
     "text": [
      "[*********************100%***********************]  1 of 1 completed\n",
      "[*********************100%***********************]  1 of 1 completed\n"
     ]
    }
   ],
   "source": [
    "from pandas_datareader import data as pdr\n",
    "import yfinance as yf\n",
    "yf.pdr_override()\n",
    "\n",
    "\n",
    "sec = pdr.get_data_yahoo('005930.KS', start='2019-03-06')\n",
    "msft = pdr.get_data_yahoo('MSFT', start='2019-03-06')"
   ]
  },
  {
   "cell_type": "code",
   "execution_count": 75,
   "id": "b82f7e62",
   "metadata": {},
   "outputs": [
    {
     "data": {
      "text/html": [
       "<div>\n",
       "<style scoped>\n",
       "    .dataframe tbody tr th:only-of-type {\n",
       "        vertical-align: middle;\n",
       "    }\n",
       "\n",
       "    .dataframe tbody tr th {\n",
       "        vertical-align: top;\n",
       "    }\n",
       "\n",
       "    .dataframe thead th {\n",
       "        text-align: right;\n",
       "    }\n",
       "</style>\n",
       "<table border=\"1\" class=\"dataframe\">\n",
       "  <thead>\n",
       "    <tr style=\"text-align: right;\">\n",
       "      <th></th>\n",
       "      <th>Open</th>\n",
       "      <th>High</th>\n",
       "      <th>Low</th>\n",
       "      <th>Close</th>\n",
       "      <th>Adj Close</th>\n",
       "      <th>Volume</th>\n",
       "    </tr>\n",
       "    <tr>\n",
       "      <th>Date</th>\n",
       "      <th></th>\n",
       "      <th></th>\n",
       "      <th></th>\n",
       "      <th></th>\n",
       "      <th></th>\n",
       "      <th></th>\n",
       "    </tr>\n",
       "  </thead>\n",
       "  <tbody>\n",
       "    <tr>\n",
       "      <th>2019-03-06</th>\n",
       "      <td>44000.0</td>\n",
       "      <td>44300.0</td>\n",
       "      <td>43700.0</td>\n",
       "      <td>44000.0</td>\n",
       "      <td>40118.500000</td>\n",
       "      <td>10202544</td>\n",
       "    </tr>\n",
       "    <tr>\n",
       "      <th>2019-03-07</th>\n",
       "      <td>43400.0</td>\n",
       "      <td>44950.0</td>\n",
       "      <td>43400.0</td>\n",
       "      <td>44450.0</td>\n",
       "      <td>40528.800781</td>\n",
       "      <td>11049749</td>\n",
       "    </tr>\n",
       "    <tr>\n",
       "      <th>2019-03-08</th>\n",
       "      <td>44450.0</td>\n",
       "      <td>44800.0</td>\n",
       "      <td>43800.0</td>\n",
       "      <td>43800.0</td>\n",
       "      <td>39936.140625</td>\n",
       "      <td>7729069</td>\n",
       "    </tr>\n",
       "    <tr>\n",
       "      <th>2019-03-11</th>\n",
       "      <td>44400.0</td>\n",
       "      <td>44450.0</td>\n",
       "      <td>43650.0</td>\n",
       "      <td>43650.0</td>\n",
       "      <td>39799.367188</td>\n",
       "      <td>10717408</td>\n",
       "    </tr>\n",
       "    <tr>\n",
       "      <th>2019-03-12</th>\n",
       "      <td>44300.0</td>\n",
       "      <td>44950.0</td>\n",
       "      <td>44150.0</td>\n",
       "      <td>44650.0</td>\n",
       "      <td>40711.156250</td>\n",
       "      <td>11431977</td>\n",
       "    </tr>\n",
       "  </tbody>\n",
       "</table>\n",
       "</div>"
      ],
      "text/plain": [
       "               Open     High      Low    Close     Adj Close    Volume\n",
       "Date                                                                  \n",
       "2019-03-06  44000.0  44300.0  43700.0  44000.0  40118.500000  10202544\n",
       "2019-03-07  43400.0  44950.0  43400.0  44450.0  40528.800781  11049749\n",
       "2019-03-08  44450.0  44800.0  43800.0  43800.0  39936.140625   7729069\n",
       "2019-03-11  44400.0  44450.0  43650.0  43650.0  39799.367188  10717408\n",
       "2019-03-12  44300.0  44950.0  44150.0  44650.0  40711.156250  11431977"
      ]
     },
     "execution_count": 75,
     "metadata": {},
     "output_type": "execute_result"
    }
   ],
   "source": [
    "sec.head()"
   ]
  },
  {
   "cell_type": "code",
   "execution_count": 76,
   "id": "6b6ff106",
   "metadata": {
    "scrolled": false
   },
   "outputs": [
    {
     "data": {
      "text/html": [
       "<div>\n",
       "<style scoped>\n",
       "    .dataframe tbody tr th:only-of-type {\n",
       "        vertical-align: middle;\n",
       "    }\n",
       "\n",
       "    .dataframe tbody tr th {\n",
       "        vertical-align: top;\n",
       "    }\n",
       "\n",
       "    .dataframe thead th {\n",
       "        text-align: right;\n",
       "    }\n",
       "</style>\n",
       "<table border=\"1\" class=\"dataframe\">\n",
       "  <thead>\n",
       "    <tr style=\"text-align: right;\">\n",
       "      <th></th>\n",
       "      <th>Open</th>\n",
       "      <th>High</th>\n",
       "      <th>Low</th>\n",
       "      <th>Close</th>\n",
       "      <th>Adj Close</th>\n",
       "      <th>Volume</th>\n",
       "    </tr>\n",
       "    <tr>\n",
       "      <th>Date</th>\n",
       "      <th></th>\n",
       "      <th></th>\n",
       "      <th></th>\n",
       "      <th></th>\n",
       "      <th></th>\n",
       "      <th></th>\n",
       "    </tr>\n",
       "  </thead>\n",
       "  <tbody>\n",
       "    <tr>\n",
       "      <th>2019-03-06</th>\n",
       "      <td>44000.0</td>\n",
       "      <td>44300.0</td>\n",
       "      <td>43700.0</td>\n",
       "      <td>44000.0</td>\n",
       "      <td>40118.500000</td>\n",
       "      <td>10202544</td>\n",
       "    </tr>\n",
       "    <tr>\n",
       "      <th>2019-03-07</th>\n",
       "      <td>43400.0</td>\n",
       "      <td>44950.0</td>\n",
       "      <td>43400.0</td>\n",
       "      <td>44450.0</td>\n",
       "      <td>40528.800781</td>\n",
       "      <td>11049749</td>\n",
       "    </tr>\n",
       "    <tr>\n",
       "      <th>2019-03-08</th>\n",
       "      <td>44450.0</td>\n",
       "      <td>44800.0</td>\n",
       "      <td>43800.0</td>\n",
       "      <td>43800.0</td>\n",
       "      <td>39936.140625</td>\n",
       "      <td>7729069</td>\n",
       "    </tr>\n",
       "    <tr>\n",
       "      <th>2019-03-11</th>\n",
       "      <td>44400.0</td>\n",
       "      <td>44450.0</td>\n",
       "      <td>43650.0</td>\n",
       "      <td>43650.0</td>\n",
       "      <td>39799.367188</td>\n",
       "      <td>10717408</td>\n",
       "    </tr>\n",
       "    <tr>\n",
       "      <th>2019-03-12</th>\n",
       "      <td>44300.0</td>\n",
       "      <td>44950.0</td>\n",
       "      <td>44150.0</td>\n",
       "      <td>44650.0</td>\n",
       "      <td>40711.156250</td>\n",
       "      <td>11431977</td>\n",
       "    </tr>\n",
       "    <tr>\n",
       "      <th>2019-03-13</th>\n",
       "      <td>44250.0</td>\n",
       "      <td>44450.0</td>\n",
       "      <td>43700.0</td>\n",
       "      <td>43850.0</td>\n",
       "      <td>39981.726562</td>\n",
       "      <td>8108343</td>\n",
       "    </tr>\n",
       "    <tr>\n",
       "      <th>2019-03-14</th>\n",
       "      <td>43700.0</td>\n",
       "      <td>44300.0</td>\n",
       "      <td>43550.0</td>\n",
       "      <td>43850.0</td>\n",
       "      <td>39981.726562</td>\n",
       "      <td>18039161</td>\n",
       "    </tr>\n",
       "    <tr>\n",
       "      <th>2019-03-15</th>\n",
       "      <td>43800.0</td>\n",
       "      <td>44250.0</td>\n",
       "      <td>43700.0</td>\n",
       "      <td>44200.0</td>\n",
       "      <td>40300.851562</td>\n",
       "      <td>16814163</td>\n",
       "    </tr>\n",
       "    <tr>\n",
       "      <th>2019-03-18</th>\n",
       "      <td>43950.0</td>\n",
       "      <td>44150.0</td>\n",
       "      <td>43450.0</td>\n",
       "      <td>43700.0</td>\n",
       "      <td>39844.968750</td>\n",
       "      <td>8188876</td>\n",
       "    </tr>\n",
       "    <tr>\n",
       "      <th>2019-03-19</th>\n",
       "      <td>43750.0</td>\n",
       "      <td>43900.0</td>\n",
       "      <td>43550.0</td>\n",
       "      <td>43900.0</td>\n",
       "      <td>40027.316406</td>\n",
       "      <td>7609563</td>\n",
       "    </tr>\n",
       "  </tbody>\n",
       "</table>\n",
       "</div>"
      ],
      "text/plain": [
       "               Open     High      Low    Close     Adj Close    Volume\n",
       "Date                                                                  \n",
       "2019-03-06  44000.0  44300.0  43700.0  44000.0  40118.500000  10202544\n",
       "2019-03-07  43400.0  44950.0  43400.0  44450.0  40528.800781  11049749\n",
       "2019-03-08  44450.0  44800.0  43800.0  43800.0  39936.140625   7729069\n",
       "2019-03-11  44400.0  44450.0  43650.0  43650.0  39799.367188  10717408\n",
       "2019-03-12  44300.0  44950.0  44150.0  44650.0  40711.156250  11431977\n",
       "2019-03-13  44250.0  44450.0  43700.0  43850.0  39981.726562   8108343\n",
       "2019-03-14  43700.0  44300.0  43550.0  43850.0  39981.726562  18039161\n",
       "2019-03-15  43800.0  44250.0  43700.0  44200.0  40300.851562  16814163\n",
       "2019-03-18  43950.0  44150.0  43450.0  43700.0  39844.968750   8188876\n",
       "2019-03-19  43750.0  43900.0  43550.0  43900.0  40027.316406   7609563"
      ]
     },
     "execution_count": 76,
     "metadata": {},
     "output_type": "execute_result"
    }
   ],
   "source": [
    "sec.head(10)"
   ]
  },
  {
   "cell_type": "code",
   "execution_count": 78,
   "id": "bf6c12fb",
   "metadata": {},
   "outputs": [],
   "source": [
    "tmp_msft = msft.drop(columns = 'Volume')"
   ]
  },
  {
   "cell_type": "code",
   "execution_count": 81,
   "id": "c91fbd16",
   "metadata": {},
   "outputs": [
    {
     "data": {
      "text/html": [
       "<div>\n",
       "<style scoped>\n",
       "    .dataframe tbody tr th:only-of-type {\n",
       "        vertical-align: middle;\n",
       "    }\n",
       "\n",
       "    .dataframe tbody tr th {\n",
       "        vertical-align: top;\n",
       "    }\n",
       "\n",
       "    .dataframe thead th {\n",
       "        text-align: right;\n",
       "    }\n",
       "</style>\n",
       "<table border=\"1\" class=\"dataframe\">\n",
       "  <thead>\n",
       "    <tr style=\"text-align: right;\">\n",
       "      <th></th>\n",
       "      <th>Open</th>\n",
       "      <th>High</th>\n",
       "      <th>Low</th>\n",
       "      <th>Close</th>\n",
       "      <th>Adj Close</th>\n",
       "    </tr>\n",
       "    <tr>\n",
       "      <th>Date</th>\n",
       "      <th></th>\n",
       "      <th></th>\n",
       "      <th></th>\n",
       "      <th></th>\n",
       "      <th></th>\n",
       "    </tr>\n",
       "  </thead>\n",
       "  <tbody>\n",
       "    <tr>\n",
       "      <th>2022-02-28</th>\n",
       "      <td>294.309998</td>\n",
       "      <td>299.140015</td>\n",
       "      <td>293.000000</td>\n",
       "      <td>298.790009</td>\n",
       "      <td>298.790009</td>\n",
       "    </tr>\n",
       "    <tr>\n",
       "      <th>2022-03-01</th>\n",
       "      <td>296.399994</td>\n",
       "      <td>299.970001</td>\n",
       "      <td>292.149994</td>\n",
       "      <td>294.950012</td>\n",
       "      <td>294.950012</td>\n",
       "    </tr>\n",
       "    <tr>\n",
       "      <th>2022-03-02</th>\n",
       "      <td>295.359985</td>\n",
       "      <td>301.470001</td>\n",
       "      <td>293.700012</td>\n",
       "      <td>300.190002</td>\n",
       "      <td>300.190002</td>\n",
       "    </tr>\n",
       "    <tr>\n",
       "      <th>2022-03-03</th>\n",
       "      <td>302.890015</td>\n",
       "      <td>303.130005</td>\n",
       "      <td>294.049988</td>\n",
       "      <td>295.920013</td>\n",
       "      <td>295.920013</td>\n",
       "    </tr>\n",
       "    <tr>\n",
       "      <th>2022-03-04</th>\n",
       "      <td>294.290009</td>\n",
       "      <td>295.660004</td>\n",
       "      <td>287.170013</td>\n",
       "      <td>289.859985</td>\n",
       "      <td>289.859985</td>\n",
       "    </tr>\n",
       "  </tbody>\n",
       "</table>\n",
       "</div>"
      ],
      "text/plain": [
       "                  Open        High         Low       Close   Adj Close\n",
       "Date                                                                  \n",
       "2022-02-28  294.309998  299.140015  293.000000  298.790009  298.790009\n",
       "2022-03-01  296.399994  299.970001  292.149994  294.950012  294.950012\n",
       "2022-03-02  295.359985  301.470001  293.700012  300.190002  300.190002\n",
       "2022-03-03  302.890015  303.130005  294.049988  295.920013  295.920013\n",
       "2022-03-04  294.290009  295.660004  287.170013  289.859985  289.859985"
      ]
     },
     "execution_count": 81,
     "metadata": {},
     "output_type": "execute_result"
    }
   ],
   "source": [
    "tmp_msft.tail()"
   ]
  },
  {
   "cell_type": "markdown",
   "id": "33e4c97f",
   "metadata": {},
   "source": [
    "msft"
   ]
  },
  {
   "cell_type": "code",
   "execution_count": 80,
   "id": "13989912",
   "metadata": {},
   "outputs": [
    {
     "data": {
      "text/html": [
       "<div>\n",
       "<style scoped>\n",
       "    .dataframe tbody tr th:only-of-type {\n",
       "        vertical-align: middle;\n",
       "    }\n",
       "\n",
       "    .dataframe tbody tr th {\n",
       "        vertical-align: top;\n",
       "    }\n",
       "\n",
       "    .dataframe thead th {\n",
       "        text-align: right;\n",
       "    }\n",
       "</style>\n",
       "<table border=\"1\" class=\"dataframe\">\n",
       "  <thead>\n",
       "    <tr style=\"text-align: right;\">\n",
       "      <th></th>\n",
       "      <th>Open</th>\n",
       "      <th>High</th>\n",
       "      <th>Low</th>\n",
       "      <th>Close</th>\n",
       "      <th>Adj Close</th>\n",
       "      <th>Volume</th>\n",
       "    </tr>\n",
       "    <tr>\n",
       "      <th>Date</th>\n",
       "      <th></th>\n",
       "      <th></th>\n",
       "      <th></th>\n",
       "      <th></th>\n",
       "      <th></th>\n",
       "      <th></th>\n",
       "    </tr>\n",
       "  </thead>\n",
       "  <tbody>\n",
       "    <tr>\n",
       "      <th>2019-03-05</th>\n",
       "      <td>112.250000</td>\n",
       "      <td>112.389999</td>\n",
       "      <td>111.230003</td>\n",
       "      <td>111.699997</td>\n",
       "      <td>108.250671</td>\n",
       "      <td>19538300</td>\n",
       "    </tr>\n",
       "    <tr>\n",
       "      <th>2019-03-06</th>\n",
       "      <td>111.870003</td>\n",
       "      <td>112.660004</td>\n",
       "      <td>111.430000</td>\n",
       "      <td>111.750000</td>\n",
       "      <td>108.299141</td>\n",
       "      <td>17687000</td>\n",
       "    </tr>\n",
       "    <tr>\n",
       "      <th>2019-03-07</th>\n",
       "      <td>111.400002</td>\n",
       "      <td>111.550003</td>\n",
       "      <td>109.870003</td>\n",
       "      <td>110.389999</td>\n",
       "      <td>106.981133</td>\n",
       "      <td>25339000</td>\n",
       "    </tr>\n",
       "    <tr>\n",
       "      <th>2019-03-08</th>\n",
       "      <td>109.160004</td>\n",
       "      <td>110.709999</td>\n",
       "      <td>108.800003</td>\n",
       "      <td>110.510002</td>\n",
       "      <td>107.097435</td>\n",
       "      <td>22818400</td>\n",
       "    </tr>\n",
       "    <tr>\n",
       "      <th>2019-03-11</th>\n",
       "      <td>110.989998</td>\n",
       "      <td>112.949997</td>\n",
       "      <td>110.980003</td>\n",
       "      <td>112.830002</td>\n",
       "      <td>109.345787</td>\n",
       "      <td>26491600</td>\n",
       "    </tr>\n",
       "    <tr>\n",
       "      <th>...</th>\n",
       "      <td>...</td>\n",
       "      <td>...</td>\n",
       "      <td>...</td>\n",
       "      <td>...</td>\n",
       "      <td>...</td>\n",
       "      <td>...</td>\n",
       "    </tr>\n",
       "    <tr>\n",
       "      <th>2022-02-28</th>\n",
       "      <td>294.309998</td>\n",
       "      <td>299.140015</td>\n",
       "      <td>293.000000</td>\n",
       "      <td>298.790009</td>\n",
       "      <td>298.790009</td>\n",
       "      <td>34585700</td>\n",
       "    </tr>\n",
       "    <tr>\n",
       "      <th>2022-03-01</th>\n",
       "      <td>296.399994</td>\n",
       "      <td>299.970001</td>\n",
       "      <td>292.149994</td>\n",
       "      <td>294.950012</td>\n",
       "      <td>294.950012</td>\n",
       "      <td>31217800</td>\n",
       "    </tr>\n",
       "    <tr>\n",
       "      <th>2022-03-02</th>\n",
       "      <td>295.359985</td>\n",
       "      <td>301.470001</td>\n",
       "      <td>293.700012</td>\n",
       "      <td>300.190002</td>\n",
       "      <td>300.190002</td>\n",
       "      <td>31873000</td>\n",
       "    </tr>\n",
       "    <tr>\n",
       "      <th>2022-03-03</th>\n",
       "      <td>302.890015</td>\n",
       "      <td>303.130005</td>\n",
       "      <td>294.049988</td>\n",
       "      <td>295.920013</td>\n",
       "      <td>295.920013</td>\n",
       "      <td>27314500</td>\n",
       "    </tr>\n",
       "    <tr>\n",
       "      <th>2022-03-04</th>\n",
       "      <td>294.290009</td>\n",
       "      <td>295.660004</td>\n",
       "      <td>287.170013</td>\n",
       "      <td>289.859985</td>\n",
       "      <td>289.859985</td>\n",
       "      <td>32356500</td>\n",
       "    </tr>\n",
       "  </tbody>\n",
       "</table>\n",
       "<p>758 rows × 6 columns</p>\n",
       "</div>"
      ],
      "text/plain": [
       "                  Open        High         Low       Close   Adj Close  \\\n",
       "Date                                                                     \n",
       "2019-03-05  112.250000  112.389999  111.230003  111.699997  108.250671   \n",
       "2019-03-06  111.870003  112.660004  111.430000  111.750000  108.299141   \n",
       "2019-03-07  111.400002  111.550003  109.870003  110.389999  106.981133   \n",
       "2019-03-08  109.160004  110.709999  108.800003  110.510002  107.097435   \n",
       "2019-03-11  110.989998  112.949997  110.980003  112.830002  109.345787   \n",
       "...                ...         ...         ...         ...         ...   \n",
       "2022-02-28  294.309998  299.140015  293.000000  298.790009  298.790009   \n",
       "2022-03-01  296.399994  299.970001  292.149994  294.950012  294.950012   \n",
       "2022-03-02  295.359985  301.470001  293.700012  300.190002  300.190002   \n",
       "2022-03-03  302.890015  303.130005  294.049988  295.920013  295.920013   \n",
       "2022-03-04  294.290009  295.660004  287.170013  289.859985  289.859985   \n",
       "\n",
       "              Volume  \n",
       "Date                  \n",
       "2019-03-05  19538300  \n",
       "2019-03-06  17687000  \n",
       "2019-03-07  25339000  \n",
       "2019-03-08  22818400  \n",
       "2019-03-11  26491600  \n",
       "...              ...  \n",
       "2022-02-28  34585700  \n",
       "2022-03-01  31217800  \n",
       "2022-03-02  31873000  \n",
       "2022-03-03  27314500  \n",
       "2022-03-04  32356500  \n",
       "\n",
       "[758 rows x 6 columns]"
      ]
     },
     "execution_count": 80,
     "metadata": {},
     "output_type": "execute_result"
    }
   ],
   "source": [
    "msft"
   ]
  },
  {
   "cell_type": "code",
   "execution_count": 82,
   "id": "1fe5e9ba",
   "metadata": {},
   "outputs": [
    {
     "data": {
      "text/plain": [
       "DatetimeIndex(['2019-03-06', '2019-03-07', '2019-03-08', '2019-03-11',\n",
       "               '2019-03-12', '2019-03-13', '2019-03-14', '2019-03-15',\n",
       "               '2019-03-18', '2019-03-19',\n",
       "               ...\n",
       "               '2022-02-21', '2022-02-22', '2022-02-23', '2022-02-24',\n",
       "               '2022-02-25', '2022-02-28', '2022-03-02', '2022-03-03',\n",
       "               '2022-03-04', '2022-03-07'],\n",
       "              dtype='datetime64[ns]', name='Date', length=742, freq=None)"
      ]
     },
     "execution_count": 82,
     "metadata": {},
     "output_type": "execute_result"
    }
   ],
   "source": [
    "sec.index"
   ]
  },
  {
   "cell_type": "code",
   "execution_count": 84,
   "id": "75b44009",
   "metadata": {},
   "outputs": [
    {
     "data": {
      "text/plain": [
       "Index(['Open', 'High', 'Low', 'Close', 'Adj Close', 'Volume'], dtype='object')"
      ]
     },
     "execution_count": 84,
     "metadata": {},
     "output_type": "execute_result"
    }
   ],
   "source": [
    "sec.columns"
   ]
  },
  {
   "cell_type": "code",
   "execution_count": 90,
   "id": "41a41551",
   "metadata": {},
   "outputs": [
    {
     "name": "stdout",
     "output_type": "stream",
     "text": [
      "[*********************100%***********************]  1 of 1 completed\n",
      "[*********************100%***********************]  1 of 1 completed\n"
     ]
    },
    {
     "data": {
      "text/plain": [
       "[<matplotlib.lines.Line2D at 0x7feef5100340>]"
      ]
     },
     "execution_count": 90,
     "metadata": {},
     "output_type": "execute_result"
    },
    {
     "data": {
      "image/png": "[encoded data removed]",
      "text/plain": [
       "<Figure size 432x288 with 1 Axes>"
      ]
     },
     "metadata": {
      "needs_background": "light"
     },
     "output_type": "display_data"
    }
   ],
   "source": [
    "from pandas_datareader import data as pdr\n",
    "import yfinance as yf\n",
    "yf.pdr_override()\n",
    "\n",
    "\n",
    "sec = pdr.get_data_yahoo('005930.KS', start='2019-03-06')\n",
    "msft = pdr.get_data_yahoo('MSFT', start='2019-03-06')\n",
    "\n",
    "\n",
    "import matplotlib.pyplot as plt\n",
    "\n",
    "plt.plot(sec.index, sec.Close, 'b', label = 'Samsung Electronics')\n",
    "plt.plot(msft.index, msft.Close, 'r--', label = 'Samsung Electronics')\n"
   ]
  },
  {
   "cell_type": "markdown",
   "id": "df84f5f2",
   "metadata": {},
   "source": [
    "### 일간 변동률로 주가 비교하기"
   ]
  },
  {
   "cell_type": "code",
   "execution_count": 91,
   "id": "81c14c61",
   "metadata": {},
   "outputs": [
    {
     "data": {
      "text/plain": [
       "pandas.core.series.Series"
      ]
     },
     "execution_count": 91,
     "metadata": {},
     "output_type": "execute_result"
    }
   ],
   "source": [
    "type(sec['Close'])"
   ]
  },
  {
   "cell_type": "code",
   "execution_count": 92,
   "id": "2e65ffc0",
   "metadata": {},
   "outputs": [
    {
     "data": {
      "text/plain": [
       "Date\n",
       "2019-03-06    44000.0\n",
       "2019-03-07    44450.0\n",
       "2019-03-08    43800.0\n",
       "2019-03-11    43650.0\n",
       "2019-03-12    44650.0\n",
       "               ...   \n",
       "2022-02-28    71900.0\n",
       "2022-03-02    71700.0\n",
       "2022-03-03    72900.0\n",
       "2022-03-04    72900.0\n",
       "2022-03-07    70100.0\n",
       "Name: Close, Length: 742, dtype: float64"
      ]
     },
     "execution_count": 92,
     "metadata": {},
     "output_type": "execute_result"
    }
   ],
   "source": [
    "sec['Close']"
   ]
  },
  {
   "cell_type": "code",
   "execution_count": 93,
   "id": "5c0db1bd",
   "metadata": {},
   "outputs": [
    {
     "data": {
      "text/plain": [
       "Date\n",
       "2019-03-06        NaN\n",
       "2019-03-07    44000.0\n",
       "2019-03-08    44450.0\n",
       "2019-03-11    43800.0\n",
       "2019-03-12    43650.0\n",
       "               ...   \n",
       "2022-02-28    71900.0\n",
       "2022-03-02    71900.0\n",
       "2022-03-03    71700.0\n",
       "2022-03-04    72900.0\n",
       "2022-03-07    72900.0\n",
       "Name: Close, Length: 742, dtype: float64"
      ]
     },
     "execution_count": 93,
     "metadata": {},
     "output_type": "execute_result"
    }
   ],
   "source": [
    "sec['Close'].shift()"
   ]
  },
  {
   "cell_type": "code",
   "execution_count": 94,
   "id": "e037c391",
   "metadata": {},
   "outputs": [],
   "source": [
    "sec_dpc = (sec['Close']/sec['Close'].shift(1) - 1)*100"
   ]
  },
  {
   "cell_type": "code",
   "execution_count": 95,
   "id": "a6816867",
   "metadata": {},
   "outputs": [
    {
     "data": {
      "text/plain": [
       "Date\n",
       "2019-03-06         NaN\n",
       "2019-03-07    1.022727\n",
       "2019-03-08   -1.462317\n",
       "2019-03-11   -0.342466\n",
       "2019-03-12    2.290951\n",
       "Name: Close, dtype: float64"
      ]
     },
     "execution_count": 95,
     "metadata": {},
     "output_type": "execute_result"
    }
   ],
   "source": [
    "sec_dpc.head()"
   ]
  },
  {
   "cell_type": "code",
   "execution_count": 96,
   "id": "41f175c6",
   "metadata": {},
   "outputs": [],
   "source": [
    "sec_dpc.iloc[0] = 0\n"
   ]
  },
  {
   "cell_type": "code",
   "execution_count": 98,
   "id": "353015ce",
   "metadata": {},
   "outputs": [
    {
     "data": {
      "text/plain": [
       "Date\n",
       "2019-03-06    0.000000\n",
       "2019-03-07    1.022727\n",
       "2019-03-08   -1.462317\n",
       "2019-03-11   -0.342466\n",
       "2019-03-12    2.290951\n",
       "Name: Close, dtype: float64"
      ]
     },
     "execution_count": 98,
     "metadata": {},
     "output_type": "execute_result"
    }
   ],
   "source": [
    "sec_dpc.head()"
   ]
  },
  {
   "cell_type": "code",
   "execution_count": 104,
   "id": "506eaf99",
   "metadata": {},
   "outputs": [
    {
     "data": {
      "image/png": "[encoded data removed]",
      "text/plain": [
       "<Figure size 432x288 with 1 Axes>"
      ]
     },
     "metadata": {
      "needs_background": "light"
     },
     "output_type": "display_data"
    }
   ],
   "source": [
    "\n",
    "\n",
    "plt.hist(sec_dpc, bins=18)\n",
    "plt.grid(True)\n",
    "plt.show()"
   ]
  },
  {
   "cell_type": "code",
   "execution_count": 106,
   "id": "b3be852f",
   "metadata": {},
   "outputs": [
    {
     "data": {
      "text/plain": [
       "count    742.000000\n",
       "mean       0.076417\n",
       "std        1.656806\n",
       "min       -6.387665\n",
       "25%       -0.898890\n",
       "50%        0.000000\n",
       "75%        0.976007\n",
       "max       10.470588\n",
       "Name: Close, dtype: float64"
      ]
     },
     "execution_count": 106,
     "metadata": {},
     "output_type": "execute_result"
    }
   ],
   "source": [
    "sec_dpc.describe()"
   ]
  },
  {
   "cell_type": "code",
   "execution_count": 110,
   "id": "919d87ea",
   "metadata": {},
   "outputs": [],
   "source": [
    "sec_dpc_cs = sec_dpc.cumsum()"
   ]
  },
  {
   "cell_type": "code",
   "execution_count": 111,
   "id": "b446eba3",
   "metadata": {},
   "outputs": [
    {
     "data": {
      "text/plain": [
       "Date\n",
       "2019-03-06     0.000000\n",
       "2019-03-07     1.022727\n",
       "2019-03-08    -0.439590\n",
       "2019-03-11    -0.782056\n",
       "2019-03-12     1.508895\n",
       "                ...    \n",
       "2022-02-28    59.146892\n",
       "2022-03-02    58.868728\n",
       "2022-03-03    60.542368\n",
       "2022-03-04    60.542368\n",
       "2022-03-07    56.701490\n",
       "Name: Close, Length: 742, dtype: float64"
      ]
     },
     "execution_count": 111,
     "metadata": {},
     "output_type": "execute_result"
    }
   ],
   "source": [
    "sec_dpc_cs"
   ]
  },
  {
   "cell_type": "markdown",
   "id": "f5ccc678",
   "metadata": {},
   "source": [
    "2019년 부터 지금까지 누적 이자율은 56.7% 의 흑자를 가져왔다. "
   ]
  },
  {
   "cell_type": "code",
   "execution_count": 113,
   "id": "40a4f4ad",
   "metadata": {},
   "outputs": [
    {
     "name": "stdout",
     "output_type": "stream",
     "text": [
      "[*********************100%***********************]  1 of 1 completed\n",
      "[*********************100%***********************]  1 of 1 completed\n"
     ]
    },
    {
     "data": {
      "text/plain": [
       "[<matplotlib.lines.Line2D at 0x7feef5ea5790>]"
      ]
     },
     "execution_count": 113,
     "metadata": {},
     "output_type": "execute_result"
    },
    {
     "data": {
      "image/png": "[encoded data removed]",
      "text/plain": [
       "<Figure size 432x288 with 1 Axes>"
      ]
     },
     "metadata": {
      "needs_background": "light"
     },
     "output_type": "display_data"
    }
   ],
   "source": [
    "from pandas_datareader import data as pdr\n",
    "import yfinance as yf\n",
    "yf.pdr_override()\n",
    "\n",
    "\n",
    "sec = pdr.get_data_yahoo('005930.KS', start='2019-03-06')\n",
    "sec_dpc = (sec['Close']/sec['Close'].shift(1) - 1)*100\n",
    "sec_dpc.iloc[0] = 0\n",
    "sec_dpc_cs = sec_dpc.cumsum()\n",
    "\n",
    "\n",
    "msft = pdr.get_data_yahoo('MSFT', start='2017-03-06')\n",
    "msft_dpc = (msft['Close']/msft['Close'].shift(1) - 1)*100\n",
    "msft_dpc.iloc[0] = 0\n",
    "msft_dpc_cs = msft_dpc.cumsum()\n",
    "\n",
    "\n",
    "import matplotlib.pyplot as plt\n",
    "\n",
    "plt.plot(sec.index, sec_dpc_cs, 'b', label = 'Samsung Electronics')\n",
    "plt.plot(msft.index, msft_dpc_cs, 'r--', label = 'Samsung Electronics')\n",
    "\n",
    "\n"
   ]
  },
  {
   "cell_type": "code",
   "execution_count": null,
   "id": "fa73c240",
   "metadata": {},
   "outputs": [],
   "source": []
  }
 ],
 "metadata": {
  "kernelspec": {
   "display_name": "firstEnv",
   "language": "python",
   "name": "firstenv"
  },
  "language_info": {
   "codemirror_mode": {
    "name": "ipython",
    "version": 3
   },
   "file_extension": ".py",
   "mimetype": "text/x-python",
   "name": "python",
   "nbconvert_exporter": "python",
   "pygments_lexer": "ipython3",
   "version": "3.8.8"
  }
 },
 "nbformat": 4,
 "nbformat_minor": 5
}
