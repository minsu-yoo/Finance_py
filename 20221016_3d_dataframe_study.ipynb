{
 "cells": [
  {
   "cell_type": "code",
   "execution_count": 1,
   "id": "e84f6b70",
   "metadata": {},
   "outputs": [
    {
     "data": {
      "text/plain": [
       "'0.9.34'"
      ]
     },
     "execution_count": 1,
     "metadata": {},
     "output_type": "execute_result"
    }
   ],
   "source": [
    "import FinanceDataReader as fdr\n",
    "fdr.__version__"
   ]
  },
  {
   "cell_type": "code",
   "execution_count": 4,
   "id": "81dbc699",
   "metadata": {},
   "outputs": [],
   "source": [
    "import matplotlib.pyplot as plt\n",
    "import pandas as pd\n",
    "\n",
    "plt.rcParams[\"axes.grid\"] = True\n",
    "plt.rcParams[\"figure.figsize\"] = (16,8)"
   ]
  },
  {
   "cell_type": "code",
   "execution_count": 5,
   "id": "e0a6d7f7",
   "metadata": {},
   "outputs": [],
   "source": [
    "url = 'http://kind.krx.co.kr/corpgeneral/corpList.do?method='\\\n",
    "            'download&searchType=13'\n",
    "krx = pd.read_html(url, header=0)[0]\n",
    "krx = krx[['종목코드', '회사명']]\n",
    "krx = krx.rename(columns={'종목코드': 'code', '회사명': 'company'})\n",
    "krx.code = krx.code.map('{:06d}'.format)"
   ]
  },
  {
   "cell_type": "code",
   "execution_count": 6,
   "id": "74cd59e5",
   "metadata": {},
   "outputs": [],
   "source": [
    "df_krx = fdr.StockListing('KRX')\n",
    "tiker_list = list(df_krx.Symbol)"
   ]
  },
  {
   "cell_type": "code",
   "execution_count": 25,
   "id": "00cafccb",
   "metadata": {},
   "outputs": [],
   "source": [
    "naver_index = df_krx.index[df_krx['Symbol'] == '035420'].tolist()\n"
   ]
  },
  {
   "cell_type": "code",
   "execution_count": 26,
   "id": "9749d33c",
   "metadata": {},
   "outputs": [
    {
     "data": {
      "text/plain": [
       "[1334]"
      ]
     },
     "execution_count": 26,
     "metadata": {},
     "output_type": "execute_result"
    }
   ],
   "source": [
    "naver_index"
   ]
  },
  {
   "cell_type": "code",
   "execution_count": 8,
   "id": "3866d7c2",
   "metadata": {},
   "outputs": [
    {
     "data": {
      "text/plain": [
       "0       000210\n",
       "1       004840\n",
       "2       155660\n",
       "3       078930\n",
       "4       294870\n",
       "         ...  \n",
       "2531    169670\n",
       "2532    318660\n",
       "2533    222670\n",
       "2534    331660\n",
       "2535    212310\n",
       "Name: code, Length: 2536, dtype: object"
      ]
     },
     "execution_count": 8,
     "metadata": {},
     "output_type": "execute_result"
    }
   ],
   "source": [
    "krx.code"
   ]
  },
  {
   "cell_type": "code",
   "execution_count": 11,
   "id": "d30ecd78",
   "metadata": {},
   "outputs": [],
   "source": [
    "import numpy as np"
   ]
  },
  {
   "cell_type": "code",
   "execution_count": 12,
   "id": "2723c7c4",
   "metadata": {
    "scrolled": true
   },
   "outputs": [],
   "source": [
    "data = pd.Series(np.random.randn(9),\n",
    "                 index=[['a', 'a', 'a', 'b', 'b', 'c', 'c', 'd', 'd'],[1,2,3,1,3,1,2,2,3]])"
   ]
  },
  {
   "cell_type": "markdown",
   "id": "9c486ba0",
   "metadata": {},
   "source": [
    "중국의 먹을 것: 짜장면, 완탕\n",
    "한국의 먹을 것: 짜장면, 밥, 비빔밥 \n",
    "\n",
    "이런 식으로 상위 개념을 하위 단계들로 내려가면서 2개 이상의 index 를 설정할 수 있다. 위의 예에서 index 는 (중국의 먹을 것, 한국의 먹을 것)이 상위 개념, 그리고 짜장면, 완탕, 밥 등이 될 수 있을 것이다.  한 가지 유의할 사항은 하위 개념은 다른 상위 범위 안에서 반복될 수 있다.  예를 들어, 짜장면은 '중국의 먹을 것'과 '한국의 먹을 것'에서 반복 되었다.  "
   ]
  },
  {
   "cell_type": "code",
   "execution_count": 14,
   "id": "f99dc597",
   "metadata": {
    "scrolled": true
   },
   "outputs": [
    {
     "data": {
      "text/plain": [
       "MultiIndex([('a', 1),\n",
       "            ('a', 2),\n",
       "            ('a', 3),\n",
       "            ('b', 1),\n",
       "            ('b', 3),\n",
       "            ('c', 1),\n",
       "            ('c', 2),\n",
       "            ('d', 2),\n",
       "            ('d', 3)],\n",
       "           )"
      ]
     },
     "execution_count": 14,
     "metadata": {},
     "output_type": "execute_result"
    }
   ],
   "source": [
    "data.index"
   ]
  },
  {
   "cell_type": "code",
   "execution_count": 18,
   "id": "da613609",
   "metadata": {},
   "outputs": [
    {
     "data": {
      "text/plain": [
       "b  1   -0.148189\n",
       "   3   -0.010884\n",
       "d  2   -0.472657\n",
       "   3    2.013252\n",
       "dtype: float64"
      ]
     },
     "execution_count": 18,
     "metadata": {},
     "output_type": "execute_result"
    }
   ],
   "source": [
    "data.loc[['b', 'd']]"
   ]
  },
  {
   "cell_type": "code",
   "execution_count": 19,
   "id": "a9c1c843",
   "metadata": {
    "scrolled": false
   },
   "outputs": [
    {
     "data": {
      "text/plain": [
       "a   -1.493813\n",
       "c    0.065094\n",
       "d   -0.472657\n",
       "dtype: float64"
      ]
     },
     "execution_count": 19,
     "metadata": {},
     "output_type": "execute_result"
    }
   ],
   "source": [
    "data.loc[:,2]"
   ]
  },
  {
   "cell_type": "code",
   "execution_count": 20,
   "id": "52079124",
   "metadata": {},
   "outputs": [
    {
     "data": {
      "text/html": [
       "<div>\n",
       "<style scoped>\n",
       "    .dataframe tbody tr th:only-of-type {\n",
       "        vertical-align: middle;\n",
       "    }\n",
       "\n",
       "    .dataframe tbody tr th {\n",
       "        vertical-align: top;\n",
       "    }\n",
       "\n",
       "    .dataframe thead th {\n",
       "        text-align: right;\n",
       "    }\n",
       "</style>\n",
       "<table border=\"1\" class=\"dataframe\">\n",
       "  <thead>\n",
       "    <tr style=\"text-align: right;\">\n",
       "      <th></th>\n",
       "      <th>1</th>\n",
       "      <th>2</th>\n",
       "      <th>3</th>\n",
       "    </tr>\n",
       "  </thead>\n",
       "  <tbody>\n",
       "    <tr>\n",
       "      <th>a</th>\n",
       "      <td>-0.830828</td>\n",
       "      <td>-1.493813</td>\n",
       "      <td>1.167666</td>\n",
       "    </tr>\n",
       "    <tr>\n",
       "      <th>b</th>\n",
       "      <td>-0.148189</td>\n",
       "      <td>NaN</td>\n",
       "      <td>-0.010884</td>\n",
       "    </tr>\n",
       "    <tr>\n",
       "      <th>c</th>\n",
       "      <td>-0.809846</td>\n",
       "      <td>0.065094</td>\n",
       "      <td>NaN</td>\n",
       "    </tr>\n",
       "    <tr>\n",
       "      <th>d</th>\n",
       "      <td>NaN</td>\n",
       "      <td>-0.472657</td>\n",
       "      <td>2.013252</td>\n",
       "    </tr>\n",
       "  </tbody>\n",
       "</table>\n",
       "</div>"
      ],
      "text/plain": [
       "          1         2         3\n",
       "a -0.830828 -1.493813  1.167666\n",
       "b -0.148189       NaN -0.010884\n",
       "c -0.809846  0.065094       NaN\n",
       "d       NaN -0.472657  2.013252"
      ]
     },
     "execution_count": 20,
     "metadata": {},
     "output_type": "execute_result"
    }
   ],
   "source": [
    "data.unstack()"
   ]
  },
  {
   "cell_type": "code",
   "execution_count": 23,
   "id": "2e782a3d",
   "metadata": {},
   "outputs": [],
   "source": [
    "frame = pd.DataFrame(np.arange(12).reshape((4, 3)))\n"
   ]
  },
  {
   "cell_type": "code",
   "execution_count": 24,
   "id": "46c21158",
   "metadata": {},
   "outputs": [
    {
     "data": {
      "text/html": [
       "<div>\n",
       "<style scoped>\n",
       "    .dataframe tbody tr th:only-of-type {\n",
       "        vertical-align: middle;\n",
       "    }\n",
       "\n",
       "    .dataframe tbody tr th {\n",
       "        vertical-align: top;\n",
       "    }\n",
       "\n",
       "    .dataframe thead th {\n",
       "        text-align: right;\n",
       "    }\n",
       "</style>\n",
       "<table border=\"1\" class=\"dataframe\">\n",
       "  <thead>\n",
       "    <tr style=\"text-align: right;\">\n",
       "      <th></th>\n",
       "      <th>0</th>\n",
       "      <th>1</th>\n",
       "      <th>2</th>\n",
       "    </tr>\n",
       "  </thead>\n",
       "  <tbody>\n",
       "    <tr>\n",
       "      <th>0</th>\n",
       "      <td>0</td>\n",
       "      <td>1</td>\n",
       "      <td>2</td>\n",
       "    </tr>\n",
       "    <tr>\n",
       "      <th>1</th>\n",
       "      <td>3</td>\n",
       "      <td>4</td>\n",
       "      <td>5</td>\n",
       "    </tr>\n",
       "    <tr>\n",
       "      <th>2</th>\n",
       "      <td>6</td>\n",
       "      <td>7</td>\n",
       "      <td>8</td>\n",
       "    </tr>\n",
       "    <tr>\n",
       "      <th>3</th>\n",
       "      <td>9</td>\n",
       "      <td>10</td>\n",
       "      <td>11</td>\n",
       "    </tr>\n",
       "  </tbody>\n",
       "</table>\n",
       "</div>"
      ],
      "text/plain": [
       "   0   1   2\n",
       "0  0   1   2\n",
       "1  3   4   5\n",
       "2  6   7   8\n",
       "3  9  10  11"
      ]
     },
     "execution_count": 24,
     "metadata": {},
     "output_type": "execute_result"
    }
   ],
   "source": [
    "frame"
   ]
  },
  {
   "cell_type": "code",
   "execution_count": null,
   "id": "b7d95b29",
   "metadata": {},
   "outputs": [],
   "source": []
  }
 ],
 "metadata": {
  "kernelspec": {
   "display_name": "firstEnv",
   "language": "python",
   "name": "firstenv"
  },
  "language_info": {
   "codemirror_mode": {
    "name": "ipython",
    "version": 3
   },
   "file_extension": ".py",
   "mimetype": "text/x-python",
   "name": "python",
   "nbconvert_exporter": "python",
   "pygments_lexer": "ipython3",
   "version": "3.9.12"
  }
 },
 "nbformat": 4,
 "nbformat_minor": 5
}
