{
 "cells": [
  {
   "cell_type": "code",
   "execution_count": 1,
   "id": "a4c335f9",
   "metadata": {
    "scrolled": true
   },
   "outputs": [],
   "source": [
    "import myPackage.moduleA\n"
   ]
  },
  {
   "cell_type": "code",
   "execution_count": 2,
   "id": "bdd666e4",
   "metadata": {},
   "outputs": [
    {
     "name": "stdout",
     "output_type": "stream",
     "text": [
      "FUNCTION_A\n"
     ]
    }
   ],
   "source": [
    "myPackage.moduleA.functionA()\n"
   ]
  },
  {
   "cell_type": "code",
   "execution_count": 3,
   "id": "6d3229e0",
   "metadata": {},
   "outputs": [
    {
     "name": "stdout",
     "output_type": "stream",
     "text": [
      "MODULE_B : myPackage.moduleB\n"
     ]
    }
   ],
   "source": [
    "import myPackage.moduleB\n"
   ]
  },
  {
   "cell_type": "code",
   "execution_count": 4,
   "id": "1f1d4123",
   "metadata": {
    "scrolled": false
   },
   "outputs": [],
   "source": [
    "from myPackage import *"
   ]
  },
  {
   "cell_type": "code",
   "execution_count": 5,
   "id": "85e8e1cc",
   "metadata": {},
   "outputs": [
    {
     "name": "stdout",
     "output_type": "stream",
     "text": [
      "The Zen of Python, by Tim Peters\n",
      "\n",
      "Beautiful is better than ugly.\n",
      "Explicit is better than implicit.\n",
      "Simple is better than complex.\n",
      "Complex is better than complicated.\n",
      "Flat is better than nested.\n",
      "Sparse is better than dense.\n",
      "Readability counts.\n",
      "Special cases aren't special enough to break the rules.\n",
      "Although practicality beats purity.\n",
      "Errors should never pass silently.\n",
      "Unless explicitly silenced.\n",
      "In the face of ambiguity, refuse the temptation to guess.\n",
      "There should be one-- and preferably only one --obvious way to do it.\n",
      "Although that way may not be obvious at first unless you're Dutch.\n",
      "Now is better than never.\n",
      "Although never is often better than *right* now.\n",
      "If the implementation is hard to explain, it's a bad idea.\n",
      "If the implementation is easy to explain, it may be a good idea.\n",
      "Namespaces are one honking great idea -- let's do more of those!\n"
     ]
    }
   ],
   "source": [
    "import this"
   ]
  },
  {
   "cell_type": "code",
   "execution_count": 19,
   "id": "d8e79e0e",
   "metadata": {},
   "outputs": [],
   "source": [
    "class MyFirstClass:\n",
    "    clsVar = 'The best way to predict the future is to invent it.'\n",
    "    def clsMethod(self):\n",
    "        print(MyFirstClass.clsVar + ' - Alan Curtis Kay -')"
   ]
  },
  {
   "cell_type": "code",
   "execution_count": 20,
   "id": "a67fab6f",
   "metadata": {},
   "outputs": [],
   "source": [
    "mfc = MyFirstClass()"
   ]
  },
  {
   "cell_type": "code",
   "execution_count": 21,
   "id": "eb810abf",
   "metadata": {},
   "outputs": [
    {
     "data": {
      "text/plain": [
       "'The best way to predict the future is to invent it.'"
      ]
     },
     "execution_count": 21,
     "metadata": {},
     "output_type": "execute_result"
    }
   ],
   "source": [
    "mfc.clsVar"
   ]
  },
  {
   "cell_type": "code",
   "execution_count": 22,
   "id": "ab622bf6",
   "metadata": {},
   "outputs": [
    {
     "name": "stdout",
     "output_type": "stream",
     "text": [
      "The best way to predict the future is to invent it. - Alan Curtis Kay -\n"
     ]
    }
   ],
   "source": [
    "mfc.clsMethod()"
   ]
  },
  {
   "cell_type": "code",
   "execution_count": 13,
   "id": "117c1afe",
   "metadata": {},
   "outputs": [],
   "source": [
    "class A:\n",
    "    \n",
    "    def methodA(self):\n",
    "        print(\"Calling A's methodA\")\n",
    "    \n",
    "    def method(self):\n",
    "        print(\"Calling A's method\")\n",
    "        \n",
    "\n",
    "class B:\n",
    "    \n",
    "    def methodB(self):\n",
    "        print(\"Calling B's methodB\")\n",
    "        \n",
    "\n",
    "class C(A,B):\n",
    "\n",
    "    def methodC(self):\n",
    "        print(\"Calling C's methodC\")\n",
    "        \n",
    "        \n",
    "    def method(self):\n",
    "        print(\"Calling C's overridden method\")\n",
    "        super().method()\n",
    "        \n",
    "        "
   ]
  },
  {
   "cell_type": "code",
   "execution_count": 14,
   "id": "5ab42d28",
   "metadata": {},
   "outputs": [],
   "source": [
    "c = C()"
   ]
  },
  {
   "cell_type": "code",
   "execution_count": 15,
   "id": "483500cd",
   "metadata": {
    "scrolled": true
   },
   "outputs": [
    {
     "name": "stdout",
     "output_type": "stream",
     "text": [
      "Calling A's methodA\n",
      "Calling B's methodB\n",
      "Calling C's methodC\n"
     ]
    }
   ],
   "source": [
    "c.methodA()\n",
    "c.methodB()\n",
    "c.methodC()"
   ]
  },
  {
   "cell_type": "code",
   "execution_count": 16,
   "id": "af4d0479",
   "metadata": {
    "scrolled": true
   },
   "outputs": [
    {
     "name": "stdout",
     "output_type": "stream",
     "text": [
      "Calling C's overridden method\n",
      "Calling A's method\n"
     ]
    }
   ],
   "source": [
    "c.method()"
   ]
  },
  {
   "cell_type": "markdown",
   "id": "0e037d1e",
   "metadata": {},
   "source": [
    "### __init__ 과  __del__ 에 대해서 "
   ]
  },
  {
   "cell_type": "code",
   "execution_count": 17,
   "id": "c03b931c",
   "metadata": {},
   "outputs": [],
   "source": [
    "class NasdaqStock:\n",
    "    '''Class for NASDAQ stocks''' #독스트링\n",
    "    \n",
    "    count = 0  #클래스 변수\n",
    "    \n",
    "    def __init__(self, symbol, price):\n",
    "        \n",
    "        '''Constructor for NasdaqStock''' #독스트링\n",
    "        \n",
    "        self.symbol = symbol # 인스턴스 변수\n",
    "        self.price = price # 인스턴스 변수\n",
    "        NasdaqStock.count += 1\n",
    "        print('Calling __init__({}, {:.2f}) > count: {}'.format\n",
    "             (self.symbol, self.price, NasdaqStock.count))\n",
    "        \n",
    "    def __del__(self):\n",
    "        '''Destructor for NasdaqStock'''  #독스트링\n",
    "        print('Calling __del__({})'.format(self))\n",
    "        \n",
    "    \n",
    "    "
   ]
  },
  {
   "cell_type": "code",
   "execution_count": 18,
   "id": "8955c345",
   "metadata": {},
   "outputs": [
    {
     "name": "stdout",
     "output_type": "stream",
     "text": [
      "Calling __init__(GOOG, 1154.05) > count: 1\n"
     ]
    }
   ],
   "source": [
    "gg = NasdaqStock('GOOG', 1154.05)"
   ]
  },
  {
   "cell_type": "code",
   "execution_count": 19,
   "id": "7acf19aa",
   "metadata": {},
   "outputs": [
    {
     "name": "stdout",
     "output_type": "stream",
     "text": [
      "Calling __del__(<__main__.NasdaqStock object at 0x7ff45d801280>)\n"
     ]
    }
   ],
   "source": [
    "del(gg)"
   ]
  },
  {
   "cell_type": "code",
   "execution_count": 20,
   "id": "bb4f1cba",
   "metadata": {},
   "outputs": [
    {
     "name": "stdout",
     "output_type": "stream",
     "text": [
      "Calling __init__(MSFT, 102.44) > count: 2\n"
     ]
    }
   ],
   "source": [
    "ms = NasdaqStock('MSFT', 102.44)"
   ]
  },
  {
   "cell_type": "code",
   "execution_count": 21,
   "id": "dba6a9fd",
   "metadata": {},
   "outputs": [
    {
     "name": "stdout",
     "output_type": "stream",
     "text": [
      "Help on class NasdaqStock in module __main__:\n",
      "\n",
      "class NasdaqStock(builtins.object)\n",
      " |  NasdaqStock(symbol, price)\n",
      " |  \n",
      " |  Class for NASDAQ stocks\n",
      " |  \n",
      " |  Methods defined here:\n",
      " |  \n",
      " |  __del__(self)\n",
      " |      Destructor for NasdaqStock\n",
      " |  \n",
      " |  __init__(self, symbol, price)\n",
      " |      Constructor for NasdaqStock\n",
      " |  \n",
      " |  ----------------------------------------------------------------------\n",
      " |  Data descriptors defined here:\n",
      " |  \n",
      " |  __dict__\n",
      " |      dictionary for instance variables (if defined)\n",
      " |  \n",
      " |  __weakref__\n",
      " |      list of weak references to the object (if defined)\n",
      " |  \n",
      " |  ----------------------------------------------------------------------\n",
      " |  Data and other attributes defined here:\n",
      " |  \n",
      " |  count = 2\n",
      "\n"
     ]
    }
   ],
   "source": [
    "help(NasdaqStock)"
   ]
  },
  {
   "cell_type": "markdown",
   "id": "551e3f3c",
   "metadata": {},
   "source": [
    "## 파일 처리 및 외부 라이브러리 활용\n"
   ]
  },
  {
   "cell_type": "code",
   "execution_count": null,
   "id": "0e10f61c",
   "metadata": {},
   "outputs": [],
   "source": []
  }
 ],
 "metadata": {
  "kernelspec": {
   "display_name": "firstEnv",
   "language": "python",
   "name": "firstenv"
  },
  "language_info": {
   "codemirror_mode": {
    "name": "ipython",
    "version": 3
   },
   "file_extension": ".py",
   "mimetype": "text/x-python",
   "name": "python",
   "nbconvert_exporter": "python",
   "pygments_lexer": "ipython3",
   "version": "3.8.8"
  }
 },
 "nbformat": 4,
 "nbformat_minor": 5
}
