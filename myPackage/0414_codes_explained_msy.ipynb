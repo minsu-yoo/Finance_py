{
 "cells": [
  {
   "cell_type": "code",
   "execution_count": 3,
   "id": "5a191080",
   "metadata": {},
   "outputs": [],
   "source": [
    "import pandas as pd\n",
    "from bs4 import BeautifulSoup\n",
    "import urllib\n",
    "import pymysql\n",
    "import calendar\n",
    "import time\n",
    "import json\n",
    "from urllib.request import urlopen\n",
    "from datetime import datetime\n",
    "from threading import Timer\n"
   ]
  },
  {
   "cell_type": "code",
   "execution_count": 4,
   "id": "0200a2d3",
   "metadata": {},
   "outputs": [],
   "source": [
    "def read_naver(self, code, company, pages_to_fetch):\n",
    "    \"\"\"네이버에서 주식 시세를 읽어서 데이터프레임으로 반환\"\"\"\n",
    "    try:\n",
    "        url = f\"http://finance.naver.com/item/sise_day.nhn?code={code}\"\n",
    "        with urlopen(url) as doc:\n",
    "            if doc is None:\n",
    "                return None\n",
    "            html = BeautifulSoup(doc, \"lxml\")\n",
    "            pgrr = html.find(\"td\", class_=\"pgRR\")\n",
    "            if pgrr is None:\n",
    "                return None\n",
    "            s = str(pgrr.a[\"href\"]).split('=')\n",
    "            lastpage = s[-1]  # 일별 시세의 마지막\n",
    "        df = pd.DataFrame()\n",
    "        pages = min(int(lastpage), pages_to_fetch)\n",
    "        for page in range(1, pages + 1):\n",
    "            pg_url = '{}&page={}'.format(url, page)\n",
    "            df = df.append(pd.read_html(pg_url, header=0)[0])\n",
    "            tmnow = datetime.now().strftime('%Y-%m-%d %H:%M')\n",
    "            print('[{}] {} ({}) : {:04d}/{:04d} pages are downloading...'.\n",
    "                  format(tmnow, company, code, page, pages), end=\"\\r\")\n",
    "        df = df.rename(columns={'날짜': 'date', '종가': 'close', '전일비': 'diff',\n",
    "                       '시가': 'open', '고가': 'high', '저가': 'low', '거래량': 'volume'})\n",
    "        df['date'] = df['date'].replace('.', '-')\n",
    "        df = df.dropna()\n",
    "        df[['close', 'diff', 'open', 'high', 'low', 'volume']] = df[['close',\n",
    "                                                                     'diff', 'open', 'high', 'low', 'volume']].astype(int)\n",
    "        df = df[['date', 'open', 'high', 'low', 'close', 'diff', 'volume']]\n",
    "    except Exception as e:\n",
    "        print('Exception occured :', str(e))\n",
    "        return None\n",
    "    return df\n"
   ]
  },
  {
   "cell_type": "code",
   "execution_count": null,
   "id": "b57660ba",
   "metadata": {},
   "outputs": [],
   "source": []
  },
  {
   "cell_type": "code",
   "execution_count": 5,
   "id": "b24497b2",
   "metadata": {
    "scrolled": true
   },
   "outputs": [
    {
     "data": {
      "text/plain": [
       "col1    int64\n",
       "col2    int64\n",
       "dtype: object"
      ]
     },
     "execution_count": 5,
     "metadata": {},
     "output_type": "execute_result"
    }
   ],
   "source": [
    "d = {'col1': [1, 2], 'col2': [3, 4]}\n",
    "df = pd.DataFrame(data=d)\n",
    "df.dtypes"
   ]
  },
  {
   "cell_type": "code",
   "execution_count": 7,
   "id": "b4e810fb",
   "metadata": {},
   "outputs": [
    {
     "data": {
      "text/plain": [
       "col1    int64\n",
       "col2    int64\n",
       "dtype: object"
      ]
     },
     "execution_count": 7,
     "metadata": {},
     "output_type": "execute_result"
    }
   ],
   "source": [
    "df.dtypes"
   ]
  },
  {
   "cell_type": "code",
   "execution_count": 12,
   "id": "c1a9f845",
   "metadata": {},
   "outputs": [
    {
     "data": {
      "text/plain": [
       "col1    float64\n",
       "col2    float64\n",
       "dtype: object"
      ]
     },
     "execution_count": 12,
     "metadata": {},
     "output_type": "execute_result"
    }
   ],
   "source": [
    "df.astype('float').dtypes"
   ]
  },
  {
   "cell_type": "code",
   "execution_count": 13,
   "id": "f5bc0e15",
   "metadata": {},
   "outputs": [],
   "source": [
    "def replace_into_db(self, df, num, code, company):\n",
    "        \"\"\"네이버에서 읽어온 주식 시세를 DB에 REPLACE\"\"\"\n",
    "        with self.conn.cursor() as curs:\n",
    "            for r in df.itertuples():\n",
    "                sql = f\"REPLACE INTO daily_price VALUES ('{code}', \"\\\n",
    "                    f\"'{r.date}', {r.open}, {r.high}, {r.low}, {r.close}, \"\\\n",
    "                    f\"{r.diff}, {r.volume})\"\n",
    "                curs.execute(sql)\n",
    "            self.conn.commit()\n",
    "            print('[{}] #{:04d} {} ({}) : {} rows > REPLACE INTO daily_'\n",
    "                  'price [OK]'.format(datetime.now().strftime('%Y-%m-%d'\n",
    "                                                              ' %H:%M'), num+1, company, code, len(df)))\n"
   ]
  },
  {
   "cell_type": "markdown",
   "id": "f9171e0d",
   "metadata": {},
   "source": [
    "df.intertuples() 와 관련하여"
   ]
  },
  {
   "cell_type": "code",
   "execution_count": 15,
   "id": "a5c0dbf0",
   "metadata": {},
   "outputs": [],
   "source": [
    "df = pd.DataFrame({'num_legs': [4, 2], 'num_wings': [0, 2]},\n",
    "                  index=['dog', 'hawk'])"
   ]
  },
  {
   "cell_type": "code",
   "execution_count": 17,
   "id": "6cef0ab6",
   "metadata": {},
   "outputs": [
    {
     "data": {
      "text/html": [
       "<div>\n",
       "<style scoped>\n",
       "    .dataframe tbody tr th:only-of-type {\n",
       "        vertical-align: middle;\n",
       "    }\n",
       "\n",
       "    .dataframe tbody tr th {\n",
       "        vertical-align: top;\n",
       "    }\n",
       "\n",
       "    .dataframe thead th {\n",
       "        text-align: right;\n",
       "    }\n",
       "</style>\n",
       "<table border=\"1\" class=\"dataframe\">\n",
       "  <thead>\n",
       "    <tr style=\"text-align: right;\">\n",
       "      <th></th>\n",
       "      <th>num_legs</th>\n",
       "      <th>num_wings</th>\n",
       "    </tr>\n",
       "  </thead>\n",
       "  <tbody>\n",
       "    <tr>\n",
       "      <th>dog</th>\n",
       "      <td>4</td>\n",
       "      <td>0</td>\n",
       "    </tr>\n",
       "    <tr>\n",
       "      <th>hawk</th>\n",
       "      <td>2</td>\n",
       "      <td>2</td>\n",
       "    </tr>\n",
       "  </tbody>\n",
       "</table>\n",
       "</div>"
      ],
      "text/plain": [
       "      num_legs  num_wings\n",
       "dog          4          0\n",
       "hawk         2          2"
      ]
     },
     "execution_count": 17,
     "metadata": {},
     "output_type": "execute_result"
    }
   ],
   "source": [
    "df"
   ]
  },
  {
   "cell_type": "code",
   "execution_count": 19,
   "id": "ec8ba9ed",
   "metadata": {},
   "outputs": [],
   "source": [
    "for row in df.itertuples():\n",
    "    roow = row"
   ]
  },
  {
   "cell_type": "code",
   "execution_count": 21,
   "id": "701f0613",
   "metadata": {},
   "outputs": [
    {
     "data": {
      "text/plain": [
       "pandas.core.frame.Pandas"
      ]
     },
     "execution_count": 21,
     "metadata": {},
     "output_type": "execute_result"
    }
   ],
   "source": [
    "type(roow)"
   ]
  },
  {
   "cell_type": "code",
   "execution_count": 22,
   "id": "9724c250",
   "metadata": {},
   "outputs": [],
   "source": [
    "import pandas as pd\n",
    "#from bs4 import BeautifulSoup\n",
    "#import urllib\n",
    "#from urllib.request import urlopen\n",
    "import pymysql\n",
    "#import time\n",
    "#import pandas.io.sql as sql\n",
    "from datetime import datetime\n",
    "#from threading import Timer\n",
    "#import matplotlib.pyplot as plt\n",
    "\n",
    "\n",
    "class MarketDB:\n",
    "    def __init__(self):\n",
    "        \"\"\"생성자: MariaDB 연결 및 종목코드 딕셔너리 생성\"\"\"\n",
    "        self.conn = pymysql.connect(host='localhost', user='root',\n",
    "                                    password='Rktnek0806^^', db='INVESTAR', charset='utf8')\n",
    "        self.codes = dict()\n",
    "        self.getCompanyInfo()\n",
    "\n",
    "    def __del__(self):\n",
    "        \"\"\"소멸자: MariaDB 연결 해제\"\"\"\n",
    "        self.conn.close()\n",
    "\n",
    "    def getCompanyInfo(self):\n",
    "        \"\"\"company_info 테이블에서 읽어와서 companyData와 codes에 저장\"\"\"\n",
    "        sql = \"SELECT * FROM company_info\"\n",
    "        companyInfo = pd.read_sql(sql, self.conn)\n",
    "        for idx in range(len(companyInfo)):\n",
    "            self.codes[companyInfo['code'].values[idx]] = companyInfo['company'].values[idx]\n",
    "\n",
    "    def getDailyPrice(self, code, startDate, endDate):\n",
    "        \"\"\"daily_price 테이블에서 읽어와서 데이터프레임으로 반환\"\"\"\n",
    "        sql = \"SELECT * FROM daily_price WHERE code = '{}' and date >= '{}' and date <= '{}'\".format(\n",
    "            code, startDate, endDate)\n",
    "        df = pd.read_sql(sql, self.conn)\n",
    "        df.index = df['date']\n",
    "        return df\n"
   ]
  },
  {
   "cell_type": "code",
   "execution_count": 23,
   "id": "3b32da04",
   "metadata": {},
   "outputs": [],
   "source": [
    "mk = MarketDB()"
   ]
  },
  {
   "cell_type": "code",
   "execution_count": 24,
   "id": "839a7218",
   "metadata": {},
   "outputs": [
    {
     "data": {
      "text/plain": [
       "'삼성에스디에스'"
      ]
     },
     "execution_count": 24,
     "metadata": {},
     "output_type": "execute_result"
    }
   ],
   "source": [
    "mk.codes['018260']"
   ]
  },
  {
   "cell_type": "code",
   "execution_count": 27,
   "id": "4fac9287",
   "metadata": {},
   "outputs": [
    {
     "data": {
      "text/html": [
       "<div>\n",
       "<style scoped>\n",
       "    .dataframe tbody tr th:only-of-type {\n",
       "        vertical-align: middle;\n",
       "    }\n",
       "\n",
       "    .dataframe tbody tr th {\n",
       "        vertical-align: top;\n",
       "    }\n",
       "\n",
       "    .dataframe thead th {\n",
       "        text-align: right;\n",
       "    }\n",
       "</style>\n",
       "<table border=\"1\" class=\"dataframe\">\n",
       "  <thead>\n",
       "    <tr style=\"text-align: right;\">\n",
       "      <th></th>\n",
       "      <th>code</th>\n",
       "      <th>date</th>\n",
       "      <th>open</th>\n",
       "      <th>high</th>\n",
       "      <th>low</th>\n",
       "      <th>close</th>\n",
       "      <th>diff</th>\n",
       "      <th>volume</th>\n",
       "    </tr>\n",
       "    <tr>\n",
       "      <th>date</th>\n",
       "      <th></th>\n",
       "      <th></th>\n",
       "      <th></th>\n",
       "      <th></th>\n",
       "      <th></th>\n",
       "      <th></th>\n",
       "      <th></th>\n",
       "      <th></th>\n",
       "    </tr>\n",
       "  </thead>\n",
       "  <tbody>\n",
       "  </tbody>\n",
       "</table>\n",
       "</div>"
      ],
      "text/plain": [
       "Empty DataFrame\n",
       "Columns: [code, date, open, high, low, close, diff, volume]\n",
       "Index: []"
      ]
     },
     "execution_count": 27,
     "metadata": {},
     "output_type": "execute_result"
    }
   ],
   "source": [
    "mk.getDailyPrice('삼성에스디에스', '2022-02-10', '2022-02-14')"
   ]
  },
  {
   "cell_type": "code",
   "execution_count": null,
   "id": "1b1456f3",
   "metadata": {},
   "outputs": [],
   "source": []
  }
 ],
 "metadata": {
  "kernelspec": {
   "display_name": "firstEnv",
   "language": "python",
   "name": "firstenv"
  },
  "language_info": {
   "codemirror_mode": {
    "name": "ipython",
    "version": 3
   },
   "file_extension": ".py",
   "mimetype": "text/x-python",
   "name": "python",
   "nbconvert_exporter": "python",
   "pygments_lexer": "ipython3",
   "version": "3.8.8"
  }
 },
 "nbformat": 4,
 "nbformat_minor": 5
}
