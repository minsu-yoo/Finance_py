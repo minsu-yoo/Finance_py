{
 "cells": [
  {
   "cell_type": "code",
   "execution_count": 1,
   "id": "a4c335f9",
   "metadata": {
    "scrolled": true
   },
   "outputs": [],
   "source": [
    "import myPackage.moduleA\n"
   ]
  },
  {
   "cell_type": "code",
   "execution_count": 2,
   "id": "bdd666e4",
   "metadata": {},
   "outputs": [
    {
     "name": "stdout",
     "output_type": "stream",
     "text": [
      "FUNCTION_A\n"
     ]
    }
   ],
   "source": [
    "myPackage.moduleA.functionA()\n"
   ]
  },
  {
   "cell_type": "code",
   "execution_count": 3,
   "id": "6d3229e0",
   "metadata": {},
   "outputs": [
    {
     "name": "stdout",
     "output_type": "stream",
     "text": [
      "MODULE_B : myPackage.moduleB\n"
     ]
    }
   ],
   "source": [
    "import myPackage.moduleB\n"
   ]
  },
  {
   "cell_type": "code",
   "execution_count": 4,
   "id": "1f1d4123",
   "metadata": {
    "scrolled": false
   },
   "outputs": [],
   "source": [
    "from myPackage import *"
   ]
  },
  {
   "cell_type": "code",
   "execution_count": 5,
   "id": "85e8e1cc",
   "metadata": {},
   "outputs": [
    {
     "name": "stdout",
     "output_type": "stream",
     "text": [
      "The Zen of Python, by Tim Peters\n",
      "\n",
      "Beautiful is better than ugly.\n",
      "Explicit is better than implicit.\n",
      "Simple is better than complex.\n",
      "Complex is better than complicated.\n",
      "Flat is better than nested.\n",
      "Sparse is better than dense.\n",
      "Readability counts.\n",
      "Special cases aren't special enough to break the rules.\n",
      "Although practicality beats purity.\n",
      "Errors should never pass silently.\n",
      "Unless explicitly silenced.\n",
      "In the face of ambiguity, refuse the temptation to guess.\n",
      "There should be one-- and preferably only one --obvious way to do it.\n",
      "Although that way may not be obvious at first unless you're Dutch.\n",
      "Now is better than never.\n",
      "Although never is often better than *right* now.\n",
      "If the implementation is hard to explain, it's a bad idea.\n",
      "If the implementation is easy to explain, it may be a good idea.\n",
      "Namespaces are one honking great idea -- let's do more of those!\n"
     ]
    }
   ],
   "source": [
    "import this"
   ]
  },
  {
   "cell_type": "code",
   "execution_count": 19,
   "id": "d8e79e0e",
   "metadata": {},
   "outputs": [],
   "source": [
    "class MyFirstClass:\n",
    "    clsVar = 'The best way to predict the future is to invent it.'\n",
    "    def clsMethod(self):\n",
    "        print(MyFirstClass.clsVar + ' - Alan Curtis Kay -')"
   ]
  },
  {
   "cell_type": "code",
   "execution_count": 20,
   "id": "a67fab6f",
   "metadata": {},
   "outputs": [],
   "source": [
    "mfc = MyFirstClass()"
   ]
  },
  {
   "cell_type": "code",
   "execution_count": 21,
   "id": "eb810abf",
   "metadata": {},
   "outputs": [
    {
     "data": {
      "text/plain": [
       "'The best way to predict the future is to invent it.'"
      ]
     },
     "execution_count": 21,
     "metadata": {},
     "output_type": "execute_result"
    }
   ],
   "source": [
    "mfc.clsVar"
   ]
  },
  {
   "cell_type": "code",
   "execution_count": 22,
   "id": "ab622bf6",
   "metadata": {},
   "outputs": [
    {
     "name": "stdout",
     "output_type": "stream",
     "text": [
      "The best way to predict the future is to invent it. - Alan Curtis Kay -\n"
     ]
    }
   ],
   "source": [
    "mfc.clsMethod()"
   ]
  },
  {
   "cell_type": "code",
   "execution_count": 9,
   "id": "117c1afe",
   "metadata": {},
   "outputs": [],
   "source": [
    "class A:\n",
    "    def methodA(self):\n",
    "        print(\"Calling A's methodA\")\n",
    "    \n",
    "    def method(self):\n",
    "        print(\"Calling A's method\")\n",
    "        \n",
    "\n",
    "class B:\n",
    "    def methodB(self):\n",
    "        print(\"Calling B's methodB\")\n",
    "        \n",
    "\n",
    "class C(A,B):\n",
    "\n",
    "    def methodC(self):\n",
    "        print(\"Calling C's methodC\")\n",
    "        \n",
    "        \n",
    "    def method(self):\n",
    "        print(\"Calling C's overridden method\")\n",
    "        super().method()\n",
    "        \n",
    "    \n",
    "            \n",
    "        \n",
    "        "
   ]
  },
  {
   "cell_type": "code",
   "execution_count": 10,
   "id": "5ab42d28",
   "metadata": {},
   "outputs": [],
   "source": [
    "c = C()"
   ]
  },
  {
   "cell_type": "code",
   "execution_count": 11,
   "id": "e731716c",
   "metadata": {
    "scrolled": true
   },
   "outputs": [
    {
     "name": "stdout",
     "output_type": "stream",
     "text": [
      "Calling A's methodA\n",
      "Calling B's methodB\n",
      "Calling C's methodC\n"
     ]
    }
   ],
   "source": [
    "c.methodA()\n",
    "c.methodB()\n",
    "c.methodC()"
   ]
  },
  {
   "cell_type": "code",
   "execution_count": 12,
   "id": "c30bcd28",
   "metadata": {},
   "outputs": [
    {
     "name": "stdout",
     "output_type": "stream",
     "text": [
      "Calling C's overridden method\n",
      "Calling A's method\n"
     ]
    }
   ],
   "source": [
    "c.method()"
   ]
  },
  {
   "cell_type": "code",
   "execution_count": null,
   "id": "405f1ff2",
   "metadata": {},
   "outputs": [],
   "source": []
  }
 ],
 "metadata": {
  "kernelspec": {
   "display_name": "firstEnv",
   "language": "python",
   "name": "firstenv"
  },
  "language_info": {
   "codemirror_mode": {
    "name": "ipython",
    "version": 3
   },
   "file_extension": ".py",
   "mimetype": "text/x-python",
   "name": "python",
   "nbconvert_exporter": "python",
   "pygments_lexer": "ipython3",
   "version": "3.8.8"
  }
 },
 "nbformat": 4,
 "nbformat_minor": 5
}
