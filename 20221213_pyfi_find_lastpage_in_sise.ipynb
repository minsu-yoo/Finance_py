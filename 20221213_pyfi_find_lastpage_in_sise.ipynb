{
 "cells": [
  {
   "cell_type": "code",
   "execution_count": 4,
   "id": "986784dd",
   "metadata": {},
   "outputs": [],
   "source": [
    "# ch04_01_Celltrion_PlotChart.py\n",
    "import pandas as pd\n",
    "import requests\n",
    "from bs4 import BeautifulSoup\n",
    "from matplotlib import pyplot as plt\n",
    "\n",
    "# 4.4.3 맨 뒤 페이지 숫자 구하기\n",
    "url = 'https://finance.naver.com/item/sise_day.nhn?code=068270&page=1'\n",
    "html = requests.get(url, headers={'User-agent': 'Mozilla/5.0'}).text\n",
    "bs = BeautifulSoup(html, 'lxml')\n",
    "pgrr = bs.find('td', class_='pgRR')\n",
    "s = str(pgrr.a['href']).split('=')\n",
    "last_page = s[-1]  "
   ]
  },
  {
   "cell_type": "code",
   "execution_count": 5,
   "id": "f8e7b8ae",
   "metadata": {},
   "outputs": [
    {
     "data": {
      "text/plain": [
       "'431'"
      ]
     },
     "execution_count": 5,
     "metadata": {},
     "output_type": "execute_result"
    }
   ],
   "source": [
    "last_page"
   ]
  },
  {
   "cell_type": "code",
   "execution_count": null,
   "id": "a3a112ca",
   "metadata": {},
   "outputs": [],
   "source": []
  }
 ],
 "metadata": {
  "kernelspec": {
   "display_name": "Python 3 (ipykernel)",
   "language": "python",
   "name": "python3"
  },
  "language_info": {
   "codemirror_mode": {
    "name": "ipython",
    "version": 3
   },
   "file_extension": ".py",
   "mimetype": "text/x-python",
   "name": "python",
   "nbconvert_exporter": "python",
   "pygments_lexer": "ipython3",
   "version": "3.10.6"
  }
 },
 "nbformat": 4,
 "nbformat_minor": 5
}
