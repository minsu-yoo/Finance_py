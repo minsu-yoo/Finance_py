{
 "cells": [
  {
   "cell_type": "code",
   "execution_count": 1,
   "id": "73e12963",
   "metadata": {},
   "outputs": [],
   "source": [
    "import yfinance as yf\n",
    "import matplotlib.pyplot as plt\n",
    "import pickle \n",
    "\n"
   ]
  },
  {
   "cell_type": "code",
   "execution_count": 2,
   "id": "6c51aeae",
   "metadata": {},
   "outputs": [],
   "source": [
    "date_input = '20220922'"
   ]
  },
  {
   "cell_type": "code",
   "execution_count": 4,
   "id": "3c66b059",
   "metadata": {},
   "outputs": [],
   "source": [
    "year = date_input[:4] "
   ]
  },
  {
   "cell_type": "code",
   "execution_count": 5,
   "id": "4504085f",
   "metadata": {},
   "outputs": [],
   "source": [
    "month = date_input[4:6] "
   ]
  },
  {
   "cell_type": "code",
   "execution_count": null,
   "id": "82f3740b",
   "metadata": {},
   "outputs": [],
   "source": []
  },
  {
   "cell_type": "code",
   "execution_count": 7,
   "id": "14b6f5ec",
   "metadata": {
    "scrolled": true
   },
   "outputs": [],
   "source": [
    "day = date_input[6:] "
   ]
  },
  {
   "cell_type": "code",
   "execution_count": 8,
   "id": "68e8d1f6",
   "metadata": {},
   "outputs": [],
   "source": [
    "day_input = year + '-' + month + '-' + day"
   ]
  },
  {
   "cell_type": "code",
   "execution_count": 9,
   "id": "8e41c667",
   "metadata": {},
   "outputs": [
    {
     "data": {
      "text/plain": [
       "'2022-09-22'"
      ]
     },
     "execution_count": 9,
     "metadata": {},
     "output_type": "execute_result"
    }
   ],
   "source": [
    "day_input"
   ]
  },
  {
   "cell_type": "code",
   "execution_count": 10,
   "id": "d1d61b22",
   "metadata": {},
   "outputs": [],
   "source": [
    "def date_con(date_input):\n",
    "    \n",
    "    # the date values will be changed from '20220922' to '2022-09-22'\n",
    "    year = date_input[:4] \n",
    "    month = date_input[4:6] \n",
    "    day = date_input[6:] \n",
    "    day_input = year + '-' + month + '-' + day\n",
    "    \n",
    "    return day_input\n",
    "    "
   ]
  },
  {
   "cell_type": "code",
   "execution_count": null,
   "id": "dd0b425b",
   "metadata": {},
   "outputs": [],
   "source": []
  },
  {
   "cell_type": "code",
   "execution_count": null,
   "id": "895f2987",
   "metadata": {},
   "outputs": [],
   "source": [
    "date_input_t = date_input[0:1]"
   ]
  }
 ],
 "metadata": {
  "kernelspec": {
   "display_name": "firstEnv",
   "language": "python",
   "name": "firstenv"
  },
  "language_info": {
   "codemirror_mode": {
    "name": "ipython",
    "version": 3
   },
   "file_extension": ".py",
   "mimetype": "text/x-python",
   "name": "python",
   "nbconvert_exporter": "python",
   "pygments_lexer": "ipython3",
   "version": "3.9.12"
  }
 },
 "nbformat": 4,
 "nbformat_minor": 5
}
