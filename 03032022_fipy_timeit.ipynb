{
 "cells": [
  {
   "cell_type": "markdown",
   "id": "7b22e75a",
   "metadata": {},
   "source": [
    "### 타임잇으로 성능 측정하기"
   ]
  },
  {
   "cell_type": "code",
   "execution_count": 1,
   "id": "4efcd14f",
   "metadata": {},
   "outputs": [],
   "source": [
    "import timeit\n",
    "\n",
    "iteration_test = '''\n",
    "for i in itr:\n",
    "    pass\n",
    "\n",
    "'''"
   ]
  },
  {
   "cell_type": "code",
   "execution_count": 2,
   "id": "d85d611e",
   "metadata": {},
   "outputs": [
    {
     "data": {
      "text/plain": [
       "0.012172350000000165"
      ]
     },
     "execution_count": 2,
     "metadata": {},
     "output_type": "execute_result"
    }
   ],
   "source": [
    "timeit.timeit(iteration_test, setup='itr = list(range(1000))', number = 1000)"
   ]
  },
  {
   "cell_type": "code",
   "execution_count": 4,
   "id": "e43b661e",
   "metadata": {},
   "outputs": [
    {
     "data": {
      "text/plain": [
       "0.011931763999996292"
      ]
     },
     "execution_count": 4,
     "metadata": {},
     "output_type": "execute_result"
    }
   ],
   "source": [
    "timeit.timeit(iteration_test, setup='itr = tuple(range(1000))', number = 1000)"
   ]
  },
  {
   "cell_type": "code",
   "execution_count": 7,
   "id": "029db8ad",
   "metadata": {
    "scrolled": false
   },
   "outputs": [
    {
     "name": "stdout",
     "output_type": "stream",
     "text": [
      "Help on function timeit in module timeit:\n",
      "\n",
      "timeit(stmt='pass', setup='pass', timer=<built-in function perf_counter>, number=1000000, globals=None)\n",
      "    Convenience function to create Timer object and call timeit method.\n",
      "\n"
     ]
    }
   ],
   "source": [
    "help(timeit.timeit)"
   ]
  },
  {
   "cell_type": "code",
   "execution_count": 8,
   "id": "0b0c693a",
   "metadata": {},
   "outputs": [
    {
     "data": {
      "text/plain": [
       "0.012370528999980479"
      ]
     },
     "execution_count": 8,
     "metadata": {},
     "output_type": "execute_result"
    }
   ],
   "source": [
    "timeit.timeit(iteration_test, setup='itr = tuple(range(1000))', number = 1000)"
   ]
  },
  {
   "cell_type": "code",
   "execution_count": 9,
   "id": "3345955a",
   "metadata": {},
   "outputs": [
    {
     "data": {
      "text/plain": [
       "0.014241697999977987"
      ]
     },
     "execution_count": 9,
     "metadata": {},
     "output_type": "execute_result"
    }
   ],
   "source": [
    "timeit.timeit(iteration_test, setup='itr = set(range(1000))', number = 1000)"
   ]
  },
  {
   "cell_type": "markdown",
   "id": "1ca89198",
   "metadata": {},
   "source": [
    "### 임의의 난수 검색 방법"
   ]
  },
  {
   "cell_type": "code",
   "execution_count": 13,
   "id": "a92d4433",
   "metadata": {},
   "outputs": [],
   "source": [
    "search_test = '''\n",
    "import random\n",
    "x = random.randint(0, len(itr)-1)\n",
    "if x in itr:\n",
    "    pass\n",
    "'''"
   ]
  },
  {
   "cell_type": "code",
   "execution_count": 24,
   "id": "2b6c17d3",
   "metadata": {},
   "outputs": [],
   "source": [
    "time_taken_set = timeit.timeit(search_test, setup = 'itr = set(range(10000))', number = 1000)\n",
    "\n",
    "time_taken_list = timeit.timeit(search_test, setup = 'itr = list(range(10000))', number = 1000)\n",
    "time_taken_tuple = timeit.timeit(search_test, setup = 'itr = tuple(range(10000))', number = 1000)\n"
   ]
  },
  {
   "cell_type": "code",
   "execution_count": 25,
   "id": "28ea6a71",
   "metadata": {},
   "outputs": [],
   "source": [
    "#### f-string 의 형식을 배울 필요가 있다. "
   ]
  },
  {
   "cell_type": "code",
   "execution_count": 29,
   "id": "09dc9618",
   "metadata": {},
   "outputs": [
    {
     "name": "stdout",
     "output_type": "stream",
     "text": [
      "Time taken by Set is 0.0016005439997570647\n",
      "Time taken by Tuple is 0.06183435799994186\n",
      "Time taken by List is 0.07556557699990663\n"
     ]
    }
   ],
   "source": [
    "print(f'Time taken by Set is {time_taken_set}')\n",
    "\n",
    "print(f'Time taken by Tuple is {time_taken_tuple}')\n",
    "\n",
    "print(f'Time taken by List is {time_taken_list}')\n"
   ]
  },
  {
   "cell_type": "code",
   "execution_count": null,
   "id": "ce82fd69",
   "metadata": {},
   "outputs": [],
   "source": []
  },
  {
   "cell_type": "markdown",
   "id": "3a2324d3",
   "metadata": {},
   "source": [
    "### None 변환값"
   ]
  },
  {
   "cell_type": "code",
   "execution_count": 30,
   "id": "e47e226e",
   "metadata": {},
   "outputs": [],
   "source": [
    "def func1():\n",
    "    pass\n",
    "\n",
    "\n",
    "def func2():\n",
    "    return\n",
    "\n",
    "\n",
    "def func3():\n",
    "    return None\n",
    "\n",
    "\n",
    "\n"
   ]
  },
  {
   "cell_type": "code",
   "execution_count": 31,
   "id": "7724ba23",
   "metadata": {},
   "outputs": [
    {
     "name": "stdout",
     "output_type": "stream",
     "text": [
      "None\n",
      "None\n",
      "None\n"
     ]
    }
   ],
   "source": [
    "print(func1()); print(func2()); print(func3())"
   ]
  },
  {
   "cell_type": "markdown",
   "id": "eb860fe4",
   "metadata": {},
   "source": [
    "### 여러 결과값 반환 function"
   ]
  },
  {
   "cell_type": "code",
   "execution_count": 32,
   "id": "cbc87bae",
   "metadata": {},
   "outputs": [],
   "source": [
    "def myFunc():\n",
    "    \n",
    "    var1 = 'a'\n",
    "    var2 = [1, 2, 3]\n",
    "    var3 = max\n",
    "    \n",
    "    return var1, var2, var3\n",
    "\n",
    "    \n",
    "    "
   ]
  },
  {
   "cell_type": "code",
   "execution_count": 33,
   "id": "812ff739",
   "metadata": {},
   "outputs": [
    {
     "data": {
      "text/plain": [
       "('a', [1, 2, 3], <function max>)"
      ]
     },
     "execution_count": 33,
     "metadata": {},
     "output_type": "execute_result"
    }
   ],
   "source": [
    "myFunc()"
   ]
  },
  {
   "cell_type": "code",
   "execution_count": 34,
   "id": "69c1f770",
   "metadata": {},
   "outputs": [],
   "source": [
    "a  = myFunc()"
   ]
  },
  {
   "cell_type": "code",
   "execution_count": 35,
   "id": "fa902ab3",
   "metadata": {},
   "outputs": [
    {
     "data": {
      "text/plain": [
       "('a', [1, 2, 3], <function max>)"
      ]
     },
     "execution_count": 35,
     "metadata": {},
     "output_type": "execute_result"
    }
   ],
   "source": [
    "a"
   ]
  },
  {
   "cell_type": "code",
   "execution_count": 36,
   "id": "f5d278ba",
   "metadata": {},
   "outputs": [
    {
     "data": {
      "text/plain": [
       "tuple"
      ]
     },
     "execution_count": 36,
     "metadata": {},
     "output_type": "execute_result"
    }
   ],
   "source": [
    "type(a)"
   ]
  },
  {
   "cell_type": "markdown",
   "id": "866eebc1",
   "metadata": {},
   "source": [
    "한꺼번에 variables 들을 받을 때는 tuple 로 받을 수 있다. "
   ]
  },
  {
   "cell_type": "code",
   "execution_count": 38,
   "id": "0697210a",
   "metadata": {},
   "outputs": [],
   "source": [
    "s, l, f = myFunc()"
   ]
  },
  {
   "cell_type": "code",
   "execution_count": 40,
   "id": "0f804352",
   "metadata": {},
   "outputs": [
    {
     "data": {
      "text/plain": [
       "'a'"
      ]
     },
     "execution_count": 40,
     "metadata": {},
     "output_type": "execute_result"
    }
   ],
   "source": [
    "s"
   ]
  },
  {
   "cell_type": "code",
   "execution_count": 41,
   "id": "aa328658",
   "metadata": {},
   "outputs": [
    {
     "data": {
      "text/plain": [
       "[1, 2, 3]"
      ]
     },
     "execution_count": 41,
     "metadata": {},
     "output_type": "execute_result"
    }
   ],
   "source": [
    "l"
   ]
  },
  {
   "cell_type": "code",
   "execution_count": 42,
   "id": "58ec22ec",
   "metadata": {},
   "outputs": [
    {
     "data": {
      "text/plain": [
       "<function max>"
      ]
     },
     "execution_count": 42,
     "metadata": {},
     "output_type": "execute_result"
    }
   ],
   "source": [
    "f"
   ]
  },
  {
   "cell_type": "markdown",
   "id": "53d1c6c4",
   "metadata": {},
   "source": [
    "### Lambda 이름 없는 함수를 사용할 때 쓴다. "
   ]
  },
  {
   "cell_type": "code",
   "execution_count": 44,
   "id": "36fbf687",
   "metadata": {},
   "outputs": [],
   "source": [
    "insertComma = lambda x : format(x, ',')"
   ]
  },
  {
   "cell_type": "code",
   "execution_count": 45,
   "id": "b63eaa13",
   "metadata": {},
   "outputs": [
    {
     "data": {
      "text/plain": [
       "'2,020,200'"
      ]
     },
     "execution_count": 45,
     "metadata": {},
     "output_type": "execute_result"
    }
   ],
   "source": [
    "insertComma(2020200)"
   ]
  },
  {
   "cell_type": "markdown",
   "id": "f89035ad",
   "metadata": {},
   "source": [
    "## 2.6 Module 과 package"
   ]
  },
  {
   "cell_type": "code",
   "execution_count": 47,
   "id": "e26c6595",
   "metadata": {
    "scrolled": false
   },
   "outputs": [
    {
     "name": "stdout",
     "output_type": "stream",
     "text": [
      "\n",
      "Please wait a moment while I gather a list of all available modules...\n",
      "\n"
     ]
    },
    {
     "name": "stderr",
     "output_type": "stream",
     "text": [
      "/Users/minsuyoo/opt/anaconda3/lib/python3.8/site-packages/IPython/kernel/__init__.py:12: ShimWarning: The `IPython.kernel` package has been deprecated since IPython 4.0.You should import from ipykernel or jupyter_client instead.\n",
      "  warn(\"The `IPython.kernel` package has been deprecated since IPython 4.0.\"\n"
     ]
    },
    {
     "ename": "RuntimeError",
     "evalue": "module compiled against API version 0xe but this version of numpy is 0xd",
     "output_type": "error",
     "traceback": [
      "\u001b[0;31m---------------------------------------------------------------------------\u001b[0m",
      "\u001b[0;31mRuntimeError\u001b[0m                              Traceback (most recent call last)",
      "\u001b[0;31mRuntimeError\u001b[0m: module compiled against API version 0xe but this version of numpy is 0xd"
     ]
    },
    {
     "ename": "RuntimeError",
     "evalue": "module compiled against API version 0xe but this version of numpy is 0xd",
     "output_type": "error",
     "traceback": [
      "\u001b[0;31m---------------------------------------------------------------------------\u001b[0m",
      "\u001b[0;31mRuntimeError\u001b[0m                              Traceback (most recent call last)",
      "\u001b[0;31mRuntimeError\u001b[0m: module compiled against API version 0xe but this version of numpy is 0xd"
     ]
    },
    {
     "name": "stderr",
     "output_type": "stream",
     "text": [
      "/Users/minsuyoo/opt/anaconda3/lib/python3.8/pkgutil.py:92: MatplotlibDeprecationWarning: \n",
      "The matplotlib.compat module was deprecated in Matplotlib 3.3 and will be removed two minor releases later.\n",
      "  __import__(info.name)\n",
      "/Users/minsuyoo/opt/anaconda3/lib/python3.8/site-packages/nltk/twitter/__init__.py:21: UserWarning: The twython library has not been installed. Some functionality from the twitter package will not be available.\n",
      "  warnings.warn(\n",
      "/Users/minsuyoo/opt/anaconda3/lib/python3.8/pkgutil.py:107: VisibleDeprecationWarning: zmq.eventloop.minitornado is deprecated in pyzmq 14.0 and will be removed.\n",
      "    Install tornado itself to use zmq with the tornado IOLoop.\n",
      "    \n",
      "  yield from walk_packages(path, info.name+'.', onerror)\n"
     ]
    },
    {
     "name": "stdout",
     "output_type": "stream",
     "text": [
      "Cython              brain_http          itsdangerous        re\n",
      "IPython             brain_hypothesis    jdcal               readline\n",
      "OpenSSL             brain_io            jedi                regex\n",
      "PIL                 brain_mechanize     jinja2              repo_cli\n",
      "PyQt5               brain_multiprocessing joblib              reprlib\n",
      "__future__          brain_namedtuple_enum json                requests\n",
      "_abc                brain_nose          json5               requests_oauthlib\n",
      "_ast                brain_numpy_core_fromnumeric jsonschema          resource\n",
      "_asyncio            brain_numpy_core_function_base jupyter             rlcompleter\n",
      "_bisect             brain_numpy_core_multiarray jupyter_client      rmagic\n",
      "_black_version      brain_numpy_core_numeric jupyter_core        rope\n",
      "_blake2             brain_numpy_core_numerictypes jupyter_packaging   rsa\n",
      "_bootlocale         brain_numpy_core_umath jupyter_server      rtree\n",
      "_bz2                brain_numpy_ndarray jupyterlab          ruamel_yaml\n",
      "_cffi_backend       brain_numpy_random_mtrand jupyterlab_pygments runpy\n",
      "_codecs             brain_numpy_utils   jupyterlab_server   scanpy\n",
      "_codecs_cn          brain_pkg_resources jupyterlab_widgets  sched\n",
      "_codecs_hk          brain_pytest        keras               scipy\n",
      "_codecs_iso2022     brain_qt            keras_preprocessing scprep\n",
      "_codecs_jp          brain_random        keyring             scripts\n",
      "_codecs_kr          brain_re            keyword             seaborn\n",
      "_codecs_tw          brain_responses     kiwisolver          secrets\n",
      "_collections        brain_scipy_signal  lazy_object_proxy   select\n",
      "_collections_abc    brain_six           leidenalg           selectors\n",
      "_compat_pickle      brain_sqlalchemy    lib2to3             send2trash\n",
      "_compression        brain_ssl           libarchive          setuptools\n",
      "_contextvars        brain_subprocess    libfuturize         shelve\n",
      "_crypt              brain_threading     libpasteurize       shlex\n",
      "_csv                brain_type          lief                shutil\n",
      "_ctypes             brain_typing        linecache           signal\n",
      "_ctypes_test        brain_uuid          llvmlite            simplegeneric\n",
      "_curses             brotli              locale              sinfo\n",
      "_curses_panel       bs4                 locket              singledispatch\n",
      "_datetime           builtins            logging             sip\n",
      "_dbm                bz2                 louvain             sipconfig\n",
      "_decimal            cProfile            lxml                sipdistutils\n",
      "_distutils_hack     cachetools          lzma                site\n",
      "_dummy_thread       cairo               mactypes            six\n",
      "_elementtree        calendar            magic               skimage\n",
      "_functools          certifi             mailbox             sklearn\n",
      "_hashlib            cffi                mailcap             smtpd\n",
      "_heapq              cgi                 markdown            smtplib\n",
      "_imp                cgitb               markupsafe          sndhdr\n",
      "_io                 chardet             marshal             sniffio\n",
      "_json               chunk               math                snowballstemmer\n",
      "_locale             clang               matplotlib          socket\n",
      "_lsprof             click               mccabe              socketserver\n",
      "_lzma               cloudpickle         mimetypes           socks\n",
      "_markupbase         clyent              mistune             sockshandler\n",
      "_md5                cmath               mkl                 sortedcollections\n",
      "_multibytecodec     cmd                 mkl_fft             sortedcontainers\n",
      "_multiprocessing    code                mkl_random          soupsieve\n",
      "_opcode             codecs              mmap                sphinx\n",
      "_operator           codeop              mock                sphinxcontrib\n",
      "_osx_support        collections         modulefinder        spyder\n",
      "_pickle             colorama            more_itertools      spyder_kernels\n",
      "_posixshmem         colorsys            mpmath              sqlalchemy\n",
      "_posixsubprocess    compileall          msgpack             sqlite3\n",
      "_py_abc             concurrent          multipledispatch    sre_compile\n",
      "_pydecimal          conda               multiprocessing     sre_constants\n",
      "_pyio               conda_build         myPackage           sre_parse\n",
      "_pyrsistent_version conda_content_trust mypy_extensions     ssl\n",
      "_pytest             conda_env           natsort             stat\n",
      "_queue              conda_package_handling navigator_updater   statistics\n",
      "_random             conda_token         nbclassic           statsmodels\n",
      "_scproxy            conda_verify        nbclient            stdlib_list\n",
      "_sha1               configparser        nbconvert           storemagic\n",
      "_sha256             contextlib          nbformat            string\n",
      "_sha3               contextlib2         nest_asyncio        stringprep\n",
      "_sha512             contextvars         netrc               struct\n",
      "_signal             copy                networkx            subprocess\n",
      "_sitebuiltins       copyreg             nis                 sunau\n",
      "_socket             crypt               nltk                symbol\n",
      "_sqlite3            cryptography        nntplib             sympy\n",
      "_sre                csv                 nose                sympyprinting\n",
      "_ssl                ctypes              notebook            symtable\n",
      "_stat               curl                ntpath              sys\n",
      "_statistics         curses              nturl2path          sysconfig\n",
      "_string             cv2                 numba               syslog\n",
      "_strptime           cycler              numbers             tables\n",
      "_struct             cython              numexpr             tabnanny\n",
      "_symtable           cythonmagic         numpy               tarfile\n",
      "_sysconfigdata__darwin_darwin cytoolz             numpydoc            tasklogger\n",
      "_sysconfigdata_aarch64_conda_cos7_linux_gnu dask                oauthlib            tblib\n",
      "_sysconfigdata_aarch64_conda_linux_gnu dataclasses         olefile             telnetlib\n",
      "_sysconfigdata_i686_conda_cos6_linux_gnu datetime            opcode              tempfile\n",
      "_sysconfigdata_powerpc64le_conda_cos7_linux_gnu dateutil            openpyxl            tensorboard\n",
      "_sysconfigdata_s390x_conda_cos7_linux_gnu dbm                 operator            tensorboard_data_server\n",
      "_sysconfigdata_s390x_conda_linux_gnu decimal             opt_einsum          tensorboard_plugin_wit\n",
      "_sysconfigdata_x86_64_apple_darwin13_4_0 decorator           optparse            tensorflow\n",
      "_sysconfigdata_x86_64_conda_cos6_linux_gnu defusedxml          os                  tensorflow_estimator\n",
      "_testbuffer         deprecated          osax                termcolor\n",
      "_testcapi           desc                packaging           terminado\n",
      "_testimportmultiple diff_match_patch    pandas              termios\n",
      "_testinternalcapi   difflib             pandocfilters       test\n",
      "_testmultiphase     dis                 parser              test_data\n",
      "_thread             distributed         parso               test_pycosat\n",
      "_threading_local    distutils           partd               testpath\n",
      "_tkinter            doctest             past                tests\n",
      "_tracemalloc        docutils            pasta               textdistance\n",
      "_uuid               dummy_threading     path                texttable\n",
      "_warnings           email               pathlib             textwrap\n",
      "_watchdog_fsevents  encodings           pathlib2            this\n",
      "_weakref            ensurepip           pathspec            threading\n",
      "_weakrefset         entrypoints         patsy               threadpoolctl\n",
      "_xxsubinterpreters  enum                pdb                 three_merge\n",
      "_xxtestfuzz         erfa                pep8                tifffile\n",
      "_yaml               errno               pexpect             time\n",
      "abc                 et_xmlfile          pickle              timeit\n",
      "absl                fastcache           pickleshare         tkinter\n",
      "aem                 faulthandler        pickletools         tlz\n",
      "aifc                fcntl               pip                 token\n",
      "alabaster           filecmp             pipes               tokenize\n",
      "anaconda_navigator  fileinput           pkg_resources       toml\n"
     ]
    },
    {
     "name": "stdout",
     "output_type": "stream",
     "text": [
      "anaconda_project    filelock            pkginfo             toolz\n",
      "anndata             flake8              pkgutil             tornado\n",
      "antigravity         flask               platform            tqdm\n",
      "anyio               flatbuffers         plistlib            trace\n",
      "appdirs             fnmatch             pluggy              traceback\n",
      "applaunchservices   formatter           ply                 tracemalloc\n",
      "appnope             fpdf                poplib              traitlets\n",
      "appscript           fractions           posix               tty\n",
      "argh                fsspec              posixpath           turtle\n",
      "argon2              ftplib              pprint              turtledemo\n",
      "argparse            functools           profile             typed_ast\n",
      "array               future              prometheus_client   types\n",
      "asn1crypto          gast                prompt_toolkit      typing\n",
      "ast                 gc                  pstats              typing_extensions\n",
      "astroid             genericpath         psutil              ujson\n",
      "astropy             getopt              pty                 umap\n",
      "astunparse          getpass             ptyprocess          unicodecsv\n",
      "async_generator     gettext             pvectorc            unicodedata\n",
      "asynchat            gevent              pwd                 unittest\n",
      "asyncio             glob                py                  urllib\n",
      "asyncore            glob2               py_compile          urllib3\n",
      "atexit              gmpy2               pyasn1              uu\n",
      "atomicwrites        google_auth_oauthlib pyasn1_modules      uuid\n",
      "attr                graphtools          pyclbr              venv\n",
      "audioop             greenlet            pycodestyle         warnings\n",
      "autopep8            grp                 pycosat             watchdog\n",
      "autoreload          grpc                pycparser           wave\n",
      "babel               gzip                pycurl              wcwidth\n",
      "backcall            h5py                pydoc               weakref\n",
      "backports           hashlib             pydoc_data          webbrowser\n",
      "base64              heapdict            pydocstyle          webencodings\n",
      "bdb                 heapq               pyexpat             werkzeug\n",
      "binascii            hmac                pyflakes            wheel\n",
      "binhex              html                pygments            widgetsnbextension\n",
      "binstar_client      html5lib            pygsp               wrapt\n",
      "bisect              http                pylab               wsgiref\n",
      "bitarray            idlelib             pylint              wurlitzer\n",
      "bkcharts            idna                pyls                xdrlib\n",
      "black               igraph              pyls_black          xlrd\n",
      "blackd              imageio             pyls_jsonrpc        xlsxwriter\n",
      "bleach              imagesize           pyls_spyder         xlwings\n",
      "blib2to3            imaplib             pynndescent         xlwt\n",
      "bokeh               imghdr              pyodbc              xml\n",
      "boto                imp                 pyparsing           xmlrpc\n",
      "bottleneck          importlib           pyrsistent          xmltodict\n",
      "brain_argparse      importlib_metadata  pysam               xxlimited\n",
      "brain_attrs         iniconfig           pytest              xxsubtype\n",
      "brain_boto3         inspect             pytz                yaml\n",
      "brain_builtin_inference intervaltree        pywifi              yapf\n",
      "brain_collections   io                  pywt                yapftests\n",
      "brain_crypt         ipaddress           pyximport           zict\n",
      "brain_curses        ipykernel           qdarkstyle          zipapp\n",
      "brain_dataclasses   ipykernel_launcher  qtawesome           zipfile\n",
      "brain_dateutil      ipython_genutils    qtpy                zipimport\n",
      "brain_fstrings      ipywidgets          quadprog            zipp\n",
      "brain_functools     isort               queue               zlib\n",
      "brain_gi            isympy              quopri              zmq\n",
      "brain_hashlib       itertools           random              zope\n",
      "\n",
      "Enter any module name to get more help.  Or, type \"modules spam\" to search\n",
      "for modules whose name or summary contain the string \"spam\".\n",
      "\n"
     ]
    }
   ],
   "source": [
    "help('modules')"
   ]
  },
  {
   "cell_type": "code",
   "execution_count": 51,
   "id": "4b825f4c",
   "metadata": {},
   "outputs": [
    {
     "name": "stdout",
     "output_type": "stream",
     "text": [
      "Help on package scanpy:\n",
      "\n",
      "NAME\n",
      "    scanpy - Single-Cell Analysis in Python.\n",
      "\n",
      "PACKAGE CONTENTS\n",
      "    __main__\n",
      "    _compat\n",
      "    _metadata\n",
      "    _settings\n",
      "    _utils (package)\n",
      "    cli\n",
      "    datasets (package)\n",
      "    external (package)\n",
      "    get (package)\n",
      "    logging\n",
      "    metrics (package)\n",
      "    neighbors (package)\n",
      "    plotting (package)\n",
      "    preprocessing (package)\n",
      "    queries (package)\n",
      "    readwrite\n",
      "    sim_models (package)\n",
      "    tools (package)\n",
      "\n",
      "SUBMODULES\n",
      "    pl\n",
      "    pp\n",
      "    tl\n",
      "\n",
      "DATA\n",
      "    __email__ = 'f.alex.wolf@gmx.de, philipp.angerer@helmholtz-muenchen.de...\n",
      "    settings = <scanpy._settings.ScanpyConfig object>\n",
      "\n",
      "VERSION\n",
      "    1.8.1\n",
      "\n",
      "AUTHOR\n",
      "    Alex Wolf, Philipp Angerer, Fidel Ramirez, Isaac Virshup, Sergei Rybakov, Gokcen Eraslan, Tom White, Malte Luecken, Davide Cittaro, Tobias Callies, Marius Lange, Andrés R. Muñoz-Rojas\n",
      "\n",
      "FILE\n",
      "    /Users/minsuyoo/opt/anaconda3/lib/python3.8/site-packages/scanpy/__init__.py\n",
      "\n",
      "\n"
     ]
    }
   ],
   "source": [
    "help('scanpy')"
   ]
  },
  {
   "cell_type": "code",
   "execution_count": 52,
   "id": "588956a9",
   "metadata": {},
   "outputs": [],
   "source": [
    "import scanpy"
   ]
  },
  {
   "cell_type": "code",
   "execution_count": 53,
   "id": "0dc43159",
   "metadata": {},
   "outputs": [
    {
     "ename": "AttributeError",
     "evalue": "module 'scanpy' has no attribute 'kwlist'",
     "output_type": "error",
     "traceback": [
      "\u001b[0;31m---------------------------------------------------------------------------\u001b[0m",
      "\u001b[0;31mAttributeError\u001b[0m                            Traceback (most recent call last)",
      "\u001b[0;32m<ipython-input-53-d99055060a14>\u001b[0m in \u001b[0;36m<module>\u001b[0;34m\u001b[0m\n\u001b[0;32m----> 1\u001b[0;31m \u001b[0mscanpy\u001b[0m\u001b[0;34m.\u001b[0m\u001b[0mkwlist\u001b[0m\u001b[0;34m\u001b[0m\u001b[0;34m\u001b[0m\u001b[0m\n\u001b[0m",
      "\u001b[0;31mAttributeError\u001b[0m: module 'scanpy' has no attribute 'kwlist'"
     ]
    }
   ],
   "source": [
    "scanpy.kwlist"
   ]
  },
  {
   "cell_type": "code",
   "execution_count": 54,
   "id": "49f0c133",
   "metadata": {},
   "outputs": [
    {
     "data": {
      "text/plain": [
       "'/Users/minsuyoo/opt/anaconda3/lib/python3.8/site-packages/scanpy/__init__.py'"
      ]
     },
     "execution_count": 54,
     "metadata": {},
     "output_type": "execute_result"
    }
   ],
   "source": [
    "scanpy.__file__"
   ]
  },
  {
   "cell_type": "code",
   "execution_count": 55,
   "id": "07f6fded",
   "metadata": {},
   "outputs": [
    {
     "data": {
      "text/plain": [
       "['AnnData',\n",
       " 'Neighbors',\n",
       " 'Verbosity',\n",
       " '__author__',\n",
       " '__builtins__',\n",
       " '__cached__',\n",
       " '__doc__',\n",
       " '__email__',\n",
       " '__file__',\n",
       " '__loader__',\n",
       " '__name__',\n",
       " '__package__',\n",
       " '__path__',\n",
       " '__spec__',\n",
       " '__version__',\n",
       " '_compat',\n",
       " '_metadata',\n",
       " '_settings',\n",
       " '_utils',\n",
       " 'concat',\n",
       " 'datasets',\n",
       " 'external',\n",
       " 'get',\n",
       " 'logging',\n",
       " 'metrics',\n",
       " 'neighbors',\n",
       " 'pl',\n",
       " 'plotting',\n",
       " 'pp',\n",
       " 'preprocessing',\n",
       " 'queries',\n",
       " 'read',\n",
       " 'read_10x_h5',\n",
       " 'read_10x_mtx',\n",
       " 'read_csv',\n",
       " 'read_excel',\n",
       " 'read_h5ad',\n",
       " 'read_hdf',\n",
       " 'read_loom',\n",
       " 'read_mtx',\n",
       " 'read_text',\n",
       " 'read_umi_tools',\n",
       " 'read_visium',\n",
       " 'readwrite',\n",
       " 'set_figure_params',\n",
       " 'settings',\n",
       " 'sim_models',\n",
       " 'tl',\n",
       " 'tools',\n",
       " 'write']"
      ]
     },
     "execution_count": 55,
     "metadata": {},
     "output_type": "execute_result"
    }
   ],
   "source": [
    "dir(scanpy)"
   ]
  },
  {
   "cell_type": "code",
   "execution_count": 56,
   "id": "5bed9db1",
   "metadata": {},
   "outputs": [
    {
     "data": {
      "text/plain": [
       "'scanpy'"
      ]
     },
     "execution_count": 56,
     "metadata": {},
     "output_type": "execute_result"
    }
   ],
   "source": [
    "scanpy.__name__"
   ]
  },
  {
   "cell_type": "code",
   "execution_count": null,
   "id": "84022661",
   "metadata": {},
   "outputs": [],
   "source": []
  }
 ],
 "metadata": {
  "kernelspec": {
   "display_name": "firstEnv",
   "language": "python",
   "name": "firstenv"
  },
  "language_info": {
   "codemirror_mode": {
    "name": "ipython",
    "version": 3
   },
   "file_extension": ".py",
   "mimetype": "text/x-python",
   "name": "python",
   "nbconvert_exporter": "python",
   "pygments_lexer": "ipython3",
   "version": "3.8.8"
  }
 },
 "nbformat": 4,
 "nbformat_minor": 5
}
