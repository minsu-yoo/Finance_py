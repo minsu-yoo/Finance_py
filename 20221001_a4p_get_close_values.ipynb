{
 "cells": [
  {
   "cell_type": "code",
   "execution_count": 53,
   "id": "a14da39e",
   "metadata": {},
   "outputs": [],
   "source": [
    "import yfinance as yf\n",
    "import matplotlib.pyplot as plt\n",
    "import pickle \n",
    "\n"
   ]
  },
  {
   "cell_type": "code",
   "execution_count": 54,
   "id": "03105292",
   "metadata": {},
   "outputs": [],
   "source": [
    "def date_con(date_input):\n",
    "    \n",
    "    date_input = str(date_input)\n",
    "    \n",
    "    # the date values will be changed from '20220922' to '2022-09-22'\n",
    "    year = date_input[:4] \n",
    "    month = date_input[4:6] \n",
    "    day = date_input[6:] \n",
    "    day_input = year + '-' + month + '-' + day\n",
    "    \n",
    "    return day_input\n",
    "    "
   ]
  },
  {
   "cell_type": "code",
   "execution_count": 55,
   "id": "ea23e3b0",
   "metadata": {},
   "outputs": [],
   "source": [
    "# All Weather data collector \n",
    "def awp_data_collect(start_date, end_date):\n",
    "    \n",
    "    s_day = date_con(start_date)\n",
    "    e_day = date_con(end_date)\n",
    "    \n",
    "    spy = yf.download('SPY', start= s_day, end = e_day,\n",
    "               progress = False,\n",
    "               auto_adjust = False, \n",
    "               actions = 'inline')\n",
    "\n",
    "\n",
    "    ief = yf.download('IEF', start= s_day, end = e_day,\n",
    "               progress = False,\n",
    "               auto_adjust = False, \n",
    "               actions = 'inline')\n",
    "\n",
    "\n",
    "\n",
    "    tlt = yf.download('TLT', start= s_day, end = e_day,\n",
    "               progress = False,\n",
    "               auto_adjust = False, \n",
    "               actions = 'inline')\n",
    "\n",
    "\n",
    "\n",
    "    dbc = yf.download('DBC', start= s_day, end = e_day,\n",
    "               progress = False,\n",
    "               auto_adjust = False, \n",
    "               actions = 'inline')\n",
    "\n",
    "\n",
    "    gld = yf.download('GLD', start= s_day, end = e_day,\n",
    "               progress = False,\n",
    "               auto_adjust = False, \n",
    "               actions = 'inline')\n",
    "\n",
    "    a4s_data = {}\n",
    "\n",
    "    #all four seasons data \n",
    "\n",
    "    a4s_data['spy'] = spy\n",
    "    a4s_data['bond_ief'] = ief\n",
    "    a4s_data['long_bond_tlt'] = tlt\n",
    "    a4s_data['gold_gld'] = gld\n",
    "    a4s_data['material_dbc'] = dbc\n",
    "\n",
    "\n",
    "\n",
    "    plt.style.use('plotstyle.mplstyle')\n",
    "    \n",
    "    return a4s_data\n"
   ]
  },
  {
   "cell_type": "code",
   "execution_count": 132,
   "id": "6f1dd27e",
   "metadata": {
    "scrolled": true
   },
   "outputs": [],
   "source": [
    "data = awp_data_collect(2000101, 20221001)"
   ]
  },
  {
   "cell_type": "code",
   "execution_count": 133,
   "id": "81d73ff4",
   "metadata": {},
   "outputs": [
    {
     "data": {
      "text/plain": [
       "477.7099914550781"
      ]
     },
     "execution_count": 133,
     "metadata": {},
     "output_type": "execute_result"
    }
   ],
   "source": [
    "data['spy'].loc['2022-01-03'].Close"
   ]
  },
  {
   "cell_type": "code",
   "execution_count": 58,
   "id": "0d44f11a",
   "metadata": {},
   "outputs": [],
   "source": [
    "keyList = data.keys()"
   ]
  },
  {
   "cell_type": "code",
   "execution_count": 139,
   "id": "97d59d7a",
   "metadata": {},
   "outputs": [],
   "source": [
    "# 수익율 계산하는 프로그램 만들기 \n",
    "\n",
    "close_values = {}\n",
    "for key in keyList:\n",
    "    \n",
    "    close_values[key] = data[key].loc['2022-01-03'].Close\n"
   ]
  },
  {
   "cell_type": "code",
   "execution_count": 140,
   "id": "8489cd5d",
   "metadata": {},
   "outputs": [
    {
     "data": {
      "text/plain": [
       "{'spy': 477.7099914550781,\n",
       " 'bond_ief': 113.93000030517578,\n",
       " 'long_bond_tlt': 144.3000030517578,\n",
       " 'gold_gld': 168.3300018310547,\n",
       " 'material_dbc': 20.860000610351562}"
      ]
     },
     "execution_count": 140,
     "metadata": {},
     "output_type": "execute_result"
    }
   ],
   "source": [
    "close_values"
   ]
  },
  {
   "cell_type": "code",
   "execution_count": 141,
   "id": "1ed8871c",
   "metadata": {},
   "outputs": [],
   "source": [
    "def get_close(date):\n",
    "    \n",
    "    day = date_con(date)\n",
    "    close_values = {}\n",
    "    for key in keyList:\n",
    "\n",
    "        close_values[key] = data[key].loc[day].Close\n",
    "        \n",
    "    return close_values"
   ]
  },
  {
   "cell_type": "code",
   "execution_count": 144,
   "id": "9eed1b2b",
   "metadata": {
    "collapsed": true
   },
   "outputs": [
    {
     "data": {
      "text/plain": [
       "{'spy':                   Open        High         Low       Close   Adj Close  \\\n",
       " Date                                                                     \n",
       " 2000-10-02  144.281250  144.906250  143.140625  143.843750   95.400520   \n",
       " 2000-10-03  144.531250  145.750000  142.281250  142.500000   94.509331   \n",
       " 2000-10-04  142.875000  144.250000  141.750000  143.687500   95.296875   \n",
       " 2000-10-05  143.406250  144.843750  143.312500  144.187500   95.628479   \n",
       " 2000-10-06  143.875000  144.640625  139.750000  141.062500   93.555954   \n",
       " ...                ...         ...         ...         ...         ...   \n",
       " 2022-09-26  366.410004  370.209991  363.029999  364.309998  364.309998   \n",
       " 2022-09-27  368.019989  370.399994  360.869995  363.380005  363.380005   \n",
       " 2022-09-28  364.380005  372.299988  362.600006  370.529999  370.529999   \n",
       " 2022-09-29  366.809998  367.109985  359.700012  362.790009  362.790009   \n",
       " 2022-09-30  361.799988  365.910004  357.040009  357.179993  357.179993   \n",
       " \n",
       "                Volume  Dividends  Stock Splits  \n",
       " Date                                            \n",
       " 2000-10-02    5517800        0.0             0  \n",
       " 2000-10-03    9347200        0.0             0  \n",
       " 2000-10-04    6148900        0.0             0  \n",
       " 2000-10-05    4566900        0.0             0  \n",
       " 2000-10-06   10014900        0.0             0  \n",
       " ...               ...        ...           ...  \n",
       " 2022-09-26   92581200        0.0             0  \n",
       " 2022-09-27  108294100        0.0             0  \n",
       " 2022-09-28  110802200        0.0             0  \n",
       " 2022-09-29  112952300        0.0             0  \n",
       " 2022-09-30  153396100        0.0             0  \n",
       " \n",
       " [5535 rows x 8 columns],\n",
       " 'bond_ief':                  Open       High        Low      Close  Adj Close   Volume  \\\n",
       " Date                                                                         \n",
       " 2002-07-30  81.940002  82.120003  81.699997  81.769997  46.041061    41300   \n",
       " 2002-07-31  82.050003  82.580002  82.050003  82.519997  46.463348    32600   \n",
       " 2002-08-01  82.540001  82.900002  82.519997  82.860001  46.654800    71400   \n",
       " 2002-08-02  83.019997  83.699997  82.900002  83.500000  47.015144   120300   \n",
       " 2002-08-05  83.680000  83.919998  83.529999  83.919998  47.251598   159300   \n",
       " ...               ...        ...        ...        ...        ...      ...   \n",
       " 2022-09-26  96.290001  96.300003  95.070000  95.209999  95.209999  8015500   \n",
       " 2022-09-27  95.239998  95.349998  94.510002  94.559998  94.559998  8668400   \n",
       " 2022-09-28  95.900002  96.800003  95.519997  96.690002  96.690002  8471700   \n",
       " 2022-09-29  95.980003  96.580002  95.889999  96.239998  96.239998  6056500   \n",
       " 2022-09-30  96.660004  96.879997  95.660004  95.989998  95.989998  8846900   \n",
       " \n",
       "             Dividends  Stock Splits  \n",
       " Date                                 \n",
       " 2002-07-30        0.0             0  \n",
       " 2002-07-31        0.0             0  \n",
       " 2002-08-01        0.0             0  \n",
       " 2002-08-02        0.0             0  \n",
       " 2002-08-05        0.0             0  \n",
       " ...               ...           ...  \n",
       " 2022-09-26        0.0             0  \n",
       " 2022-09-27        0.0             0  \n",
       " 2022-09-28        0.0             0  \n",
       " 2022-09-29        0.0             0  \n",
       " 2022-09-30        0.0             0  \n",
       " \n",
       " [5080 rows x 8 columns],\n",
       " 'long_bond_tlt':                   Open        High         Low       Close   Adj Close  \\\n",
       " Date                                                                     \n",
       " 2002-07-30   81.750000   81.900002   81.519997   81.519997   41.635693   \n",
       " 2002-07-31   81.949997   82.800003   81.900002   82.529999   42.151577   \n",
       " 2002-08-01   82.540001   83.019997   82.540001   83.000000   42.391651   \n",
       " 2002-08-02   83.160004   84.099998   82.879997   83.849998   42.825756   \n",
       " 2002-08-05   84.040001   84.440002   83.849998   84.220001   43.014725   \n",
       " ...                ...         ...         ...         ...         ...   \n",
       " 2022-09-26  105.360001  105.410004  103.220001  103.680000  103.680000   \n",
       " 2022-09-27  102.709999  102.980003  100.900002  100.949997  100.949997   \n",
       " 2022-09-28  103.129997  104.449997  102.480003  104.330002  104.330002   \n",
       " 2022-09-29  102.900002  104.230003  102.800003  103.790001  103.790001   \n",
       " 2022-09-30  104.269997  104.860001  102.230003  102.449997  102.449997   \n",
       " \n",
       "               Volume  Dividends  Stock Splits  \n",
       " Date                                           \n",
       " 2002-07-30      6100        0.0             0  \n",
       " 2002-07-31     29400        0.0             0  \n",
       " 2002-08-01     25000        0.0             0  \n",
       " 2002-08-02     52800        0.0             0  \n",
       " 2002-08-05     61100        0.0             0  \n",
       " ...              ...        ...           ...  \n",
       " 2022-09-26  25104600        0.0             0  \n",
       " 2022-09-27  34609500        0.0             0  \n",
       " 2022-09-28  39283100        0.0             0  \n",
       " 2022-09-29  19127100        0.0             0  \n",
       " 2022-09-30  26479600        0.0             0  \n",
       " \n",
       " [5080 rows x 8 columns],\n",
       " 'gold_gld':                   Open        High         Low       Close   Adj Close  \\\n",
       " Date                                                                     \n",
       " 2004-11-18   44.430000   44.490002   44.070000   44.380001   44.380001   \n",
       " 2004-11-19   44.490002   44.919998   44.470001   44.779999   44.779999   \n",
       " 2004-11-22   44.750000   44.970001   44.740002   44.950001   44.950001   \n",
       " 2004-11-23   44.880001   44.919998   44.720001   44.750000   44.750000   \n",
       " 2004-11-24   44.930000   45.049999   44.790001   45.049999   45.049999   \n",
       " ...                ...         ...         ...         ...         ...   \n",
       " 2022-09-26  153.220001  153.509995  151.029999  151.229996  151.229996   \n",
       " 2022-09-27  152.250000  152.729996  151.500000  151.539993  151.539993   \n",
       " 2022-09-28  153.199997  154.880005  152.929993  154.690002  154.690002   \n",
       " 2022-09-29  154.139999  155.029999  153.160004  154.660004  154.660004   \n",
       " 2022-09-30  154.940002  156.039993  154.570007  154.669998  154.669998   \n",
       " \n",
       "               Volume  Dividends  Stock Splits  \n",
       " Date                                           \n",
       " 2004-11-18   5992000          0             0  \n",
       " 2004-11-19  11655300          0             0  \n",
       " 2004-11-22  11996000          0             0  \n",
       " 2004-11-23   3169200          0             0  \n",
       " 2004-11-24   6105100          0             0  \n",
       " ...              ...        ...           ...  \n",
       " 2022-09-26   8240500          0             0  \n",
       " 2022-09-27   7151300          0             0  \n",
       " 2022-09-28   8977200          0             0  \n",
       " 2022-09-29   6317000          0             0  \n",
       " 2022-09-30   6827900          0             0  \n",
       " \n",
       " [4498 rows x 8 columns],\n",
       " 'material_dbc':                  Open       High        Low      Close  Adj Close   Volume  \\\n",
       " Date                                                                         \n",
       " 2006-02-06  24.549999  24.660000  24.100000  24.200001  22.048338   771500   \n",
       " 2006-02-07  24.049999  24.200001  23.450001  23.500000  21.410580   674400   \n",
       " 2006-02-08  23.490000  23.670000  23.330000  23.400000  21.319468   335400   \n",
       " 2006-02-09  23.559999  23.820000  23.510000  23.620001  21.519911   705900   \n",
       " 2006-02-10  23.650000  23.690001  23.100000  23.190001  21.128143   276700   \n",
       " ...               ...        ...        ...        ...        ...      ...   \n",
       " 2022-09-26  23.910000  24.120001  23.420000  23.450001  23.450001  5110900   \n",
       " 2022-09-27  23.799999  24.010000  23.629999  23.700001  23.700001  2834800   \n",
       " 2022-09-28  23.879999  24.370001  23.820000  24.360001  24.360001  2314300   \n",
       " 2022-09-29  24.350000  24.400000  24.070000  24.209999  24.209999  2066100   \n",
       " 2022-09-30  24.020000  24.250000  23.840000  23.910000  23.910000  3944400   \n",
       " \n",
       "             Dividends  Stock Splits  \n",
       " Date                                 \n",
       " 2006-02-06        0.0             0  \n",
       " 2006-02-07        0.0             0  \n",
       " 2006-02-08        0.0             0  \n",
       " 2006-02-09        0.0             0  \n",
       " 2006-02-10        0.0             0  \n",
       " ...               ...           ...  \n",
       " 2022-09-26        0.0             0  \n",
       " 2022-09-27        0.0             0  \n",
       " 2022-09-28        0.0             0  \n",
       " 2022-09-29        0.0             0  \n",
       " 2022-09-30        0.0             0  \n",
       " \n",
       " [4193 rows x 8 columns]}"
      ]
     },
     "execution_count": 144,
     "metadata": {},
     "output_type": "execute_result"
    }
   ],
   "source": [
    "data"
   ]
  },
  {
   "cell_type": "code",
   "execution_count": 158,
   "id": "4b8e3af9",
   "metadata": {
    "scrolled": true
   },
   "outputs": [],
   "source": [
    "prices = get_close(20100902)"
   ]
  },
  {
   "cell_type": "code",
   "execution_count": null,
   "id": "dae59531",
   "metadata": {},
   "outputs": [],
   "source": []
  },
  {
   "cell_type": "code",
   "execution_count": 99,
   "id": "0f4e1eed",
   "metadata": {},
   "outputs": [
    {
     "ename": "SyntaxError",
     "evalue": "invalid syntax (2861946190.py, line 1)",
     "output_type": "error",
     "traceback": [
      "\u001b[0;36m  Input \u001b[0;32mIn [99]\u001b[0;36m\u001b[0m\n\u001b[0;31m    prices['spy']*.30 + prices['ief']*.15 + prices['long_bond_tlt']*.40 + prices['gold_gld']*.7.5 + prices['material_dbc']*.7.5\u001b[0m\n\u001b[0m                                                                                               ^\u001b[0m\n\u001b[0;31mSyntaxError\u001b[0m\u001b[0;31m:\u001b[0m invalid syntax\n"
     ]
    }
   ],
   "source": [
    "prices['spy']*.30 + prices['ief']*.15 + prices['long_bond_tlt']*.40 + prices['gold_gld']*.7.5 + prices['material_dbc']*.7.5\n",
    "\n",
    "\n",
    "\n"
   ]
  },
  {
   "cell_type": "code",
   "execution_count": 101,
   "id": "d27521cc",
   "metadata": {},
   "outputs": [],
   "source": [
    "current_price  = (prices['spy']*.30 + prices['bond_ief']*.15 \n",
    "                  + prices['long_bond_tlt']*.40\n",
    "                 + prices['gold_gld']*.75 \n",
    "                 +prices['material_dbc']*.75)"
   ]
  },
  {
   "cell_type": "code",
   "execution_count": 88,
   "id": "111d2eee",
   "metadata": {},
   "outputs": [
    {
     "data": {
      "text/plain": [
       "306.5834994316101"
      ]
     },
     "execution_count": 88,
     "metadata": {},
     "output_type": "execute_result"
    }
   ],
   "source": [
    "current_price"
   ]
  },
  {
   "cell_type": "code",
   "execution_count": 102,
   "id": "ea52e9ab",
   "metadata": {},
   "outputs": [
    {
     "data": {
      "text/plain": [
       "360.0150005340576"
      ]
     },
     "execution_count": 102,
     "metadata": {},
     "output_type": "execute_result"
    }
   ],
   "source": [
    "current_price"
   ]
  },
  {
   "cell_type": "code",
   "execution_count": 107,
   "id": "d99cb0cf",
   "metadata": {},
   "outputs": [],
   "source": [
    "\n",
    "def get_a4p_price(prices):\n",
    "\n",
    "\n",
    "    current_price  = (prices['spy']*.30 + prices['bond_ief']*.15 \n",
    "                  + prices['long_bond_tlt']*.40\n",
    "                 + prices['gold_gld']*.75 \n",
    "                 +prices['material_dbc']*.75)\n",
    "\n",
    "    return current_price"
   ]
  },
  {
   "cell_type": "code",
   "execution_count": 159,
   "id": "a268436f",
   "metadata": {},
   "outputs": [],
   "source": [
    "price1 = get_close(20100503)"
   ]
  },
  {
   "cell_type": "code",
   "execution_count": 160,
   "id": "e9f2117d",
   "metadata": {},
   "outputs": [],
   "source": [
    "price2 = get_close(20220922)"
   ]
  },
  {
   "cell_type": "code",
   "execution_count": 161,
   "id": "f27ed9c1",
   "metadata": {},
   "outputs": [
    {
     "data": {
      "text/plain": [
       "191.53000249862671"
      ]
     },
     "execution_count": 161,
     "metadata": {},
     "output_type": "execute_result"
    }
   ],
   "source": [
    "get_a4p_price(price1)"
   ]
  },
  {
   "cell_type": "code",
   "execution_count": 162,
   "id": "a5e77ae6",
   "metadata": {},
   "outputs": [
    {
     "data": {
      "text/plain": [
       "304.2914965629578"
      ]
     },
     "execution_count": 162,
     "metadata": {},
     "output_type": "execute_result"
    }
   ],
   "source": [
    "get_a4p_price(price2)"
   ]
  },
  {
   "cell_type": "code",
   "execution_count": 163,
   "id": "26e6ffc3",
   "metadata": {},
   "outputs": [
    {
     "data": {
      "text/plain": [
       "0.5887406285871039"
      ]
     },
     "execution_count": 163,
     "metadata": {},
     "output_type": "execute_result"
    }
   ],
   "source": [
    "(get_a4p_price(price2) - get_a4p_price(price1))/get_a4p_price(price1)"
   ]
  },
  {
   "cell_type": "code",
   "execution_count": 164,
   "id": "eaefa06c",
   "metadata": {},
   "outputs": [],
   "source": [
    "import numpy as np"
   ]
  },
  {
   "cell_type": "code",
   "execution_count": 169,
   "id": "0b36a7ac",
   "metadata": {},
   "outputs": [
    {
     "data": {
      "text/plain": [
       "1.2601587201618691"
      ]
     },
     "execution_count": 169,
     "metadata": {},
     "output_type": "execute_result"
    }
   ],
   "source": [
    "(1.588)**(1/2)"
   ]
  },
  {
   "cell_type": "code",
   "execution_count": 170,
   "id": "148c736b",
   "metadata": {},
   "outputs": [
    {
     "data": {
      "text/plain": [
       "1.2601587201618691"
      ]
     },
     "execution_count": 170,
     "metadata": {},
     "output_type": "execute_result"
    }
   ],
   "source": [
    "np.sqrt(1.588)"
   ]
  },
  {
   "cell_type": "code",
   "execution_count": 175,
   "id": "58bb5b57",
   "metadata": {},
   "outputs": [
    {
     "data": {
      "text/plain": [
       "1.0429395482032753"
      ]
     },
     "execution_count": 175,
     "metadata": {},
     "output_type": "execute_result"
    }
   ],
   "source": [
    "(1.588)**(1/11)"
   ]
  },
  {
   "cell_type": "code",
   "execution_count": null,
   "id": "5f00a1a9",
   "metadata": {},
   "outputs": [],
   "source": []
  }
 ],
 "metadata": {
  "kernelspec": {
   "display_name": "firstEnv",
   "language": "python",
   "name": "firstenv"
  },
  "language_info": {
   "codemirror_mode": {
    "name": "ipython",
    "version": 3
   },
   "file_extension": ".py",
   "mimetype": "text/x-python",
   "name": "python",
   "nbconvert_exporter": "python",
   "pygments_lexer": "ipython3",
   "version": "3.9.12"
  }
 },
 "nbformat": 4,
 "nbformat_minor": 5
}
